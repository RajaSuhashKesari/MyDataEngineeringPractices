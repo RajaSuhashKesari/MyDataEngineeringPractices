{
  "nbformat": 4,
  "nbformat_minor": 0,
  "metadata": {
    "colab": {
      "provenance": [],
      "authorship_tag": "ABX9TyOfC/V6z4TZYI+R49+K0NM5",
      "include_colab_link": true
    },
    "kernelspec": {
      "name": "python3",
      "display_name": "Python 3"
    },
    "language_info": {
      "name": "python"
    }
  },
  "cells": [
    {
      "cell_type": "markdown",
      "metadata": {
        "id": "view-in-github",
        "colab_type": "text"
      },
      "source": [
        "<a href=\"https://colab.research.google.com/github/RajaSuhashKesari/MyDataEngineeringPractices/blob/main/repartition()_and_coalesce().ipynb\" target=\"_parent\"><img src=\"https://colab.research.google.com/assets/colab-badge.svg\" alt=\"Open In Colab\"/></a>"
      ]
    },
    {
      "cell_type": "code",
      "execution_count": 2,
      "metadata": {
        "id": "NJPFpkRe3_jP"
      },
      "outputs": [],
      "source": [
        "from pyspark.sql import SparkSession\n",
        "spark = SparkSession.builder.appName('repartition() and  coalesce()').getOrCreate()\n",
        "sc = spark.sparkContext"
      ]
    },
    {
      "cell_type": "code",
      "source": [
        "data = list(range(1,1000))\n",
        "rdd_nums = sc.parallelize(data)"
      ],
      "metadata": {
        "id": "zbq45B0D4FjC"
      },
      "execution_count": 3,
      "outputs": []
    },
    {
      "cell_type": "code",
      "source": [
        "print(\"partitions before repartition\",rdd_nums.getNumPartitions())"
      ],
      "metadata": {
        "colab": {
          "base_uri": "https://localhost:8080/"
        },
        "id": "Ryn6bfGW4a1t",
        "outputId": "efa84967-8d64-4cc6-b2a1-9bfa94062f25"
      },
      "execution_count": 13,
      "outputs": [
        {
          "output_type": "stream",
          "name": "stdout",
          "text": [
            "partitions before repartition 2\n"
          ]
        }
      ]
    },
    {
      "cell_type": "markdown",
      "source": [
        "## **After repartition**\n",
        "repartion() will be help full to increase or decrease the number of partitions"
      ],
      "metadata": {
        "id": "K9eZUg0P4-nT"
      }
    },
    {
      "cell_type": "code",
      "source": [
        "rdd_nums2 = rdd_nums.repartition(200)\n",
        "print(\"partitions after repartition\",rdd_nums2.getNumPartitions())"
      ],
      "metadata": {
        "colab": {
          "base_uri": "https://localhost:8080/"
        },
        "id": "SmVRpPIa4gq8",
        "outputId": "2dab5ec6-7b34-4446-9324-c4a0b92039e7"
      },
      "execution_count": 14,
      "outputs": [
        {
          "output_type": "stream",
          "name": "stdout",
          "text": [
            "partitions after repartition 200\n"
          ]
        }
      ]
    },
    {
      "cell_type": "markdown",
      "source": [
        "## **After coalesce**\n",
        "coalesce() will be help full to only decrease the number of partitions"
      ],
      "metadata": {
        "id": "9mfKiLab5gSP"
      }
    },
    {
      "cell_type": "code",
      "source": [
        "rdd_nums3 = rdd_nums.coalesce(1)\n",
        "rdd_nums3.getNumPartitions()"
      ],
      "metadata": {
        "colab": {
          "base_uri": "https://localhost:8080/"
        },
        "id": "Dn99F-uy5D3b",
        "outputId": "1b17c0dc-c7aa-45ba-c3f6-40572423a6bf"
      },
      "execution_count": 12,
      "outputs": [
        {
          "output_type": "execute_result",
          "data": {
            "text/plain": [
              "1"
            ]
          },
          "metadata": {},
          "execution_count": 12
        }
      ]
    },
    {
      "cell_type": "code",
      "source": [],
      "metadata": {
        "id": "VPTNa4vu5dpM"
      },
      "execution_count": null,
      "outputs": []
    }
  ]
}