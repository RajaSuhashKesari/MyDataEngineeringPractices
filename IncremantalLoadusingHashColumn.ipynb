{
  "nbformat": 4,
  "nbformat_minor": 0,
  "metadata": {
    "colab": {
      "provenance": [],
      "authorship_tag": "ABX9TyNf9GEbou2Hao1b2JTv7YAN",
      "include_colab_link": true
    },
    "kernelspec": {
      "name": "python3",
      "display_name": "Python 3"
    },
    "language_info": {
      "name": "python"
    }
  },
  "cells": [
    {
      "cell_type": "markdown",
      "metadata": {
        "id": "view-in-github",
        "colab_type": "text"
      },
      "source": [
        "<a href=\"https://colab.research.google.com/github/RajaSuhashKesari/MyDataEngineeringPractices/blob/main/IncremantalLoadusingHashColumn.ipynb\" target=\"_parent\"><img src=\"https://colab.research.google.com/assets/colab-badge.svg\" alt=\"Open In Colab\"/></a>"
      ]
    },
    {
      "cell_type": "code",
      "execution_count": 3,
      "metadata": {
        "colab": {
          "base_uri": "https://localhost:8080/"
        },
        "id": "qlMwlC0_wDmN",
        "outputId": "0cff8abc-892b-4706-8148-d97f70e0d4ef"
      },
      "outputs": [
        {
          "output_type": "stream",
          "name": "stdout",
          "text": [
            "🔵 Target Data:\n",
            "+---+-------+\n",
            "| id|   name|\n",
            "+---+-------+\n",
            "|  1|  Alice|\n",
            "|  2|    Bob|\n",
            "|  3|Charlie|\n",
            "+---+-------+\n",
            "\n",
            "🟢 Source Data:\n",
            "+---+-------+\n",
            "| id|   name|\n",
            "+---+-------+\n",
            "|  1|  Alice|\n",
            "|  2|    Bob|\n",
            "|  3|Charlie|\n",
            "|  4|  David|\n",
            "|  5|    Eve|\n",
            "|  6|  Frank|\n",
            "|  7|  Grace|\n",
            "+---+-------+\n",
            "\n"
          ]
        }
      ],
      "source": [
        "from pyspark.sql import SparkSession\n",
        "from pyspark.sql.types import StructType, StructField, IntegerType, StringType\n",
        "from pyspark.sql.functions import col\n",
        "\n",
        "# Start Spark\n",
        "spark = SparkSession.builder.appName(\"IncrementalLoadDemo\").getOrCreate()\n",
        "\n",
        "# 🟢 Simulate the source data (e.g., new incoming data)\n",
        "source_data = [\n",
        "    (1, \"Alice\"),\n",
        "    (2, \"Bob\"),\n",
        "    (3, \"Charlie\"),\n",
        "    (4, \"David\"),\n",
        "    (5, \"Eve\"),\n",
        "    (6, \"Frank\"),\n",
        "    (7, \"Grace\")\n",
        "]\n",
        "\n",
        "# 🔵 Simulate the target (already loaded) data\n",
        "target_data = [\n",
        "    (1, \"Alice\"),\n",
        "    (2, \"Bob\"),\n",
        "    (3, \"Charlie\")\n",
        "]\n",
        "\n",
        "# Define schema\n",
        "schema = StructType([\n",
        "    StructField(\"id\", IntegerType(), True),\n",
        "    StructField(\"name\", StringType(), True)\n",
        "])\n",
        "\n",
        "# Create DataFrames\n",
        "source_df = spark.createDataFrame(source_data, schema)\n",
        "target_df = spark.createDataFrame(target_data, schema)\n",
        "\n",
        "# Show both\n",
        "print(\"🔵 Target Data:\")\n",
        "target_df.show()\n",
        "\n",
        "print(\"🟢 Source Data:\")\n",
        "source_df.show()\n"
      ]
    },
    {
      "cell_type": "code",
      "source": [
        "from pyspark.sql.functions import sha2,concat_ws"
      ],
      "metadata": {
        "id": "3V7A_rQKxNPM"
      },
      "execution_count": 1,
      "outputs": []
    },
    {
      "cell_type": "code",
      "source": [
        "staging_df = source_df\n",
        "staging_df = staging_df.withColumn(\"hash\",sha2(concat_ws(\"||\",*staging_df.columns),256))\n",
        "staging_df.show()\n",
        "target_df = target_df.withColumn(\"hash\",sha2(concat_ws(\"||\",*target_df.columns),256))\n",
        "target_df.show()"
      ],
      "metadata": {
        "colab": {
          "base_uri": "https://localhost:8080/"
        },
        "id": "HckILkF8xTnZ",
        "outputId": "1e32dc0c-14bc-4df7-cdb1-0afe4746fdcc"
      },
      "execution_count": 5,
      "outputs": [
        {
          "output_type": "stream",
          "name": "stdout",
          "text": [
            "+---+-------+--------------------+\n",
            "| id|   name|                hash|\n",
            "+---+-------+--------------------+\n",
            "|  1|  Alice|7b487f35c19464008...|\n",
            "|  2|    Bob|47e43681306972ff1...|\n",
            "|  3|Charlie|6c4c2863a1da2e2e0...|\n",
            "|  4|  David|d1e2e0f0a17c16174...|\n",
            "|  5|    Eve|3c50586e6386ea2fa...|\n",
            "|  6|  Frank|8741e8d992c9a3f0c...|\n",
            "|  7|  Grace|e48755cf95108e3a3...|\n",
            "+---+-------+--------------------+\n",
            "\n",
            "+---+-------+--------------------+\n",
            "| id|   name|                hash|\n",
            "+---+-------+--------------------+\n",
            "|  1|  Alice|7b487f35c19464008...|\n",
            "|  2|    Bob|47e43681306972ff1...|\n",
            "|  3|Charlie|6c4c2863a1da2e2e0...|\n",
            "+---+-------+--------------------+\n",
            "\n"
          ]
        }
      ]
    },
    {
      "cell_type": "code",
      "source": [
        "change_data = staging_df.join(target_df,on=\"id\",how=\"left_anti\")\n",
        "change_data.show()"
      ],
      "metadata": {
        "colab": {
          "base_uri": "https://localhost:8080/"
        },
        "id": "xwmrYruZxfLs",
        "outputId": "2be84c17-66f9-4657-eb1e-c4dcd90b23d7"
      },
      "execution_count": 6,
      "outputs": [
        {
          "output_type": "stream",
          "name": "stdout",
          "text": [
            "+---+-----+--------------------+\n",
            "| id| name|                hash|\n",
            "+---+-----+--------------------+\n",
            "|  6|Frank|8741e8d992c9a3f0c...|\n",
            "|  5|  Eve|3c50586e6386ea2fa...|\n",
            "|  4|David|d1e2e0f0a17c16174...|\n",
            "|  7|Grace|e48755cf95108e3a3...|\n",
            "+---+-----+--------------------+\n",
            "\n"
          ]
        }
      ]
    },
    {
      "cell_type": "code",
      "source": [
        "target_df = target_df.union(change_data).drop(\"hash\")\n",
        "target_df.show()"
      ],
      "metadata": {
        "colab": {
          "base_uri": "https://localhost:8080/"
        },
        "id": "d_SqaVMxyd4M",
        "outputId": "166e4733-66a3-49ee-efbb-44439a292e9b"
      },
      "execution_count": 7,
      "outputs": [
        {
          "output_type": "stream",
          "name": "stdout",
          "text": [
            "+---+-------+\n",
            "| id|   name|\n",
            "+---+-------+\n",
            "|  1|  Alice|\n",
            "|  2|    Bob|\n",
            "|  3|Charlie|\n",
            "|  6|  Frank|\n",
            "|  5|    Eve|\n",
            "|  4|  David|\n",
            "|  7|  Grace|\n",
            "+---+-------+\n",
            "\n"
          ]
        }
      ]
    },
    {
      "cell_type": "code",
      "source": [],
      "metadata": {
        "id": "wgZCcRaByuy-"
      },
      "execution_count": null,
      "outputs": []
    }
  ]
}