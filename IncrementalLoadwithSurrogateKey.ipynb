{
  "nbformat": 4,
  "nbformat_minor": 0,
  "metadata": {
    "colab": {
      "provenance": [],
      "authorship_tag": "ABX9TyN2f/2xg8bweKdzVHzyJLgz"
    },
    "kernelspec": {
      "name": "python3",
      "display_name": "Python 3"
    },
    "language_info": {
      "name": "python"
    }
  },
  "cells": [
    {
      "cell_type": "code",
      "execution_count": 1,
      "metadata": {
        "colab": {
          "base_uri": "https://localhost:8080/"
        },
        "id": "kHv0Em8S7qiM",
        "outputId": "80a13f8e-4f17-4cc2-c9d6-8388d3ce6c1b"
      },
      "outputs": [
        {
          "output_type": "stream",
          "name": "stdout",
          "text": [
            "🔵 Target Data:\n",
            "+---+-------+\n",
            "| id|   name|\n",
            "+---+-------+\n",
            "|  1|  Alice|\n",
            "|  2|    Bob|\n",
            "|  3|Charlie|\n",
            "+---+-------+\n",
            "\n",
            "🟢 Source Data:\n",
            "+---+-------+\n",
            "| id|   name|\n",
            "+---+-------+\n",
            "|  1|  Alice|\n",
            "|  2|    Bob|\n",
            "|  3|Charlie|\n",
            "|  4|  David|\n",
            "|  5|    Eve|\n",
            "|  6|  Frank|\n",
            "|  7|  Grace|\n",
            "+---+-------+\n",
            "\n"
          ]
        }
      ],
      "source": [
        "from pyspark.sql import SparkSession\n",
        "from pyspark.sql.types import StructType, StructField, IntegerType, StringType\n",
        "from pyspark.sql.functions import col\n",
        "\n",
        "# Start Spark\n",
        "spark = SparkSession.builder.appName(\"IncrementalLoadDemo\").getOrCreate()\n",
        "\n",
        "# 🟢 Simulate the source data (e.g., new incoming data)\n",
        "source_data = [\n",
        "    (1, \"Alice\"),\n",
        "    (2, \"Bob\"),\n",
        "    (3, \"Charlie\"),\n",
        "    (4, \"David\"),\n",
        "    (5, \"Eve\"),\n",
        "    (6, \"Frank\"),\n",
        "    (7, \"Grace\")\n",
        "]\n",
        "\n",
        "# 🔵 Simulate the target (already loaded) data\n",
        "target_data = [\n",
        "    (1, \"Alice\"),\n",
        "    (2, \"Bob\"),\n",
        "    (3, \"Charlie\")\n",
        "]\n",
        "\n",
        "# Define schema\n",
        "schema = StructType([\n",
        "    StructField(\"id\", IntegerType(), True),\n",
        "    StructField(\"name\", StringType(), True)\n",
        "])\n",
        "\n",
        "# Create DataFrames\n",
        "source_df = spark.createDataFrame(source_data, schema)\n",
        "target_df = spark.createDataFrame(target_data, schema)\n",
        "\n",
        "# Show both\n",
        "print(\"🔵 Target Data:\")\n",
        "target_df.show()\n",
        "\n",
        "print(\"🟢 Source Data:\")\n",
        "source_df.show()\n"
      ]
    },
    {
      "cell_type": "markdown",
      "source": [
        "Save max_id to log file"
      ],
      "metadata": {
        "id": "y2hnsUbe7wyk"
      }
    },
    {
      "cell_type": "code",
      "source": [
        "# prompt: implement python function that is going to read the txt file and return last line in the file\n",
        "\n",
        "def get_max_id():\n",
        "  try:\n",
        "    with open(\"/content/log.txt\", 'r') as f:\n",
        "      lines = f.readlines()\n",
        "      if lines:\n",
        "        return lines[-1].strip() # Use strip() to remove potential newline characters\n",
        "      else:\n",
        "        return None\n",
        "  except FileNotFoundError:\n",
        "    print(f\"Error: File not found at /content/log.txt\")\n",
        "    return None\n",
        "  except Exception as e:\n",
        "    print(f\"An error occurred: {e}\")\n",
        "    return None\n"
      ],
      "metadata": {
        "id": "mW-F-iFU7_q0"
      },
      "execution_count": 2,
      "outputs": []
    },
    {
      "cell_type": "markdown",
      "source": [
        "Load max_id from log file"
      ],
      "metadata": {
        "id": "veBm_tVd76lf"
      }
    },
    {
      "cell_type": "code",
      "source": [
        "def save_message_to_file(message):\n",
        "    try:\n",
        "        with open(\"/content/log.txt\", 'a') as file:\n",
        "            file.write(message + '\\n')\n",
        "        print(f\"Message saved to /content/log.txt\")\n",
        "    except Exception as e:\n",
        "        print(f\"An error occurred while saving the message: {e}\")\n"
      ],
      "metadata": {
        "id": "8hc2eG2T8sZu"
      },
      "execution_count": 3,
      "outputs": []
    },
    {
      "cell_type": "code",
      "source": [
        "save_message_to_file(\"3\")"
      ],
      "metadata": {
        "colab": {
          "base_uri": "https://localhost:8080/"
        },
        "id": "rHUUnHMG_L8c",
        "outputId": "88e1dc20-d58d-4614-a514-a0f31bb25fc4"
      },
      "execution_count": 5,
      "outputs": [
        {
          "output_type": "stream",
          "name": "stdout",
          "text": [
            "Message saved to /content/log.txt\n"
          ]
        }
      ]
    },
    {
      "cell_type": "markdown",
      "source": [
        "Change data capture"
      ],
      "metadata": {
        "id": "oo5nnU-5--N0"
      }
    },
    {
      "cell_type": "code",
      "source": [
        "max_id = int(get_max_id())\n",
        "changes_df = source_df.filter(source_df.id > max_id)\n",
        "changes_df.cache()\n",
        "changes_df.show()"
      ],
      "metadata": {
        "colab": {
          "base_uri": "https://localhost:8080/"
        },
        "id": "c7rS7XmI-9x7",
        "outputId": "00ae93d1-0a68-48e3-997d-e14dcd45a8b9"
      },
      "execution_count": 14,
      "outputs": [
        {
          "output_type": "stream",
          "name": "stdout",
          "text": [
            "+---+-----+\n",
            "| id| name|\n",
            "+---+-----+\n",
            "|  4|David|\n",
            "|  5|  Eve|\n",
            "|  6|Frank|\n",
            "|  7|Grace|\n",
            "+---+-----+\n",
            "\n"
          ]
        }
      ]
    },
    {
      "cell_type": "code",
      "source": [
        "target_df = target_df.union(changes_df)\n",
        "max_id = target_df.agg({\"id\": \"max\"}).collect()[0][0]\n",
        "target_df.show()\n",
        "save_message_to_file(str(max_id))"
      ],
      "metadata": {
        "colab": {
          "base_uri": "https://localhost:8080/"
        },
        "id": "6UyDowhA758Z",
        "outputId": "227215c5-6175-40d9-d8cd-b11768d43823"
      },
      "execution_count": 15,
      "outputs": [
        {
          "output_type": "stream",
          "name": "stdout",
          "text": [
            "+---+-------+\n",
            "| id|   name|\n",
            "+---+-------+\n",
            "|  1|  Alice|\n",
            "|  2|    Bob|\n",
            "|  3|Charlie|\n",
            "|  4|  David|\n",
            "|  5|    Eve|\n",
            "|  6|  Frank|\n",
            "|  7|  Grace|\n",
            "+---+-------+\n",
            "\n",
            "Message saved to /content/log.txt\n"
          ]
        }
      ]
    },
    {
      "cell_type": "code",
      "source": [
        "target_df.show()"
      ],
      "metadata": {
        "colab": {
          "base_uri": "https://localhost:8080/"
        },
        "id": "5cH0KtlD7vnL",
        "outputId": "d391bb5b-c8c9-47f7-f668-84267a85e957"
      },
      "execution_count": 16,
      "outputs": [
        {
          "output_type": "stream",
          "name": "stdout",
          "text": [
            "+---+-------+\n",
            "| id|   name|\n",
            "+---+-------+\n",
            "|  1|  Alice|\n",
            "|  2|    Bob|\n",
            "|  3|Charlie|\n",
            "|  4|  David|\n",
            "|  5|    Eve|\n",
            "|  6|  Frank|\n",
            "|  7|  Grace|\n",
            "+---+-------+\n",
            "\n"
          ]
        }
      ]
    },
    {
      "cell_type": "code",
      "source": [
        "source_data = [\n",
        "    (1, \"Alice\"),\n",
        "    (2, \"Bob\"),\n",
        "    (3, \"Charlie\"),\n",
        "    (4, \"David\"),\n",
        "    (5, \"Eve\"),\n",
        "    (6, \"Frank\"),\n",
        "    (7, \"Grace\"),\n",
        "    (8, \"Henry\"),\n",
        "    (9, \"Ivy\"),\n",
        "    (10, \"Jack\"),\n",
        "    (11, \"Kelly\"),\n",
        "    (12, \"Liam\"),\n",
        "    (13, \"Mia\"),\n",
        "    (14, \"Noah\"),\n",
        "    (15, \"Olivia\")\n",
        "]\n",
        "source_df = spark.createDataFrame(source_data, schema)"
      ],
      "metadata": {
        "id": "PyU4nfin7ruo"
      },
      "execution_count": 20,
      "outputs": []
    },
    {
      "cell_type": "code",
      "source": [
        "max_id = int(get_max_id())\n",
        "changes_df = source_df.filter(source_df.id > max_id)\n",
        "changes_df.cache()\n",
        "changes_df.show()\n",
        "target_df = target_df.union(changes_df)\n",
        "max_id = target_df.agg({\"id\": \"max\"}).collect()[0][0]\n",
        "target_df.show()\n",
        "save_message_to_file(str(max_id))"
      ],
      "metadata": {
        "colab": {
          "base_uri": "https://localhost:8080/"
        },
        "id": "Ticygqm7ug78",
        "outputId": "7e299630-cde5-4ca6-e999-0894f517f987"
      },
      "execution_count": 21,
      "outputs": [
        {
          "output_type": "stream",
          "name": "stdout",
          "text": [
            "+---+------+\n",
            "| id|  name|\n",
            "+---+------+\n",
            "|  8| Henry|\n",
            "|  9|   Ivy|\n",
            "| 10|  Jack|\n",
            "| 11| Kelly|\n",
            "| 12|  Liam|\n",
            "| 13|   Mia|\n",
            "| 14|  Noah|\n",
            "| 15|Olivia|\n",
            "+---+------+\n",
            "\n",
            "+---+-------+\n",
            "| id|   name|\n",
            "+---+-------+\n",
            "|  1|  Alice|\n",
            "|  2|    Bob|\n",
            "|  3|Charlie|\n",
            "|  4|  David|\n",
            "|  5|    Eve|\n",
            "|  6|  Frank|\n",
            "|  7|  Grace|\n",
            "|  8|  Henry|\n",
            "|  9|    Ivy|\n",
            "| 10|   Jack|\n",
            "| 11|  Kelly|\n",
            "| 12|   Liam|\n",
            "| 13|    Mia|\n",
            "| 14|   Noah|\n",
            "| 15| Olivia|\n",
            "+---+-------+\n",
            "\n",
            "Message saved to /content/log.txt\n"
          ]
        }
      ]
    },
    {
      "cell_type": "code",
      "source": [],
      "metadata": {
        "id": "4N-Zkhttul7h"
      },
      "execution_count": null,
      "outputs": []
    }
  ]
}