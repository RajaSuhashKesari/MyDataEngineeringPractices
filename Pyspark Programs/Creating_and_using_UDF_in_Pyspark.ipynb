{
  "nbformat": 4,
  "nbformat_minor": 0,
  "metadata": {
    "colab": {
      "provenance": [],
      "authorship_tag": "ABX9TyPrOT56EeSCALp6T47nYxCX",
      "include_colab_link": true
    },
    "kernelspec": {
      "name": "python3",
      "display_name": "Python 3"
    },
    "language_info": {
      "name": "python"
    }
  },
  "cells": [
    {
      "cell_type": "markdown",
      "metadata": {
        "id": "view-in-github",
        "colab_type": "text"
      },
      "source": [
        "<a href=\"https://colab.research.google.com/github/RajaSuhashKesari/MyDataEngineeringPractices/blob/main/Creating_and_using_UDF_in_Pyspark.ipynb\" target=\"_parent\"><img src=\"https://colab.research.google.com/assets/colab-badge.svg\" alt=\"Open In Colab\"/></a>"
      ]
    },
    {
      "cell_type": "markdown",
      "source": [
        "##**`Importing packages`**"
      ],
      "metadata": {
        "id": "8DgYA4FHpi2p"
      }
    },
    {
      "cell_type": "code",
      "execution_count": 6,
      "metadata": {
        "id": "r34Ar03yHTXT"
      },
      "outputs": [],
      "source": [
        "from pyspark.sql import SparkSession\n",
        "from pyspark.sql.functions import udf,col\n",
        "spark = SparkSession.builder.appName('Creating and using UDF in Pyspark').getOrCreate()"
      ]
    },
    {
      "cell_type": "markdown",
      "source": [
        "# **`Data`**"
      ],
      "metadata": {
        "id": "stbVUnM9p_bi"
      }
    },
    {
      "cell_type": "code",
      "source": [
        "#data to create dataframe\n",
        "data = [(\"The product is great\",),\n",
        "        (\"Worst service ever\",),\n",
        "        (\"Okay experience\",),\n",
        "        (\"Not good at all\",),\n",
        "        (\"Happy with the support\",),\n",
        "        (None,),\n",
        "        (\"This is average\",)]"
      ],
      "metadata": {
        "id": "UIbUTb0SH0a5"
      },
      "execution_count": 2,
      "outputs": []
    },
    {
      "cell_type": "markdown",
      "source": [
        "# **`Creating Dataframe`**"
      ],
      "metadata": {
        "id": "Zbv7r0Ypqb58"
      }
    },
    {
      "cell_type": "code",
      "source": [
        "feedbacks_df = spark.createDataFrame(data=data,schema=['review'])\n",
        "feedbacks_df.show()"
      ],
      "metadata": {
        "colab": {
          "base_uri": "https://localhost:8080/"
        },
        "id": "Iz10PwayHpoX",
        "outputId": "0f66d67b-acd2-46f4-be64-9977f70a4314"
      },
      "execution_count": 3,
      "outputs": [
        {
          "output_type": "stream",
          "name": "stdout",
          "text": [
            "+--------------------+\n",
            "|              review|\n",
            "+--------------------+\n",
            "|The product is great|\n",
            "|  Worst service ever|\n",
            "|     Okay experience|\n",
            "|     Not good at all|\n",
            "|Happy with the su...|\n",
            "|                NULL|\n",
            "|     This is average|\n",
            "+--------------------+\n",
            "\n"
          ]
        }
      ]
    },
    {
      "cell_type": "markdown",
      "source": [
        "### **Python function which is going to classify the feedbacks into positive, negative and neutral**"
      ],
      "metadata": {
        "id": "BmY-2VEpIRhI"
      }
    },
    {
      "cell_type": "code",
      "source": [
        "def classify_feedback(feedback):\n",
        "  if feedback == None:\n",
        "    return \"Unknown\"\n",
        "\n",
        "  feedback = feedback.lower()\n",
        "  if \"great\" in feedback or \"excellent\" in feedback or \"happy\" in feedback:\n",
        "    return \"Positive\"\n",
        "  elif \"bad\" in feedback or \"not good\" in feedback or \"worst\" in feedback:\n",
        "    return \"Negative\"\n",
        "  elif \"fine\" in feedback or \"okay\" in feedback:\n",
        "    return \"Neutral\"\n",
        "  else:\n",
        "    return \"Uncategorized\""
      ],
      "metadata": {
        "id": "zaa5v40wIIXm"
      },
      "execution_count": 10,
      "outputs": []
    },
    {
      "cell_type": "markdown",
      "source": [
        "# **`Register UDF in Pyspark`**"
      ],
      "metadata": {
        "id": "2JzfMJ92qjx0"
      }
    },
    {
      "cell_type": "code",
      "source": [
        "udf_classify_feedback = udf(classify_feedback)"
      ],
      "metadata": {
        "id": "IUgv1IaTn2-w"
      },
      "execution_count": 12,
      "outputs": []
    },
    {
      "cell_type": "markdown",
      "source": [
        "# **`Using UDF in Pyspark`**"
      ],
      "metadata": {
        "id": "7do3AAj3qw3U"
      }
    },
    {
      "cell_type": "code",
      "source": [
        "feedbacks_df = feedbacks_df.withColumn('sentiment', udf_classify_feedback(feedbacks_df['review']))\n",
        "feedbacks_df.show()"
      ],
      "metadata": {
        "colab": {
          "base_uri": "https://localhost:8080/"
        },
        "id": "0jMDPmvMJ9va",
        "outputId": "26eea785-94cc-4184-d092-0fba668a6711"
      },
      "execution_count": 13,
      "outputs": [
        {
          "output_type": "stream",
          "name": "stdout",
          "text": [
            "+--------------------+-------------+\n",
            "|              review|    sentiment|\n",
            "+--------------------+-------------+\n",
            "|The product is great|     Positive|\n",
            "|  Worst service ever|     Negative|\n",
            "|     Okay experience|      Neutral|\n",
            "|     Not good at all|     Negative|\n",
            "|Happy with the su...|     Positive|\n",
            "|                NULL|      Unknown|\n",
            "|     This is average|Uncategorized|\n",
            "+--------------------+-------------+\n",
            "\n"
          ]
        }
      ]
    },
    {
      "cell_type": "code",
      "source": [],
      "metadata": {
        "id": "Ln2Sd5hXKOzV"
      },
      "execution_count": null,
      "outputs": []
    }
  ]
}
