{
  "nbformat": 4,
  "nbformat_minor": 0,
  "metadata": {
    "colab": {
      "provenance": [],
      "authorship_tag": "ABX9TyMD2684VSDoMiEVAoK8wL0P",
      "include_colab_link": true
    },
    "kernelspec": {
      "name": "python3",
      "display_name": "Python 3"
    },
    "language_info": {
      "name": "python"
    }
  },
  "cells": [
    {
      "cell_type": "markdown",
      "metadata": {
        "id": "view-in-github",
        "colab_type": "text"
      },
      "source": [
        "<a href=\"https://colab.research.google.com/github/RajaSuhashKesari/MyDataEngineeringPractices/blob/main/Pyspark%20Programs/sum_the_numerics_in_zipcodes_into_new_column.ipynb\" target=\"_parent\"><img src=\"https://colab.research.google.com/assets/colab-badge.svg\" alt=\"Open In Colab\"/></a>"
      ]
    },
    {
      "cell_type": "code",
      "execution_count": 3,
      "metadata": {
        "colab": {
          "base_uri": "https://localhost:8080/"
        },
        "id": "oPqj5al_WoCR",
        "outputId": "90bcd089-c058-49c4-a9fe-55f963b835b7"
      },
      "outputs": [
        {
          "output_type": "stream",
          "name": "stdout",
          "text": [
            "+---+-----------+------+----------+\n",
            "| id| department|salary|  zip_code|\n",
            "+---+-----------+------+----------+\n",
            "|  1|         HR| 55000|ab23h7fcs4|\n",
            "|  2|         IT| 72000|xk87j2qwe9|\n",
            "|  3|Engineering| 95000|mz56v1pkl3|\n",
            "|  4|         HR| 63000|ql29u8zxy2|\n",
            "|  5|         IT| 88000|nj31e5ras8|\n",
            "|  6|Engineering| 60000|wd94k6mnb1|\n",
            "+---+-----------+------+----------+\n",
            "\n"
          ]
        }
      ],
      "source": [
        "from pyspark.sql import SparkSession\n",
        "from pyspark.sql.types import StructType, StructField, IntegerType, StringType\n",
        "from pyspark.sql.functions import udf\n",
        "\n",
        "# Create Spark session\n",
        "spark = SparkSession.builder.appName(\"DepartmentData\").getOrCreate()\n",
        "\n",
        "# Sample data\n",
        "data = [\n",
        "    (1, \"HR\", 55000, \"ab23h7fcs4\"),\n",
        "    (2, \"IT\", 72000, \"xk87j2qwe9\"),\n",
        "    (3, \"Engineering\", 95000, \"mz56v1pkl3\"),\n",
        "    (4, \"HR\", 63000, \"ql29u8zxy2\"),\n",
        "    (5, \"IT\", 88000, \"nj31e5ras8\"),\n",
        "    (6, \"Engineering\", 60000, \"wd94k6mnb1\")\n",
        "]\n",
        "\n",
        "# Define schema\n",
        "schema = StructType([\n",
        "    StructField(\"id\", IntegerType(), True),\n",
        "    StructField(\"department\", StringType(), True),\n",
        "    StructField(\"salary\", IntegerType(), True),\n",
        "    StructField(\"zip_code\", StringType(), True)\n",
        "])\n",
        "\n",
        "# Create DataFrame\n",
        "df = spark.createDataFrame(data, schema)\n",
        "\n",
        "# Show the DataFrame\n",
        "df.show()\n"
      ]
    },
    {
      "cell_type": "code",
      "source": [
        "#user defined function for zip code transformations\n",
        "def extract_nums_zipcode(zipcode):\n",
        "  zipcode = list(zipcode)\n",
        "  sum = 0\n",
        "  for i in zipcode:\n",
        "    if i.isdigit(): sum += int(i)\n",
        "  return sum\n",
        "udf_extract_nums_zipcode = udf(extract_nums_zipcode, IntegerType())"
      ],
      "metadata": {
        "id": "bhr7VLBHYIFW"
      },
      "execution_count": 4,
      "outputs": []
    },
    {
      "cell_type": "markdown",
      "source": [
        "#Adding new zip code"
      ],
      "metadata": {
        "id": "QyMa_OYNaeEW"
      }
    },
    {
      "cell_type": "code",
      "source": [
        "df = df.withColumn(\"New_zip_code\", udf_extract_nums_zipcode(\"zip_code\"))\n",
        "df.show()"
      ],
      "metadata": {
        "colab": {
          "base_uri": "https://localhost:8080/"
        },
        "id": "X5Cnhn2RXYy4",
        "outputId": "8dfe2d76-0d07-482d-b6c8-c78cdbf65b94"
      },
      "execution_count": 5,
      "outputs": [
        {
          "output_type": "stream",
          "name": "stdout",
          "text": [
            "+---+-----------+------+----------+------------+\n",
            "| id| department|salary|  zip_code|New_zip_code|\n",
            "+---+-----------+------+----------+------------+\n",
            "|  1|         HR| 55000|ab23h7fcs4|          16|\n",
            "|  2|         IT| 72000|xk87j2qwe9|          26|\n",
            "|  3|Engineering| 95000|mz56v1pkl3|          15|\n",
            "|  4|         HR| 63000|ql29u8zxy2|          21|\n",
            "|  5|         IT| 88000|nj31e5ras8|          17|\n",
            "|  6|Engineering| 60000|wd94k6mnb1|          20|\n",
            "+---+-----------+------+----------+------------+\n",
            "\n"
          ]
        }
      ]
    },
    {
      "cell_type": "code",
      "source": [],
      "metadata": {
        "id": "TzrwtGMraN4-"
      },
      "execution_count": null,
      "outputs": []
    }
  ]
}