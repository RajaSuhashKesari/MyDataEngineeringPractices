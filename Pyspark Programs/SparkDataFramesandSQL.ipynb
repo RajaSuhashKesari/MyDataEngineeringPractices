{
  "nbformat": 4,
  "nbformat_minor": 0,
  "metadata": {
    "colab": {
      "provenance": [],
      "authorship_tag": "ABX9TyM7+BYUdm9TWs/2nscorp5J",
      "include_colab_link": true
    },
    "kernelspec": {
      "name": "python3",
      "display_name": "Python 3"
    },
    "language_info": {
      "name": "python"
    }
  },
  "cells": [
    {
      "cell_type": "markdown",
      "metadata": {
        "id": "view-in-github",
        "colab_type": "text"
      },
      "source": [
        "<a href=\"https://colab.research.google.com/github/RajaSuhashKesari/MyDataEngineeringPractices/blob/main/Pyspark%20Programs/SparkDataFramesandSQL.ipynb\" target=\"_parent\"><img src=\"https://colab.research.google.com/assets/colab-badge.svg\" alt=\"Open In Colab\"/></a>"
      ]
    },
    {
      "cell_type": "code",
      "execution_count": 39,
      "metadata": {
        "id": "tQhK_2KzU4dO"
      },
      "outputs": [],
      "source": [
        "from pyspark.sql import SparkSession"
      ]
    },
    {
      "cell_type": "code",
      "source": [
        "from pyspark.sql.types import StructType, StructField, StringType, IntegerType, DoubleType, LongType"
      ],
      "metadata": {
        "id": "VttZVVwEX5O1"
      },
      "execution_count": 40,
      "outputs": []
    },
    {
      "cell_type": "code",
      "source": [
        "spark = SparkSession.Builder().appName(\"NYSE\").getOrCreate()"
      ],
      "metadata": {
        "id": "VwIFpEpLVHLq"
      },
      "execution_count": 41,
      "outputs": []
    },
    {
      "cell_type": "code",
      "source": [
        "spark.sparkContext.textFile(\"/content/NYSE.csv\").take(5)"
      ],
      "metadata": {
        "colab": {
          "base_uri": "https://localhost:8080/"
        },
        "id": "IRI2J6PsavC4",
        "outputId": "81fc69cd-0da9-4394-9599-3930639ba386"
      },
      "execution_count": 42,
      "outputs": [
        {
          "output_type": "execute_result",
          "data": {
            "text/plain": [
              "['NYSE,AEA,2010-02-08,4.42,4.42,4.21,4.24,205500,4.24',\n",
              " 'NYSE,AEA,2010-02-05,4.42,4.54,4.22,4.41,194300,4.41',\n",
              " 'NYSE,AEA,2010-02-04,4.55,4.69,4.39,4.42,233800,4.42',\n",
              " 'NYSE,AEA,2010-02-03,4.65,4.69,4.50,4.55,182100,4.55',\n",
              " 'NYSE,AEA,2010-02-02,4.74,5.00,4.62,4.66,222700,4.66']"
            ]
          },
          "metadata": {},
          "execution_count": 42
        }
      ]
    },
    {
      "cell_type": "code",
      "source": [
        "schema_nyse = StructType().add(\"exc_name\",StringType(),True).add(\"stock_id\",StringType(),True).add(\"stock_date\",StringType(),True).add(\"open_price\",DoubleType(),True).add(\"high_price\",DoubleType(),True).add(\"low_price\",DoubleType(),True).add(\"close_price\",DoubleType(),True).add(\"volume\",LongType(),True).add(\"adj_close\",DoubleType(),True)"
      ],
      "metadata": {
        "id": "z6BPH3aAW668"
      },
      "execution_count": 43,
      "outputs": []
    },
    {
      "cell_type": "code",
      "source": [
        "df_with_schema = spark.read.format(\"csv\").option(\"header\",\"False\").option(\"delimiter\",\",\").schema(schema_nyse).load(\"/content/NYSE.csv\")"
      ],
      "metadata": {
        "id": "LfrVny6mZAYN"
      },
      "execution_count": 44,
      "outputs": []
    },
    {
      "cell_type": "code",
      "source": [
        "df_with_schema.printSchema()"
      ],
      "metadata": {
        "colab": {
          "base_uri": "https://localhost:8080/"
        },
        "id": "OXa-Ju9FZ5vO",
        "outputId": "abc99029-8fc0-4655-d8de-268a9c756c56"
      },
      "execution_count": 45,
      "outputs": [
        {
          "output_type": "stream",
          "name": "stdout",
          "text": [
            "root\n",
            " |-- exc_name: string (nullable = true)\n",
            " |-- stock_id: string (nullable = true)\n",
            " |-- stock_date: string (nullable = true)\n",
            " |-- open_price: double (nullable = true)\n",
            " |-- high_price: double (nullable = true)\n",
            " |-- low_price: double (nullable = true)\n",
            " |-- close_price: double (nullable = true)\n",
            " |-- volume: long (nullable = true)\n",
            " |-- adj_close: double (nullable = true)\n",
            "\n"
          ]
        }
      ]
    },
    {
      "cell_type": "code",
      "source": [
        "df_with_schema.show(10)"
      ],
      "metadata": {
        "colab": {
          "base_uri": "https://localhost:8080/"
        },
        "id": "Pf8y_W0FZ8Jn",
        "outputId": "09e5e91e-293a-4088-efad-11b4b1f36853"
      },
      "execution_count": 46,
      "outputs": [
        {
          "output_type": "stream",
          "name": "stdout",
          "text": [
            "+--------+--------+----------+----------+----------+---------+-----------+------+---------+\n",
            "|exc_name|stock_id|stock_date|open_price|high_price|low_price|close_price|volume|adj_close|\n",
            "+--------+--------+----------+----------+----------+---------+-----------+------+---------+\n",
            "|    NYSE|     AEA|2010-02-08|      4.42|      4.42|     4.21|       4.24|205500|     4.24|\n",
            "|    NYSE|     AEA|2010-02-05|      4.42|      4.54|     4.22|       4.41|194300|     4.41|\n",
            "|    NYSE|     AEA|2010-02-04|      4.55|      4.69|     4.39|       4.42|233800|     4.42|\n",
            "|    NYSE|     AEA|2010-02-03|      4.65|      4.69|      4.5|       4.55|182100|     4.55|\n",
            "|    NYSE|     AEA|2010-02-02|      4.74|       5.0|     4.62|       4.66|222700|     4.66|\n",
            "|    NYSE|     AEA|2010-02-01|      4.84|      4.92|     4.68|       4.75|194800|     4.75|\n",
            "|    NYSE|     AEA|2010-01-29|      4.97|      5.05|     4.76|       4.83|222900|     4.83|\n",
            "|    NYSE|     AEA|2010-01-28|      5.12|      5.22|     4.81|       4.98|283100|     4.98|\n",
            "|    NYSE|     AEA|2010-01-27|      4.82|      5.16|     4.79|       5.09|243500|     5.09|\n",
            "|    NYSE|     AEA|2010-01-26|      5.18|      5.18|     4.81|       4.84|554800|     4.84|\n",
            "+--------+--------+----------+----------+----------+---------+-----------+------+---------+\n",
            "only showing top 10 rows\n",
            "\n"
          ]
        }
      ]
    },
    {
      "cell_type": "code",
      "source": [
        "df_with_schema.createOrReplaceTempView(\"nyse\")"
      ],
      "metadata": {
        "id": "CTwTs-lUaIDV"
      },
      "execution_count": 47,
      "outputs": []
    },
    {
      "cell_type": "code",
      "source": [
        "StockVolume = spark.sql(\"select stock_id, sum(volume) as total_volume from nyse group by stock_id order by total_volume desc\")"
      ],
      "metadata": {
        "id": "iUGoRlN3cpcP"
      },
      "execution_count": 48,
      "outputs": []
    },
    {
      "cell_type": "code",
      "source": [
        "StockVolume.show(10)"
      ],
      "metadata": {
        "colab": {
          "base_uri": "https://localhost:8080/"
        },
        "id": "v_9dcJDOcxg9",
        "outputId": "cce75158-687b-48d0-ab25-38e999d2f398"
      },
      "execution_count": 49,
      "outputs": [
        {
          "output_type": "stream",
          "name": "stdout",
          "text": [
            "+--------+------------+\n",
            "|stock_id|total_volume|\n",
            "+--------+------------+\n",
            "|     AMD| 47252808500|\n",
            "|      AA| 42061448400|\n",
            "|     AXP| 40263020300|\n",
            "|     AVP| 32074528500|\n",
            "|     AET| 30218027200|\n",
            "|     ABT| 25664130200|\n",
            "|     AMR| 22505621700|\n",
            "|     ABX| 16691172100|\n",
            "|     APC| 15555731900|\n",
            "|     ADM| 15354593500|\n",
            "+--------+------------+\n",
            "only showing top 10 rows\n",
            "\n"
          ]
        }
      ]
    },
    {
      "cell_type": "code",
      "source": [
        "StockVolume.write.csv(\"/content/StockVolumes\")"
      ],
      "metadata": {
        "id": "kolr3n-eczrA"
      },
      "execution_count": 51,
      "outputs": []
    },
    {
      "cell_type": "code",
      "source": [],
      "metadata": {
        "id": "v9DLKmBSgdAE"
      },
      "execution_count": null,
      "outputs": []
    }
  ]
}