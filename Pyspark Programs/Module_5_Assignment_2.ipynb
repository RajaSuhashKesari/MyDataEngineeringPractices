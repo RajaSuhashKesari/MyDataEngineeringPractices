{
  "cells": [
    {
      "cell_type": "markdown",
      "metadata": {
        "id": "view-in-github",
        "colab_type": "text"
      },
      "source": [
        "<a href=\"https://colab.research.google.com/github/RajaSuhashKesari/MyDataEngineeringPractices/blob/main/Pyspark%20Programs/Module_5_Assignment_2.ipynb\" target=\"_parent\"><img src=\"https://colab.research.google.com/assets/colab-badge.svg\" alt=\"Open In Colab\"/></a>"
      ]
    },
    {
      "cell_type": "code",
      "execution_count": null,
      "metadata": {
        "id": "0o5EzLDsqFWs"
      },
      "outputs": [],
      "source": [
        "from pyspark.sql import SparkSession"
      ]
    },
    {
      "cell_type": "code",
      "execution_count": null,
      "metadata": {
        "id": "uLxI9ZwqwHqf"
      },
      "outputs": [],
      "source": [
        "spark = SparkSession.builder.appName('Logs').getOrCreate()"
      ]
    },
    {
      "cell_type": "code",
      "execution_count": null,
      "metadata": {
        "id": "z6v4oEwqwMtp"
      },
      "outputs": [],
      "source": [
        "sc=spark.sparkContext"
      ]
    },
    {
      "cell_type": "markdown",
      "metadata": {
        "id": "GrpExf9cw63-"
      },
      "source": [
        "# **1. Load file as a text file in spark**"
      ]
    },
    {
      "cell_type": "code",
      "execution_count": null,
      "metadata": {
        "colab": {
          "base_uri": "https://localhost:8080/"
        },
        "id": "qNq8ICNiwRIU",
        "outputId": "c93ba857-7129-4b86-ac44-59a880e9f880"
      },
      "outputs": [
        {
          "output_type": "execute_result",
          "data": {
            "text/plain": [
              "['',\n",
              " '109.169.248.247 - - [12/Dec/2015:18:25:11 +0100] GET /administrator/ HTTP/1.1 200 4263 - Mozilla/5.0 (Windows NT 6.0; rv:34.0) Gecko/20100101 Firefox/34.0 -',\n",
              " '109.169.248.247 - - [12/Dec/2015:18:25:11 +0100] POST /administrator/index.php HTTP/1.1 200 4494 http://almhuette-raith.at/administrator/ Mozilla/5.0 (Windows NT 6.0; rv:34.0) Gecko/20100101 Firefox/34.0 -',\n",
              " '46.72.177.4 - - [12/Dec/2015:18:31:08 +0100] GET /administrator/ HTTP/1.1 200 4263 - Mozilla/5.0 (Windows NT 6.0; rv:34.0) Gecko/20100101 Firefox/34.0 -',\n",
              " '46.72.177.4 - - [12/Dec/2015:18:31:08 +0100] POST /administrator/index.php HTTP/1.1 200 4494 http://almhuette-raith.at/administrator/ Mozilla/5.0 (Windows NT 6.0; rv:34.0) Gecko/20100101 Firefox/34.0 -',\n",
              " '83.167.113.100 - - [12/Dec/2015:18:31:25 +0100] GET /administrator/ HTTP/1.1 200 4263 - Mozilla/5.0 (Windows NT 6.0; rv:34.0) Gecko/20100101 Firefox/34.0 -',\n",
              " '83.167.113.100 - - [12/Dec/2015:18:31:25 +0100] POST /administrator/index.php HTTP/1.1 200 4494 http://almhuette-raith.at/administrator/ Mozilla/5.0 (Windows NT 6.0; rv:34.0) Gecko/20100101 Firefox/34.0 -',\n",
              " '95.29.198.15 - - [12/Dec/2015:18:32:10 +0100] GET /administrator/ HTTP/1.1 200 4263 - Mozilla/5.0 (Windows NT 6.0; rv:34.0) Gecko/20100101 Firefox/34.0 -',\n",
              " '95.29.198.15 - - [12/Dec/2015:18:32:11 +0100] POST /administrator/index.php HTTP/1.1 200 4494 http://almhuette-raith.at/administrator/ Mozilla/5.0 (Windows NT 6.0; rv:34.0) Gecko/20100101 Firefox/34.0 -',\n",
              " '109.184.11.34 - - [12/Dec/2015:18:32:56 +0100] GET /administrator/ HTTP/1.1 200 4263 - Mozilla/5.0 (Windows NT 6.0; rv:34.0) Gecko/20100101 Firefox/34.0 -']"
            ]
          },
          "metadata": {},
          "execution_count": 31
        }
      ],
      "source": [
        "logs_rdd = sc.textFile('/content/access.log')\n",
        "logs_rdd.take(10)"
      ]
    },
    {
      "cell_type": "code",
      "execution_count": null,
      "metadata": {
        "colab": {
          "base_uri": "https://localhost:8080/"
        },
        "id": "dtzPyJ7x32V_",
        "outputId": "833aa49f-6e63-47f5-ce0d-b5daa3cc0b33"
      },
      "outputs": [
        {
          "output_type": "stream",
          "name": "stdout",
          "text": [
            "['95.181.179.162', '-', '-', '[22/Jan/2016:11:33:36', '+0100]', 'GET', '/wp-login.php', 'HTTP/1.1', '404', '218', '-', 'Mozilla/4.0', '(compatible', '', 'MSIE', '8.0', '', 'Windows', 'NT', '6.1', '', 'Trident/4.0', '', 'MRSPUTNIK', '2,', '4,', '0,', '270', '', 'MRA', '5.8', '(build', '4110)', '', 'SLCC2', '', '.NET', 'CLR', '2.0.50727', '', '.NET', 'CLR', '3.5.30729', '', '.NET', 'CLR', '3.0.30729', '', 'Media', 'Center', 'PC', '6.0)', '-']\n"
          ]
        }
      ],
      "source": [
        "for i in logs_rdd.map(lambda x: x.split(' ')).collect():\n",
        "  if len(i) == 53 :\n",
        "    print(i)"
      ]
    },
    {
      "cell_type": "markdown",
      "metadata": {
        "id": "OsZKb9IgxKic"
      },
      "source": [
        "# **2. Find out how many 404 HTTP codes are in access logs.**\n"
      ]
    },
    {
      "cell_type": "code",
      "execution_count": null,
      "metadata": {
        "colab": {
          "base_uri": "https://localhost:8080/"
        },
        "id": "kC-Pr_tSwmOU",
        "outputId": "713a406e-cd92-4424-db6c-b89e541fca31"
      },
      "outputs": [
        {
          "output_type": "stream",
          "name": "stdout",
          "text": [
            "The number of 404 http codes present : 119664\n"
          ]
        }
      ],
      "source": [
        "HTTP_codes_404= logs_rdd.filter(lambda x: '404' in x)\n",
        "print(\"The number of 404 http codes present :\",HTTP_codes_404.count())"
      ]
    },
    {
      "cell_type": "markdown",
      "metadata": {
        "id": "Az3R7cyb1fOy"
      },
      "source": [
        "# **3. Find out which URLs are broken**\n"
      ]
    },
    {
      "cell_type": "code",
      "execution_count": null,
      "metadata": {
        "colab": {
          "base_uri": "https://localhost:8080/"
        },
        "id": "QvVM-4Mr2Ykd",
        "outputId": "1d9bc5d3-8b8f-4fd9-d0c8-59387057e956"
      },
      "outputs": [
        {
          "output_type": "stream",
          "name": "stdout",
          "text": [
            "/templates/_system/css/general.css\n",
            "/templates/_system/css/general.css\n",
            "/favicon.ico\n",
            "/icons/text.gif\n",
            "/templates/_system/css/general.css\n",
            "/apache-log/error.log.44.gz\n",
            "/apache-log/access.log.69.gz\n",
            "/apache-log/error.log.55.gz\n",
            "/templates/_system/css/general.css\n",
            "/favicon.ico\n",
            "/templates/_system/css/general.css\n",
            "/templates/_system/css/general.css\n",
            "/templates/_system/css/general.css\n",
            "/templates/_system/css/general.css\n",
            "/templates/_system/css/general.css\n",
            "/favicon.ico\n",
            "/favicon.ico\n",
            "/templates/_system/css/general.css\n",
            "/templates/_system/css/general.css\n",
            "/templates/_system/css/general.css\n"
          ]
        }
      ],
      "source": [
        "broken_urls_rdd = logs_rdd.filter(lambda x: '404' in x).map(lambda x: x.split(' ')[6])\n",
        "for i in broken_urls_rdd.take(20):\n",
        "  print(i)"
      ]
    },
    {
      "cell_type": "markdown",
      "metadata": {
        "id": "0_ZKTG_M1vpX"
      },
      "source": [
        "# **4. Verify there are no null columns in the original dataset**"
      ]
    },
    {
      "cell_type": "code",
      "source": [
        "from pyspark.sql import SparkSession\n",
        "from pyspark.sql.functions import regexp_extract\n",
        "\n",
        "# Start Spark session\n",
        "spark = SparkSession.builder.appName(\"ApacheLogParser\").getOrCreate()\n",
        "\n",
        "# Read the log file as a text file\n",
        "log_file_path = \"/content/access.log\"\n",
        "logs_df = spark.read.text(log_file_path)\n",
        "\n",
        "# Define regex pattern\n",
        "log_pattern = r'^(\\S+) - - \\[(.*?)\\] (\\S+) (\\S+) \\S+ (\\d{3}) (\\d+) (\\S+) (.+)$'\n",
        "\n",
        "# Extract fields using regex\n",
        "logs_df = logs_df.selectExpr(\"value as line\") \\\n",
        "    .withColumn(\"ip\", regexp_extract(\"line\", log_pattern, 1)) \\\n",
        "    .withColumn(\"timestamp\", regexp_extract(\"line\", log_pattern, 2)) \\\n",
        "    .withColumn(\"method\", regexp_extract(\"line\", log_pattern, 3)) \\\n",
        "    .withColumn(\"endpoint\", regexp_extract(\"line\", log_pattern, 4)) \\\n",
        "    .withColumn(\"status_code\", regexp_extract(\"line\", log_pattern, 5)) \\\n",
        "    .withColumn(\"size\", regexp_extract(\"line\", log_pattern, 6)) \\\n",
        "    .withColumn(\"referrer\", regexp_extract(\"line\", log_pattern, 7)) \\\n",
        "    .withColumn(\"user_agent\", regexp_extract(\"line\", log_pattern, 8)) \\\n",
        "    .drop(\"line\")"
      ],
      "metadata": {
        "id": "4uV0jRiE_j0R"
      },
      "execution_count": null,
      "outputs": []
    },
    {
      "cell_type": "code",
      "source": [
        "from pyspark.sql.functions import col\n",
        "\n",
        "# Count rows with at least one null\n",
        "null_rows_count = logs_df.filter(\n",
        "    sum(col(c).isNull().cast(\"int\") for c in logs_df.columns) > 0\n",
        ").count()\n",
        "\n",
        "print(f\"Number of rows with at least one null value: {null_rows_count}\")\n"
      ],
      "metadata": {
        "colab": {
          "base_uri": "https://localhost:8080/"
        },
        "id": "UtGY6Lhc_zdf",
        "outputId": "b5d06aac-cfac-4f64-8643-8e0213c12e7a"
      },
      "execution_count": null,
      "outputs": [
        {
          "output_type": "stream",
          "name": "stdout",
          "text": [
            "Number of rows with at least one null value: 0\n"
          ]
        }
      ]
    },
    {
      "cell_type": "markdown",
      "metadata": {
        "id": "UQD_6RBW1wbm"
      },
      "source": [
        "# **5. Replace null values with constants such as 0**"
      ]
    },
    {
      "cell_type": "code",
      "execution_count": null,
      "metadata": {
        "id": "VagFAWvRBilN",
        "colab": {
          "base_uri": "https://localhost:8080/"
        },
        "outputId": "27f32807-4265-44c0-8fde-4167a8bd7564"
      },
      "outputs": [
        {
          "output_type": "stream",
          "name": "stdout",
          "text": [
            "+---------------+--------------------------+------+------------------------+-----------+----+----------------------------------------+-------------------------------------------------------------------+\n",
            "|ip             |timestamp                 |method|endpoint                |status_code|size|referrer                                |user_agent                                                         |\n",
            "+---------------+--------------------------+------+------------------------+-----------+----+----------------------------------------+-------------------------------------------------------------------+\n",
            "|               |                          |      |                        |           |    |                                        |                                                                   |\n",
            "|109.169.248.247|12/Dec/2015:18:25:11 +0100|GET   |/administrator/         |200        |4263|-                                       |Mozilla/5.0 (Windows NT 6.0; rv:34.0) Gecko/20100101 Firefox/34.0 -|\n",
            "|109.169.248.247|12/Dec/2015:18:25:11 +0100|POST  |/administrator/index.php|200        |4494|http://almhuette-raith.at/administrator/|Mozilla/5.0 (Windows NT 6.0; rv:34.0) Gecko/20100101 Firefox/34.0 -|\n",
            "|46.72.177.4    |12/Dec/2015:18:31:08 +0100|GET   |/administrator/         |200        |4263|-                                       |Mozilla/5.0 (Windows NT 6.0; rv:34.0) Gecko/20100101 Firefox/34.0 -|\n",
            "|46.72.177.4    |12/Dec/2015:18:31:08 +0100|POST  |/administrator/index.php|200        |4494|http://almhuette-raith.at/administrator/|Mozilla/5.0 (Windows NT 6.0; rv:34.0) Gecko/20100101 Firefox/34.0 -|\n",
            "|83.167.113.100 |12/Dec/2015:18:31:25 +0100|GET   |/administrator/         |200        |4263|-                                       |Mozilla/5.0 (Windows NT 6.0; rv:34.0) Gecko/20100101 Firefox/34.0 -|\n",
            "|83.167.113.100 |12/Dec/2015:18:31:25 +0100|POST  |/administrator/index.php|200        |4494|http://almhuette-raith.at/administrator/|Mozilla/5.0 (Windows NT 6.0; rv:34.0) Gecko/20100101 Firefox/34.0 -|\n",
            "|95.29.198.15   |12/Dec/2015:18:32:10 +0100|GET   |/administrator/         |200        |4263|-                                       |Mozilla/5.0 (Windows NT 6.0; rv:34.0) Gecko/20100101 Firefox/34.0 -|\n",
            "|95.29.198.15   |12/Dec/2015:18:32:11 +0100|POST  |/administrator/index.php|200        |4494|http://almhuette-raith.at/administrator/|Mozilla/5.0 (Windows NT 6.0; rv:34.0) Gecko/20100101 Firefox/34.0 -|\n",
            "|109.184.11.34  |12/Dec/2015:18:32:56 +0100|GET   |/administrator/         |200        |4263|-                                       |Mozilla/5.0 (Windows NT 6.0; rv:34.0) Gecko/20100101 Firefox/34.0 -|\n",
            "|109.184.11.34  |12/Dec/2015:18:32:56 +0100|POST  |/administrator/index.php|200        |4494|http://almhuette-raith.at/administrator/|Mozilla/5.0 (Windows NT 6.0; rv:34.0) Gecko/20100101 Firefox/34.0 -|\n",
            "|91.227.29.79   |12/Dec/2015:18:33:51 +0100|GET   |/administrator/         |200        |4263|-                                       |Mozilla/5.0 (Windows NT 6.0; rv:34.0) Gecko/20100101 Firefox/34.0 -|\n",
            "|91.227.29.79   |12/Dec/2015:18:33:52 +0100|POST  |/administrator/index.php|200        |4494|http://almhuette-raith.at/administrator/|Mozilla/5.0 (Windows NT 6.0; rv:34.0) Gecko/20100101 Firefox/34.0 -|\n",
            "|90.154.66.233  |12/Dec/2015:18:36:16 +0100|GET   |/administrator/         |200        |4263|-                                       |Mozilla/5.0 (Windows NT 6.0; rv:34.0) Gecko/20100101 Firefox/34.0 -|\n",
            "|90.154.66.233  |12/Dec/2015:18:36:16 +0100|POST  |/administrator/index.php|200        |4494|http://almhuette-raith.at/administrator/|Mozilla/5.0 (Windows NT 6.0; rv:34.0) Gecko/20100101 Firefox/34.0 -|\n",
            "|95.140.24.131  |12/Dec/2015:18:38:42 +0100|GET   |/administrator/         |200        |4263|-                                       |Mozilla/5.0 (Windows NT 6.0; rv:34.0) Gecko/20100101 Firefox/34.0 -|\n",
            "|95.140.24.131  |12/Dec/2015:18:38:42 +0100|POST  |/administrator/index.php|200        |4494|http://almhuette-raith.at/administrator/|Mozilla/5.0 (Windows NT 6.0; rv:34.0) Gecko/20100101 Firefox/34.0 -|\n",
            "|95.188.245.16  |12/Dec/2015:18:38:55 +0100|GET   |/administrator/         |200        |4263|-                                       |Mozilla/5.0 (Windows NT 6.0; rv:34.0) Gecko/20100101 Firefox/34.0 -|\n",
            "|95.188.245.16  |12/Dec/2015:18:38:56 +0100|POST  |/administrator/index.php|200        |4494|http://almhuette-raith.at/administrator/|Mozilla/5.0 (Windows NT 6.0; rv:34.0) Gecko/20100101 Firefox/34.0 -|\n",
            "|46.72.213.133  |12/Dec/2015:18:39:27 +0100|GET   |/administrator/         |200        |4263|-                                       |Mozilla/5.0 (Windows NT 6.0; rv:34.0) Gecko/20100101 Firefox/34.0 -|\n",
            "+---------------+--------------------------+------+------------------------+-----------+----+----------------------------------------+-------------------------------------------------------------------+\n",
            "only showing top 20 rows\n",
            "\n"
          ]
        }
      ],
      "source": [
        "# Fill null values with 0\n",
        "logs_df_filled = logs_df.fillna(\"0\")  # This fills nulls in all columns with \"0\" (as string)\n",
        "\n",
        "# If you want to fill numeric columns with integer 0 and leave strings alone:\n",
        "logs_df_filled = logs_df.fillna({\n",
        "    \"status_code\": \"0\",\n",
        "    \"size\": \"0\"\n",
        "})\n",
        "\n",
        "# Show the DataFrame\n",
        "logs_df_filled.show(truncate=False)"
      ]
    },
    {
      "cell_type": "markdown",
      "metadata": {
        "id": "t7USvgHF1xFf"
      },
      "source": [
        "# **6. Parse timestamp to readable date**"
      ]
    },
    {
      "cell_type": "code",
      "source": [
        "from pyspark.sql.functions import to_timestamp\n",
        "\n",
        "# Parse timestamp to proper format\n",
        "logs_df = logs_df.withColumn(\n",
        "    \"parsed_timestamp\",\n",
        "    to_timestamp(\"timestamp\", \"dd/MMM/yyyy:HH:mm:ss Z\")\n",
        ")\n",
        "logs_df = logs_df.drop(\"timestamp\").withColumnRenamed(\"parsed_timestamp\", \"timestamp\")\n",
        "logs_df.show(truncate=False)"
      ],
      "metadata": {
        "colab": {
          "base_uri": "https://localhost:8080/"
        },
        "id": "9Bqia0vpAMt6",
        "outputId": "65b4e3cf-3d73-40f9-af7d-bf1490e2c110"
      },
      "execution_count": null,
      "outputs": [
        {
          "output_type": "stream",
          "name": "stdout",
          "text": [
            "+---------------+------+------------------------+-----------+----+----------------------------------------+-------------------------------------------------------------------+-------------------+\n",
            "|ip             |method|endpoint                |status_code|size|referrer                                |user_agent                                                         |timestamp          |\n",
            "+---------------+------+------------------------+-----------+----+----------------------------------------+-------------------------------------------------------------------+-------------------+\n",
            "|               |      |                        |           |    |                                        |                                                                   |NULL               |\n",
            "|109.169.248.247|GET   |/administrator/         |200        |4263|-                                       |Mozilla/5.0 (Windows NT 6.0; rv:34.0) Gecko/20100101 Firefox/34.0 -|2015-12-12 17:25:11|\n",
            "|109.169.248.247|POST  |/administrator/index.php|200        |4494|http://almhuette-raith.at/administrator/|Mozilla/5.0 (Windows NT 6.0; rv:34.0) Gecko/20100101 Firefox/34.0 -|2015-12-12 17:25:11|\n",
            "|46.72.177.4    |GET   |/administrator/         |200        |4263|-                                       |Mozilla/5.0 (Windows NT 6.0; rv:34.0) Gecko/20100101 Firefox/34.0 -|2015-12-12 17:31:08|\n",
            "|46.72.177.4    |POST  |/administrator/index.php|200        |4494|http://almhuette-raith.at/administrator/|Mozilla/5.0 (Windows NT 6.0; rv:34.0) Gecko/20100101 Firefox/34.0 -|2015-12-12 17:31:08|\n",
            "|83.167.113.100 |GET   |/administrator/         |200        |4263|-                                       |Mozilla/5.0 (Windows NT 6.0; rv:34.0) Gecko/20100101 Firefox/34.0 -|2015-12-12 17:31:25|\n",
            "|83.167.113.100 |POST  |/administrator/index.php|200        |4494|http://almhuette-raith.at/administrator/|Mozilla/5.0 (Windows NT 6.0; rv:34.0) Gecko/20100101 Firefox/34.0 -|2015-12-12 17:31:25|\n",
            "|95.29.198.15   |GET   |/administrator/         |200        |4263|-                                       |Mozilla/5.0 (Windows NT 6.0; rv:34.0) Gecko/20100101 Firefox/34.0 -|2015-12-12 17:32:10|\n",
            "|95.29.198.15   |POST  |/administrator/index.php|200        |4494|http://almhuette-raith.at/administrator/|Mozilla/5.0 (Windows NT 6.0; rv:34.0) Gecko/20100101 Firefox/34.0 -|2015-12-12 17:32:11|\n",
            "|109.184.11.34  |GET   |/administrator/         |200        |4263|-                                       |Mozilla/5.0 (Windows NT 6.0; rv:34.0) Gecko/20100101 Firefox/34.0 -|2015-12-12 17:32:56|\n",
            "|109.184.11.34  |POST  |/administrator/index.php|200        |4494|http://almhuette-raith.at/administrator/|Mozilla/5.0 (Windows NT 6.0; rv:34.0) Gecko/20100101 Firefox/34.0 -|2015-12-12 17:32:56|\n",
            "|91.227.29.79   |GET   |/administrator/         |200        |4263|-                                       |Mozilla/5.0 (Windows NT 6.0; rv:34.0) Gecko/20100101 Firefox/34.0 -|2015-12-12 17:33:51|\n",
            "|91.227.29.79   |POST  |/administrator/index.php|200        |4494|http://almhuette-raith.at/administrator/|Mozilla/5.0 (Windows NT 6.0; rv:34.0) Gecko/20100101 Firefox/34.0 -|2015-12-12 17:33:52|\n",
            "|90.154.66.233  |GET   |/administrator/         |200        |4263|-                                       |Mozilla/5.0 (Windows NT 6.0; rv:34.0) Gecko/20100101 Firefox/34.0 -|2015-12-12 17:36:16|\n",
            "|90.154.66.233  |POST  |/administrator/index.php|200        |4494|http://almhuette-raith.at/administrator/|Mozilla/5.0 (Windows NT 6.0; rv:34.0) Gecko/20100101 Firefox/34.0 -|2015-12-12 17:36:16|\n",
            "|95.140.24.131  |GET   |/administrator/         |200        |4263|-                                       |Mozilla/5.0 (Windows NT 6.0; rv:34.0) Gecko/20100101 Firefox/34.0 -|2015-12-12 17:38:42|\n",
            "|95.140.24.131  |POST  |/administrator/index.php|200        |4494|http://almhuette-raith.at/administrator/|Mozilla/5.0 (Windows NT 6.0; rv:34.0) Gecko/20100101 Firefox/34.0 -|2015-12-12 17:38:42|\n",
            "|95.188.245.16  |GET   |/administrator/         |200        |4263|-                                       |Mozilla/5.0 (Windows NT 6.0; rv:34.0) Gecko/20100101 Firefox/34.0 -|2015-12-12 17:38:55|\n",
            "|95.188.245.16  |POST  |/administrator/index.php|200        |4494|http://almhuette-raith.at/administrator/|Mozilla/5.0 (Windows NT 6.0; rv:34.0) Gecko/20100101 Firefox/34.0 -|2015-12-12 17:38:56|\n",
            "|46.72.213.133  |GET   |/administrator/         |200        |4263|-                                       |Mozilla/5.0 (Windows NT 6.0; rv:34.0) Gecko/20100101 Firefox/34.0 -|2015-12-12 17:39:27|\n",
            "+---------------+------+------------------------+-----------+----+----------------------------------------+-------------------------------------------------------------------+-------------------+\n",
            "only showing top 20 rows\n",
            "\n"
          ]
        }
      ]
    },
    {
      "cell_type": "markdown",
      "metadata": {
        "id": "K1La9Esc1xjH"
      },
      "source": [
        "# **7. Describe which HTTP status values appear in data and how many**\n"
      ]
    },
    {
      "cell_type": "code",
      "source": [
        "status_df = logs_df.groupBy(\"status_code\").count().orderBy(\"count\", ascending=False)\n",
        "status_df.show()"
      ],
      "metadata": {
        "colab": {
          "base_uri": "https://localhost:8080/"
        },
        "id": "RpvfbQa4B3Ms",
        "outputId": "d4034adf-5b79-44e0-ac01-cf8419c9c113"
      },
      "execution_count": null,
      "outputs": [
        {
          "output_type": "stream",
          "name": "stdout",
          "text": [
            "+-----------+-------+\n",
            "|status_code|  count|\n",
            "+-----------+-------+\n",
            "|        200|1009470|\n",
            "|        206| 404895|\n",
            "|        404| 119350|\n",
            "|           |   6463|\n",
            "|        500|   1079|\n",
            "|        301|    589|\n",
            "|        303|    234|\n",
            "|        501|    103|\n",
            "|        403|     48|\n",
            "|        405|     36|\n",
            "|        412|     19|\n",
            "|        400|      5|\n",
            "+-----------+-------+\n",
            "\n"
          ]
        }
      ]
    },
    {
      "cell_type": "markdown",
      "metadata": {
        "id": "U2izmihL1yJ0"
      },
      "source": [
        "# **8. Display as chart the above stat in chart in Zeppelin notebook**"
      ]
    },
    {
      "cell_type": "code",
      "source": [
        "from pyspark.sql.functions import col\n",
        "import matplotlib.pyplot as plt"
      ],
      "metadata": {
        "id": "Oo_iuzoHA8aQ"
      },
      "execution_count": null,
      "outputs": []
    },
    {
      "cell_type": "code",
      "source": [
        "status_df = logs_df.groupBy(\"status_code\").count().orderBy(\"count\", ascending=False)\n",
        "\n",
        "# Convert to Pandas for plotting\n",
        "pdf = status_df.toPandas()\n",
        "\n",
        "# Plot using Matplotlib\n",
        "plt.figure(figsize=(8, 5))\n",
        "plt.bar(pdf['status_code'].astype(str), pdf['count'], color='skyblue')\n",
        "plt.title(\"HTTP Status Code Distribution\")\n",
        "plt.xlabel(\"Status Code\")\n",
        "plt.ylabel(\"Count\")\n",
        "plt.grid(axis='y', linestyle='--', alpha=0.7)\n",
        "plt.show()"
      ],
      "metadata": {
        "colab": {
          "base_uri": "https://localhost:8080/",
          "height": 487
        },
        "id": "LsHHkcPzBSdN",
        "outputId": "5bc00b46-491e-416a-eae4-5f6524eb71d4"
      },
      "execution_count": null,
      "outputs": [
        {
          "output_type": "display_data",
          "data": {
            "text/plain": [
              "<Figure size 800x500 with 1 Axes>"
            ],
            "image/png": "[encoded data removed]"
          },
          "metadata": {}
        }
      ]
    },
    {
      "cell_type": "markdown",
      "metadata": {
        "id": "dfWu9SAN1y8P"
      },
      "source": [
        "# **9. How many unique hosts are there in the entire log and their average request**"
      ]
    },
    {
      "cell_type": "code",
      "execution_count": null,
      "metadata": {
        "id": "fKmypEdt1iJG",
        "colab": {
          "base_uri": "https://localhost:8080/"
        },
        "outputId": "7460d223-efbd-4671-d11a-46bd4fa5b32b"
      },
      "outputs": [
        {
          "output_type": "stream",
          "name": "stdout",
          "text": [
            "Total Requests: 1542291\n",
            "Unique Hosts: 39508\n",
            "Average Requests per Host: 39.04\n"
          ]
        }
      ],
      "source": [
        "from pyspark.sql.functions import countDistinct, count\n",
        "\n",
        "# Total number of requests\n",
        "total_requests = logs_df.count()\n",
        "\n",
        "# Number of unique hosts (IPs)\n",
        "unique_hosts = logs_df.select(\"ip\").distinct().count()\n",
        "\n",
        "# Average requests per host\n",
        "average_requests_per_host = total_requests / unique_hosts if unique_hosts != 0 else 0\n",
        "\n",
        "print(f\"Total Requests: {total_requests}\")\n",
        "print(f\"Unique Hosts: {unique_hosts}\")\n",
        "print(f\"Average Requests per Host: {average_requests_per_host:.2f}\")"
      ]
    }
  ],
  "metadata": {
    "colab": {
      "provenance": [],
      "authorship_tag": "ABX9TyML3meawrpf+ajPizJkWcET",
      "include_colab_link": true
    },
    "kernelspec": {
      "display_name": "Python 3",
      "name": "python3"
    },
    "language_info": {
      "name": "python"
    }
  },
  "nbformat": 4,
  "nbformat_minor": 0
}