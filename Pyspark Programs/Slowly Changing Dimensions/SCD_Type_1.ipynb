{
  "nbformat": 4,
  "nbformat_minor": 0,
  "metadata": {
    "colab": {
      "provenance": [],
      "authorship_tag": "ABX9TyMaGaUTpSN3OtIwDVcjDLa1",
      "include_colab_link": true
    },
    "kernelspec": {
      "name": "python3",
      "display_name": "Python 3"
    },
    "language_info": {
      "name": "python"
    }
  },
  "cells": [
    {
      "cell_type": "markdown",
      "metadata": {
        "id": "view-in-github",
        "colab_type": "text"
      },
      "source": [
        "<a href=\"https://colab.research.google.com/github/RajaSuhashKesari/PySpark-Programs/blob/main/Pyspark%20Programs/Slowly%20Changing%20Dimensions/SCD_Type_1.ipynb\" target=\"_parent\"><img src=\"https://colab.research.google.com/assets/colab-badge.svg\" alt=\"Open In Colab\"/></a>"
      ]
    },
    {
      "cell_type": "code",
      "execution_count": 9,
      "metadata": {
        "id": "uCNLlf_OSrTY"
      },
      "outputs": [],
      "source": [
        "from pyspark.sql import SparkSession\n",
        "from pyspark.sql.functions import col\n",
        "spark = SparkSession.builder.master(\"local[*]\").appName(\"Slowly Changing Dimesions Type 1\").getOrCreate()"
      ]
    },
    {
      "cell_type": "code",
      "source": [
        "target_data = [\n",
        "    (101, \"Suhash\", \"Hyderabad\"),\n",
        "    (102, \"Rahul\", \"Mumbai\"),\n",
        "    (103, \"Priya\", \"Chennai\"),\n",
        "    (104, \"Amit\", \"Delhi\")\n",
        "]\n",
        "\n",
        "target_df = spark.createDataFrame(target_data, [\"emp_id\", \"name\", \"city\"])"
      ],
      "metadata": {
        "id": "koMJT5edTMLL"
      },
      "execution_count": 3,
      "outputs": []
    },
    {
      "cell_type": "code",
      "source": [
        "source_data = [\n",
        "    (101, \"Suhash\", \"Bangalore\"),  # Changed city\n",
        "    (102, \"Rahul\", \"Mumbai\"),      # Unchanged\n",
        "    (103, \"Priya R\", \"Chennai\"),   # Changed name\n",
        "    (105, \"Neha\", \"Pune\")          # New record\n",
        "]\n",
        "\n",
        "source_df = spark.createDataFrame(source_data, [\"emp_id\", \"name\", \"city\"])"
      ],
      "metadata": {
        "id": "U-hOSYTaTYa3"
      },
      "execution_count": 4,
      "outputs": []
    },
    {
      "cell_type": "markdown",
      "source": [
        "# **Implementing SCD Type 1**"
      ],
      "metadata": {
        "id": "psI8vr3FTbvY"
      }
    },
    {
      "cell_type": "markdown",
      "source": [
        "### **Extracting New Records from the Source**"
      ],
      "metadata": {
        "id": "vsB2jQPdUCtl"
      }
    },
    {
      "cell_type": "code",
      "source": [
        "new_records = source_df.join(target_df, on = \"emp_id\", how= \"left_anti\")"
      ],
      "metadata": {
        "id": "vBEdnhUoTaLd"
      },
      "execution_count": 5,
      "outputs": []
    },
    {
      "cell_type": "markdown",
      "source": [
        "### **Extracting only updated row in the Source**"
      ],
      "metadata": {
        "id": "27lM_foJUQjr"
      }
    },
    {
      "cell_type": "code",
      "source": [
        "updated_records = target_df.alias(\"tgt\").join(source_df.alias(\"src\"), on = \"emp_id\", how = \"inner\").filter( (col(\"tgt.name\") != col(\"src.name\")) | (col(\"tgt.city\") != col(\"src.city\"))).select(\"src.*\")"
      ],
      "metadata": {
        "id": "BSrAeLz_Ubtb"
      },
      "execution_count": 13,
      "outputs": []
    },
    {
      "cell_type": "markdown",
      "source": [
        "### **Extracting only Unchanged rows in the Target**"
      ],
      "metadata": {
        "id": "KpvQC2p8X-0s"
      }
    },
    {
      "cell_type": "code",
      "source": [
        "unchanged_records = target_df.join(updated_records, on = \"emp_id\", how=\"left_anti\")"
      ],
      "metadata": {
        "id": "Ymqah2X3WbOB"
      },
      "execution_count": 14,
      "outputs": []
    },
    {
      "cell_type": "markdown",
      "source": [
        "### **Final Target table = new_records + updated_records + unchanged_records**"
      ],
      "metadata": {
        "id": "qLNFRVjuYit0"
      }
    },
    {
      "cell_type": "code",
      "source": [
        "target_df = new_records.union(updated_records).union(unchanged_records)"
      ],
      "metadata": {
        "id": "I6MqpWRuYgpR"
      },
      "execution_count": 15,
      "outputs": []
    },
    {
      "cell_type": "code",
      "source": [
        "target_df.show()"
      ],
      "metadata": {
        "colab": {
          "base_uri": "https://localhost:8080/"
        },
        "id": "z_35ImJ-Y-N0",
        "outputId": "ef1a6d59-bf6a-4713-9198-dc991adadadc"
      },
      "execution_count": 16,
      "outputs": [
        {
          "output_type": "stream",
          "name": "stdout",
          "text": [
            "+------+-------+---------+\n",
            "|emp_id|   name|     city|\n",
            "+------+-------+---------+\n",
            "|   105|   Neha|     Pune|\n",
            "|   101| Suhash|Bangalore|\n",
            "|   103|Priya R|  Chennai|\n",
            "|   102|  Rahul|   Mumbai|\n",
            "|   104|   Amit|    Delhi|\n",
            "+------+-------+---------+\n",
            "\n"
          ]
        }
      ]
    },
    {
      "cell_type": "code",
      "source": [
        "spark.stop()"
      ],
      "metadata": {
        "id": "JVa-eKB3ZAU8"
      },
      "execution_count": 17,
      "outputs": []
    }
  ]
}