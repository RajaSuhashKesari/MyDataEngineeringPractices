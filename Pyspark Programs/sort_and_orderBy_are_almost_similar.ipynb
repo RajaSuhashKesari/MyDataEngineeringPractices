{
  "nbformat": 4,
  "nbformat_minor": 0,
  "metadata": {
    "colab": {
      "provenance": [],
      "authorship_tag": "ABX9TyO4+7VH4d5JIKBonjLqpCy7"
    },
    "kernelspec": {
      "name": "python3",
      "display_name": "Python 3"
    },
    "language_info": {
      "name": "python"
    }
  },
  "cells": [
    {
      "cell_type": "markdown",
      "source": [
        "# Sort a DataFrame based on one or multiple columns in PySpark.\n"
      ],
      "metadata": {
        "id": "ewS3K6WBXBof"
      }
    },
    {
      "cell_type": "code",
      "execution_count": 17,
      "metadata": {
        "id": "MChCXHmqW5mc"
      },
      "outputs": [],
      "source": [
        "from pyspark.sql import SparkSession\n",
        "from pyspark.sql.functions import asc, desc"
      ]
    },
    {
      "cell_type": "code",
      "source": [
        "spark = SparkSession.builder.appName('sort').getOrCreate()"
      ],
      "metadata": {
        "id": "CxVWkRr4XNd3"
      },
      "execution_count": 18,
      "outputs": []
    },
    {
      "cell_type": "code",
      "source": [
        "data = [ ('Alice', 34, 'New York'), ('Bob', 45, 'San Francisco'),\n",
        " ('Catherine', 29, 'Los Angeles'), ('Daniel', 35, 'New York'),\n",
        "  ('Eva', 45, 'Los Angeles') ]"
      ],
      "metadata": {
        "id": "SOok9-77XPt7"
      },
      "execution_count": 19,
      "outputs": []
    },
    {
      "cell_type": "code",
      "source": [
        "columns = ['Name', 'Age', 'City']"
      ],
      "metadata": {
        "id": "fBe9W2aVXY9a"
      },
      "execution_count": 20,
      "outputs": []
    },
    {
      "cell_type": "code",
      "source": [
        "df = spark.createDataFrame(data, columns)\n",
        "df.show()"
      ],
      "metadata": {
        "colab": {
          "base_uri": "https://localhost:8080/"
        },
        "id": "OVPW_yJlXcYY",
        "outputId": "11a31d3b-b365-4129-adf2-f3f5c748eb63"
      },
      "execution_count": 21,
      "outputs": [
        {
          "output_type": "stream",
          "name": "stdout",
          "text": [
            "+---------+---+-------------+\n",
            "|     Name|Age|         City|\n",
            "+---------+---+-------------+\n",
            "|    Alice| 34|     New York|\n",
            "|      Bob| 45|San Francisco|\n",
            "|Catherine| 29|  Los Angeles|\n",
            "|   Daniel| 35|     New York|\n",
            "|      Eva| 45|  Los Angeles|\n",
            "+---------+---+-------------+\n",
            "\n"
          ]
        }
      ]
    },
    {
      "cell_type": "code",
      "source": [
        "df.sort('Age',ascending = True).show()"
      ],
      "metadata": {
        "colab": {
          "base_uri": "https://localhost:8080/"
        },
        "id": "DvIpNwYhXiKt",
        "outputId": "ee5c8653-7b30-4bdd-f650-9f0551fb7f25"
      },
      "execution_count": 22,
      "outputs": [
        {
          "output_type": "stream",
          "name": "stdout",
          "text": [
            "+---------+---+-------------+\n",
            "|     Name|Age|         City|\n",
            "+---------+---+-------------+\n",
            "|Catherine| 29|  Los Angeles|\n",
            "|    Alice| 34|     New York|\n",
            "|   Daniel| 35|     New York|\n",
            "|      Bob| 45|San Francisco|\n",
            "|      Eva| 45|  Los Angeles|\n",
            "+---------+---+-------------+\n",
            "\n"
          ]
        }
      ]
    },
    {
      "cell_type": "code",
      "source": [
        "df.sort('Age',ascending = False).show()"
      ],
      "metadata": {
        "colab": {
          "base_uri": "https://localhost:8080/"
        },
        "id": "3jaMNJqmYBfv",
        "outputId": "6b232c60-0b3b-4a04-a6ae-5b92657d7930"
      },
      "execution_count": 23,
      "outputs": [
        {
          "output_type": "stream",
          "name": "stdout",
          "text": [
            "+---------+---+-------------+\n",
            "|     Name|Age|         City|\n",
            "+---------+---+-------------+\n",
            "|      Bob| 45|San Francisco|\n",
            "|      Eva| 45|  Los Angeles|\n",
            "|   Daniel| 35|     New York|\n",
            "|    Alice| 34|     New York|\n",
            "|Catherine| 29|  Los Angeles|\n",
            "+---------+---+-------------+\n",
            "\n"
          ]
        }
      ]
    },
    {
      "cell_type": "code",
      "source": [
        "df.orderBy(asc(df.Age)).show()"
      ],
      "metadata": {
        "colab": {
          "base_uri": "https://localhost:8080/"
        },
        "id": "oh0i9nnAamCq",
        "outputId": "3c775f63-0a27-4e1e-efd3-da85cbd83b07"
      },
      "execution_count": 29,
      "outputs": [
        {
          "output_type": "stream",
          "name": "stdout",
          "text": [
            "+---------+---+-------------+\n",
            "|     Name|Age|         City|\n",
            "+---------+---+-------------+\n",
            "|Catherine| 29|  Los Angeles|\n",
            "|    Alice| 34|     New York|\n",
            "|   Daniel| 35|     New York|\n",
            "|      Bob| 45|San Francisco|\n",
            "|      Eva| 45|  Los Angeles|\n",
            "+---------+---+-------------+\n",
            "\n"
          ]
        }
      ]
    },
    {
      "cell_type": "code",
      "source": [
        "df.sort(asc(df.Age)).show()"
      ],
      "metadata": {
        "colab": {
          "base_uri": "https://localhost:8080/"
        },
        "id": "FwNKH0rnYv4h",
        "outputId": "0f0b3181-fee7-4c28-da7c-cae24d747ad3"
      },
      "execution_count": 24,
      "outputs": [
        {
          "output_type": "stream",
          "name": "stdout",
          "text": [
            "+---------+---+-------------+\n",
            "|     Name|Age|         City|\n",
            "+---------+---+-------------+\n",
            "|Catherine| 29|  Los Angeles|\n",
            "|    Alice| 34|     New York|\n",
            "|   Daniel| 35|     New York|\n",
            "|      Bob| 45|San Francisco|\n",
            "|      Eva| 45|  Los Angeles|\n",
            "+---------+---+-------------+\n",
            "\n"
          ]
        }
      ]
    },
    {
      "cell_type": "code",
      "source": [
        "df.sort(desc(df.Age)).show()"
      ],
      "metadata": {
        "colab": {
          "base_uri": "https://localhost:8080/"
        },
        "id": "saZQlPkIY4OM",
        "outputId": "baba3ce3-b79c-4f5d-c4c9-f74ce52f052b"
      },
      "execution_count": 16,
      "outputs": [
        {
          "output_type": "stream",
          "name": "stdout",
          "text": [
            "+---------+---+-------------+\n",
            "|     Name|Age|         City|\n",
            "+---------+---+-------------+\n",
            "|      Eva| 45|  Los Angeles|\n",
            "|      Bob| 45|San Francisco|\n",
            "|   Daniel| 35|     New York|\n",
            "|    Alice| 34|     New York|\n",
            "|Catherine| 29|  Los Angeles|\n",
            "+---------+---+-------------+\n",
            "\n"
          ]
        }
      ]
    },
    {
      "cell_type": "code",
      "source": [
        "df.orderBy(df.Age.asc()).show()"
      ],
      "metadata": {
        "colab": {
          "base_uri": "https://localhost:8080/"
        },
        "id": "Rg_c8xrJYErQ",
        "outputId": "a313f677-a331-4d7b-fd02-7974973b1eb8"
      },
      "execution_count": 8,
      "outputs": [
        {
          "output_type": "stream",
          "name": "stdout",
          "text": [
            "+---------+---+-------------+\n",
            "|     Name|Age|         City|\n",
            "+---------+---+-------------+\n",
            "|Catherine| 29|  Los Angeles|\n",
            "|    Alice| 34|     New York|\n",
            "|   Daniel| 35|     New York|\n",
            "|      Bob| 45|San Francisco|\n",
            "|      Eva| 45|  Los Angeles|\n",
            "+---------+---+-------------+\n",
            "\n"
          ]
        }
      ]
    },
    {
      "cell_type": "code",
      "source": [
        "df.orderBy(df.Age.desc()).show()"
      ],
      "metadata": {
        "colab": {
          "base_uri": "https://localhost:8080/"
        },
        "id": "pzmLH9SDZNts",
        "outputId": "7a212193-8a3e-44ed-a932-9006ac02b039"
      },
      "execution_count": 25,
      "outputs": [
        {
          "output_type": "stream",
          "name": "stdout",
          "text": [
            "+---------+---+-------------+\n",
            "|     Name|Age|         City|\n",
            "+---------+---+-------------+\n",
            "|      Eva| 45|  Los Angeles|\n",
            "|      Bob| 45|San Francisco|\n",
            "|   Daniel| 35|     New York|\n",
            "|    Alice| 34|     New York|\n",
            "|Catherine| 29|  Los Angeles|\n",
            "+---------+---+-------------+\n",
            "\n"
          ]
        }
      ]
    },
    {
      "cell_type": "code",
      "source": [
        "df.orderBy(df.Age.asc(),df.Name.asc()).show()"
      ],
      "metadata": {
        "colab": {
          "base_uri": "https://localhost:8080/"
        },
        "id": "8W8ibd6caCzT",
        "outputId": "655ad8a0-51bc-4777-be31-3527f7546b56"
      },
      "execution_count": 27,
      "outputs": [
        {
          "output_type": "stream",
          "name": "stdout",
          "text": [
            "+---------+---+-------------+\n",
            "|     Name|Age|         City|\n",
            "+---------+---+-------------+\n",
            "|Catherine| 29|  Los Angeles|\n",
            "|    Alice| 34|     New York|\n",
            "|   Daniel| 35|     New York|\n",
            "|      Bob| 45|San Francisco|\n",
            "|      Eva| 45|  Los Angeles|\n",
            "+---------+---+-------------+\n",
            "\n"
          ]
        }
      ]
    },
    {
      "cell_type": "code",
      "source": [
        "df.orderBy(df.Age.desc(),df.Name.desc()).show()"
      ],
      "metadata": {
        "colab": {
          "base_uri": "https://localhost:8080/"
        },
        "id": "etT8HeMbZVbo",
        "outputId": "0b85029a-60ec-4221-f11c-601a32c163de"
      },
      "execution_count": 28,
      "outputs": [
        {
          "output_type": "stream",
          "name": "stdout",
          "text": [
            "+---------+---+-------------+\n",
            "|     Name|Age|         City|\n",
            "+---------+---+-------------+\n",
            "|      Eva| 45|  Los Angeles|\n",
            "|      Bob| 45|San Francisco|\n",
            "|   Daniel| 35|     New York|\n",
            "|    Alice| 34|     New York|\n",
            "|Catherine| 29|  Los Angeles|\n",
            "+---------+---+-------------+\n",
            "\n"
          ]
        }
      ]
    },
    {
      "cell_type": "code",
      "source": [
        "df.orderBy(df.Age,ascending = True).show()"
      ],
      "metadata": {
        "colab": {
          "base_uri": "https://localhost:8080/"
        },
        "id": "t8_v7Wo5Z-zi",
        "outputId": "e690e5b4-8353-4d19-bc97-7cd392b1aa85"
      },
      "execution_count": 30,
      "outputs": [
        {
          "output_type": "stream",
          "name": "stdout",
          "text": [
            "+---------+---+-------------+\n",
            "|     Name|Age|         City|\n",
            "+---------+---+-------------+\n",
            "|Catherine| 29|  Los Angeles|\n",
            "|    Alice| 34|     New York|\n",
            "|   Daniel| 35|     New York|\n",
            "|      Bob| 45|San Francisco|\n",
            "|      Eva| 45|  Los Angeles|\n",
            "+---------+---+-------------+\n",
            "\n"
          ]
        }
      ]
    },
    {
      "cell_type": "code",
      "source": [],
      "metadata": {
        "id": "9bp8qG-_bcch"
      },
      "execution_count": null,
      "outputs": []
    }
  ]
}