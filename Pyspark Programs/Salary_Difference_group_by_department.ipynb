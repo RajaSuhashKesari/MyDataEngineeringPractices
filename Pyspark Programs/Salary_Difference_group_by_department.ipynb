{
  "nbformat": 4,
  "nbformat_minor": 0,
  "metadata": {
    "colab": {
      "provenance": [],
      "authorship_tag": "ABX9TyONIoJuGNFHnmxF1w2SuS3z",
      "include_colab_link": true
    },
    "kernelspec": {
      "name": "python3",
      "display_name": "Python 3"
    },
    "language_info": {
      "name": "python"
    }
  },
  "cells": [
    {
      "cell_type": "markdown",
      "metadata": {
        "id": "view-in-github",
        "colab_type": "text"
      },
      "source": [
        "<a href=\"https://colab.research.google.com/github/RajaSuhashKesari/MyDataEngineeringPractices/blob/main/Pyspark%20Programs/Salary_Difference_group_by_department.ipynb\" target=\"_parent\"><img src=\"https://colab.research.google.com/assets/colab-badge.svg\" alt=\"Open In Colab\"/></a>"
      ]
    },
    {
      "cell_type": "code",
      "execution_count": 12,
      "metadata": {
        "colab": {
          "base_uri": "https://localhost:8080/"
        },
        "id": "fxaFtv3xceUj",
        "outputId": "a93de4c0-a4b5-497d-f7df-8cfe9c5f49d1"
      },
      "outputs": [
        {
          "output_type": "stream",
          "name": "stdout",
          "text": [
            "+---+-----------+------+----------+\n",
            "| id| department|salary|  zip_code|\n",
            "+---+-----------+------+----------+\n",
            "|  1|         HR| 55000|ab23h7fcs4|\n",
            "|  2|         IT| 72000|xk87j2qwe9|\n",
            "|  3|Engineering| 95000|mz56v1pkl3|\n",
            "|  4|         HR| 63000|ql29u8zxy2|\n",
            "|  5|         IT| 88000|nj31e5ras8|\n",
            "|  6|Engineering| 60000|wd94k6mnb1|\n",
            "+---+-----------+------+----------+\n",
            "\n"
          ]
        }
      ],
      "source": [
        "from pyspark.sql import SparkSession\n",
        "from pyspark.sql.types import StructType, StructField, IntegerType, StringType\n",
        "from pyspark.sql.window import Window as W\n",
        "from pyspark.sql.functions import max, col,\n",
        "from pyspark.sql import functions as F\n",
        "\n",
        "# Create Spark session\n",
        "spark = SparkSession.builder.appName(\"DepartmentData\").getOrCreate()\n",
        "\n",
        "# Sample data\n",
        "data = [\n",
        "    (1, \"HR\", 55000, \"ab23h7fcs4\"),\n",
        "    (2, \"IT\", 72000, \"xk87j2qwe9\"),\n",
        "    (3, \"Engineering\", 95000, \"mz56v1pkl3\"),\n",
        "    (4, \"HR\", 63000, \"ql29u8zxy2\"),\n",
        "    (5, \"IT\", 88000, \"nj31e5ras8\"),\n",
        "    (6, \"Engineering\", 60000, \"wd94k6mnb1\")\n",
        "]\n",
        "\n",
        "# Define schema\n",
        "schema = StructType([\n",
        "    StructField(\"id\", IntegerType(), True),\n",
        "    StructField(\"department\", StringType(), True),\n",
        "    StructField(\"salary\", IntegerType(), True),\n",
        "    StructField(\"zip_code\", StringType(), True)\n",
        "])\n",
        "\n",
        "# Create DataFrame\n",
        "df = spark.createDataFrame(data, schema)\n",
        "\n",
        "# Show the DataFrame\n",
        "df.show()"
      ]
    },
    {
      "cell_type": "markdown",
      "source": [
        "# Salary Difference group by department"
      ],
      "metadata": {
        "id": "bOiBnDNWc06I"
      }
    },
    {
      "cell_type": "code",
      "source": [
        "window_spec = W.partitionBy(\"department\")\n",
        "df =df.withColumn(\"Salary_differ\", F.max(\"salary\").over(window_spec) - F.col(\"salary\"))\n",
        "df.show()"
      ],
      "metadata": {
        "colab": {
          "base_uri": "https://localhost:8080/"
        },
        "id": "mtRW6qdZc0At",
        "outputId": "3df89985-71bb-4ed8-9574-4e12074396fb"
      },
      "execution_count": 20,
      "outputs": [
        {
          "output_type": "stream",
          "name": "stdout",
          "text": [
            "+---+-----------+------+----------+-------------+\n",
            "| id| department|salary|  zip_code|Salary_differ|\n",
            "+---+-----------+------+----------+-------------+\n",
            "|  3|Engineering| 95000|mz56v1pkl3|            0|\n",
            "|  6|Engineering| 60000|wd94k6mnb1|        35000|\n",
            "|  1|         HR| 55000|ab23h7fcs4|         8000|\n",
            "|  4|         HR| 63000|ql29u8zxy2|            0|\n",
            "|  2|         IT| 72000|xk87j2qwe9|        16000|\n",
            "|  5|         IT| 88000|nj31e5ras8|            0|\n",
            "+---+-----------+------+----------+-------------+\n",
            "\n"
          ]
        }
      ]
    }
  ]
}