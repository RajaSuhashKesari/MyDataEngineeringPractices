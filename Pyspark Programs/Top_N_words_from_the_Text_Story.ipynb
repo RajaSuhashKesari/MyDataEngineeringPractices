{
  "nbformat": 4,
  "nbformat_minor": 0,
  "metadata": {
    "colab": {
      "provenance": [],
      "authorship_tag": "ABX9TyOWEdh9kkWWapgU23rFUeB5",
      "include_colab_link": true
    },
    "kernelspec": {
      "name": "python3",
      "display_name": "Python 3"
    },
    "language_info": {
      "name": "python"
    }
  },
  "cells": [
    {
      "cell_type": "markdown",
      "metadata": {
        "id": "view-in-github",
        "colab_type": "text"
      },
      "source": [
        "<a href=\"https://colab.research.google.com/github/RajaSuhashKesari/MyDataEngineeringPractices/blob/main/Pyspark%20Programs/Top_N_words_from_the_Text_Story.ipynb\" target=\"_parent\"><img src=\"https://colab.research.google.com/assets/colab-badge.svg\" alt=\"Open In Colab\"/></a>"
      ]
    },
    {
      "cell_type": "code",
      "execution_count": 7,
      "metadata": {
        "id": "pCpLZkGcf1KU"
      },
      "outputs": [],
      "source": [
        "from pyspark.sql import SparkSession\n",
        "from pyspark.sql.functions import *\n",
        "spark = SparkSession.builder.master('local[*]').appName(\"Top N words\").getOrCreate()"
      ]
    },
    {
      "cell_type": "code",
      "source": [
        "text_data = spark.read.text(\"/content/words\")"
      ],
      "metadata": {
        "id": "YoIYLkoigPBR"
      },
      "execution_count": 8,
      "outputs": []
    },
    {
      "cell_type": "code",
      "source": [
        "text_data.show()"
      ],
      "metadata": {
        "colab": {
          "base_uri": "https://localhost:8080/"
        },
        "id": "2-bRxyXYg0J1",
        "outputId": "9f97ddc4-e488-4855-df91-53a55e746080"
      },
      "execution_count": 9,
      "outputs": [
        {
          "output_type": "stream",
          "name": "stdout",
          "text": [
            "+--------------------+\n",
            "|               value|\n",
            "+--------------------+\n",
            "|The Echoes of the...|\n",
            "|Once, in a forgot...|\n",
            "|                    |\n",
            "|It was said the f...|\n",
            "|                    |\n",
            "|But among the few...|\n",
            "|                    |\n",
            "|One evening, as t...|\n",
            "|                    |\n",
            "|Her grandfather h...|\n",
            "|                    |\n",
            "|With those words ...|\n",
            "|                    |\n",
            "|The forest greete...|\n",
            "|                    |\n",
            "|As she walked, sh...|\n",
            "|                    |\n",
            "|Hours passed, tho...|\n",
            "|                    |\n",
            "|Isla shook her he...|\n",
            "+--------------------+\n",
            "only showing top 20 rows\n",
            "\n"
          ]
        }
      ]
    },
    {
      "cell_type": "markdown",
      "source": [
        "Remove nulls"
      ],
      "metadata": {
        "id": "LUJrwpCpg_2q"
      }
    },
    {
      "cell_type": "code",
      "source": [
        "dropped_empty_df = text_data.filter(col('value') != '')\n",
        "dropped_empty_df.show()"
      ],
      "metadata": {
        "colab": {
          "base_uri": "https://localhost:8080/"
        },
        "id": "Im9Z0BNbg2X2",
        "outputId": "f4771ab8-918e-4529-e8c5-1b7954b63b69"
      },
      "execution_count": 17,
      "outputs": [
        {
          "output_type": "stream",
          "name": "stdout",
          "text": [
            "+--------------------+\n",
            "|               value|\n",
            "+--------------------+\n",
            "|The Echoes of the...|\n",
            "|Once, in a forgot...|\n",
            "|It was said the f...|\n",
            "|But among the few...|\n",
            "|One evening, as t...|\n",
            "|Her grandfather h...|\n",
            "|With those words ...|\n",
            "|The forest greete...|\n",
            "|As she walked, sh...|\n",
            "|Hours passed, tho...|\n",
            "|Isla shook her he...|\n",
            "|Just as she was a...|\n",
            "|\"Come closer, chi...|\n",
            "|Her heart skipped...|\n",
            "|\"Come closer.\" Th...|\n",
            "|She pushed throug...|\n",
            "|At the base of th...|\n",
            "|She knelt beside ...|\n",
            "|\"You are the chos...|\n",
            "|Isla’s heart race...|\n",
            "+--------------------+\n",
            "only showing top 20 rows\n",
            "\n"
          ]
        }
      ]
    },
    {
      "cell_type": "code",
      "source": [
        "words_df = dropped_empty_df.select(explode(split(col('value'),' ')).alias(\"words\"))\n",
        "words_df.show()"
      ],
      "metadata": {
        "colab": {
          "base_uri": "https://localhost:8080/"
        },
        "id": "Sqf9kJlHhGRU",
        "outputId": "97c63f4a-948a-4068-e3c8-ee3ecd04b629"
      },
      "execution_count": 18,
      "outputs": [
        {
          "output_type": "stream",
          "name": "stdout",
          "text": [
            "+---------+\n",
            "|    words|\n",
            "+---------+\n",
            "|      The|\n",
            "|   Echoes|\n",
            "|       of|\n",
            "|      the|\n",
            "|   Forest|\n",
            "|    Once,|\n",
            "|       in|\n",
            "|        a|\n",
            "|forgotten|\n",
            "|   corner|\n",
            "|       of|\n",
            "|      the|\n",
            "|   world,|\n",
            "|    there|\n",
            "|      was|\n",
            "|        a|\n",
            "|   forest|\n",
            "|    known|\n",
            "|       as|\n",
            "|      the|\n",
            "+---------+\n",
            "only showing top 20 rows\n",
            "\n"
          ]
        }
      ]
    },
    {
      "cell_type": "markdown",
      "source": [
        "## **Function to remove fullstop and commas**"
      ],
      "metadata": {
        "id": "2wAS78HFjjSd"
      }
    },
    {
      "cell_type": "code",
      "source": [
        "def fullstop_and_comma_remover_convert_to_lower(word):\n",
        "  if word is None:\n",
        "    return None\n",
        "  if '.' in word : return word[:-1].lower()\n",
        "  if ',' in word : return word[:-1].lower()\n",
        "  if word.endswith('\"') : return word[:-1].lower()\n",
        "  if word.startswith('\"') : return word[1:].lower()\n",
        "  else : return word.lower()"
      ],
      "metadata": {
        "id": "Lrv3zb3ljXng"
      },
      "execution_count": 45,
      "outputs": []
    },
    {
      "cell_type": "code",
      "source": [
        "from pyspark.sql.types import StringType\n",
        "udf_fcrfsctl = udf(fullstop_and_comma_remover_convert_to_lower,StringType())"
      ],
      "metadata": {
        "id": "GVWbAzv_kXhs"
      },
      "execution_count": 46,
      "outputs": []
    },
    {
      "cell_type": "code",
      "source": [
        "cleaned_df_words = words_df.withColumn(\"words\",udf_fcrfsctl(col(\"words\")))\n",
        "cleaned_df_words.show()"
      ],
      "metadata": {
        "colab": {
          "base_uri": "https://localhost:8080/"
        },
        "id": "RIfdLT-_jPRJ",
        "outputId": "9d4eab70-58d4-4015-ae5a-de02910d91a0"
      },
      "execution_count": 47,
      "outputs": [
        {
          "output_type": "stream",
          "name": "stdout",
          "text": [
            "+---------+\n",
            "|    words|\n",
            "+---------+\n",
            "|      the|\n",
            "|   echoes|\n",
            "|       of|\n",
            "|      the|\n",
            "|   forest|\n",
            "|     once|\n",
            "|       in|\n",
            "|        a|\n",
            "|forgotten|\n",
            "|   corner|\n",
            "|       of|\n",
            "|      the|\n",
            "|    world|\n",
            "|    there|\n",
            "|      was|\n",
            "|        a|\n",
            "|   forest|\n",
            "|    known|\n",
            "|       as|\n",
            "|      the|\n",
            "+---------+\n",
            "only showing top 20 rows\n",
            "\n"
          ]
        }
      ]
    },
    {
      "cell_type": "code",
      "source": [
        "counts_df = cleaned_df_words.groupBy('words').agg(count(col('words')).alias(\"counts\"))\n",
        "counts_df.show()"
      ],
      "metadata": {
        "colab": {
          "base_uri": "https://localhost:8080/"
        },
        "id": "8yp3262VloDA",
        "outputId": "01fe787b-0c83-43c3-fa53-8ad567b8a948"
      },
      "execution_count": 48,
      "outputs": [
        {
          "output_type": "stream",
          "name": "stdout",
          "text": [
            "+-------------+------+\n",
            "|        words|counts|\n",
            "+-------------+------+\n",
            "|        those|     4|\n",
            "|          few|     1|\n",
            "|      embrace|     1|\n",
            "|        still|     1|\n",
            "|        inner|     1|\n",
            "|    connected|     2|\n",
            "|    recognize|     1|\n",
            "|        often|     1|\n",
            "|     slightly|     1|\n",
            "|     vibrated|     1|\n",
            "|   surrounded|     1|\n",
            "|        thick|     3|\n",
            "|         you.|     1|\n",
            "|      verdant|     3|\n",
            "|        among|     2|\n",
            "|        sense|     2|\n",
            "|    insistent|     1|\n",
            "|         pine|     1|\n",
            "|        ahead|     1|\n",
            "|reflection—an|     1|\n",
            "+-------------+------+\n",
            "only showing top 20 rows\n",
            "\n"
          ]
        }
      ]
    },
    {
      "cell_type": "code",
      "source": [
        "sorted_df = counts_df.sort(desc(col('counts')))\n",
        "sorted_df.cache()\n",
        "sorted_df.show()"
      ],
      "metadata": {
        "colab": {
          "base_uri": "https://localhost:8080/"
        },
        "id": "5RDuDq9xmpoF",
        "outputId": "dc7f1a15-0eef-4b08-d13d-82d6113789a9"
      },
      "execution_count": 59,
      "outputs": [
        {
          "output_type": "stream",
          "name": "stdout",
          "text": [
            "+---------+------+\n",
            "|    words|counts|\n",
            "+---------+------+\n",
            "|      the|   139|\n",
            "|       of|    53|\n",
            "|      and|    42|\n",
            "|      she|    38|\n",
            "|        a|    38|\n",
            "|      her|    38|\n",
            "|       to|    37|\n",
            "|      was|    26|\n",
            "|   forest|    23|\n",
            "|       it|    21|\n",
            "|       in|    19|\n",
            "|      its|    18|\n",
            "|      had|    15|\n",
            "|     that|    14|\n",
            "|     with|    13|\n",
            "|     isla|    12|\n",
            "|       as|    12|\n",
            "|    trees|    10|\n",
            "|something|    10|\n",
            "|   seemed|     9|\n",
            "+---------+------+\n",
            "only showing top 20 rows\n",
            "\n"
          ]
        }
      ]
    },
    {
      "cell_type": "code",
      "source": [
        "top_n = 13\n",
        "sorted_df.limit(top_n).show()"
      ],
      "metadata": {
        "colab": {
          "base_uri": "https://localhost:8080/"
        },
        "id": "w60Rf-zam3G0",
        "outputId": "6ae168d5-1910-4f3f-90a8-73a315dddb67"
      },
      "execution_count": 60,
      "outputs": [
        {
          "output_type": "stream",
          "name": "stdout",
          "text": [
            "+------+------+\n",
            "| words|counts|\n",
            "+------+------+\n",
            "|   the|   139|\n",
            "|    of|    53|\n",
            "|   and|    42|\n",
            "|   she|    38|\n",
            "|     a|    38|\n",
            "|   her|    38|\n",
            "|    to|    37|\n",
            "|   was|    26|\n",
            "|forest|    23|\n",
            "|    it|    21|\n",
            "|    in|    19|\n",
            "|   its|    18|\n",
            "|   had|    15|\n",
            "+------+------+\n",
            "\n"
          ]
        }
      ]
    },
    {
      "cell_type": "code",
      "source": [],
      "metadata": {
        "id": "8bKihDxDrc3s"
      },
      "execution_count": null,
      "outputs": []
    }
  ]
}