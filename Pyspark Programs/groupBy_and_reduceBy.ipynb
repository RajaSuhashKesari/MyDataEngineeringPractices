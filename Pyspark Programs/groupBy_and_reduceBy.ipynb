{
  "nbformat": 4,
  "nbformat_minor": 0,
  "metadata": {
    "colab": {
      "provenance": [],
      "authorship_tag": "ABX9TyMoQEK5Y032u5GW6OehpO43",
      "include_colab_link": true
    },
    "kernelspec": {
      "name": "python3",
      "display_name": "Python 3"
    },
    "language_info": {
      "name": "python"
    }
  },
  "cells": [
    {
      "cell_type": "markdown",
      "metadata": {
        "id": "view-in-github",
        "colab_type": "text"
      },
      "source": [
        "<a href=\"https://colab.research.google.com/github/RajaSuhashKesari/MyDataEngineeringPractices/blob/main/groupBy_and_reduceBy.ipynb\" target=\"_parent\"><img src=\"https://colab.research.google.com/assets/colab-badge.svg\" alt=\"Open In Colab\"/></a>"
      ]
    },
    {
      "cell_type": "code",
      "execution_count": 2,
      "metadata": {
        "id": "5kfrwHmNvy02"
      },
      "outputs": [],
      "source": [
        "from pyspark.sql import SparkSession\n",
        "spark = SparkSession.builder.appName('SparkByExamples.com').getOrCreate()\n",
        "sc = spark.sparkContext"
      ]
    },
    {
      "cell_type": "code",
      "source": [
        "data = [('A',1),('A',3),('A',2),('B',1),('D',1),('D',55),('G',2)]\n",
        "rdd1 = sc.parallelize(data)"
      ],
      "metadata": {
        "id": "Z9rIIaRzwa2E"
      },
      "execution_count": 8,
      "outputs": []
    },
    {
      "cell_type": "markdown",
      "source": [
        "# **groupByKey()**"
      ],
      "metadata": {
        "id": "6TKSTFLRzObj"
      }
    },
    {
      "cell_type": "code",
      "source": [
        "grouped = rdd1.groupByKey()\n",
        "result = grouped.mapValues(list)\n",
        "result.collect()"
      ],
      "metadata": {
        "colab": {
          "base_uri": "https://localhost:8080/"
        },
        "id": "_JgOJe8bxHmP",
        "outputId": "97926bd0-30f6-4da3-f772-022b4381c423"
      },
      "execution_count": 17,
      "outputs": [
        {
          "output_type": "execute_result",
          "data": {
            "text/plain": [
              "[('A', [1, 3, 2]), ('D', [1, 55]), ('G', [2]), ('B', [1])]"
            ]
          },
          "metadata": {},
          "execution_count": 17
        }
      ]
    },
    {
      "cell_type": "markdown",
      "source": [
        "# **reduceByKey()**"
      ],
      "metadata": {
        "id": "I7tRmBVGz1Lv"
      }
    },
    {
      "cell_type": "code",
      "source": [
        "reduced = rdd1.reduceByKey(lambda x,y : x+y)\n",
        "reduced.collect()"
      ],
      "metadata": {
        "colab": {
          "base_uri": "https://localhost:8080/"
        },
        "id": "W_5eh_nqzrh5",
        "outputId": "e5f72b13-50a5-4b88-b24d-854003cda021"
      },
      "execution_count": 19,
      "outputs": [
        {
          "output_type": "execute_result",
          "data": {
            "text/plain": [
              "[('A', 6), ('D', 56), ('G', 2), ('B', 1)]"
            ]
          },
          "metadata": {},
          "execution_count": 19
        }
      ]
    }
  ]
}
