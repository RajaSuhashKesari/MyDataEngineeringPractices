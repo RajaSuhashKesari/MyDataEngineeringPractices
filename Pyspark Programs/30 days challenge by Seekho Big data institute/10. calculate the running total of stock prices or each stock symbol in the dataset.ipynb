{
  "nbformat": 4,
  "nbformat_minor": 0,
  "metadata": {
    "colab": {
      "provenance": [],
      "authorship_tag": "ABX9TyMsI8Bt8R6Av7UsavJz0ERm",
      "include_colab_link": true
    },
    "kernelspec": {
      "name": "python3",
      "display_name": "Python 3"
    },
    "language_info": {
      "name": "python"
    }
  },
  "cells": [
    {
      "cell_type": "markdown",
      "metadata": {
        "id": "view-in-github",
        "colab_type": "text"
      },
      "source": [
        "<a href=\"https://colab.research.google.com/github/RajaSuhashKesari/MyDataEngineeringPractices/blob/main/Pyspark%20Programs/30%20days%20challenge%20by%20Seekho%20Big%20data%20institute/10.%20calculate%20the%20running%20total%20of%20stock%20prices%20or%20each%20stock%20symbol%20in%20the%20dataset.ipynb\" target=\"_parent\"><img src=\"https://colab.research.google.com/assets/colab-badge.svg\" alt=\"Open In Colab\"/></a>"
      ]
    },
    {
      "cell_type": "markdown",
      "source": [
        "## **Import dependencies**"
      ],
      "metadata": {
        "id": "5qMo8qWUX0WN"
      }
    },
    {
      "cell_type": "code",
      "execution_count": 15,
      "metadata": {
        "id": "W-nJ3JOcWEKu"
      },
      "outputs": [],
      "source": [
        "from pyspark.sql import SparkSession\n",
        "from pyspark.sql.window import Window\n",
        "from pyspark.sql.functions import sum\n",
        "spark = SparkSession.builder.master(\"local[*]\").appName(\"calculate the running total of stock prices for each stock symbol in the dataset.\").getOrCreate()"
      ]
    },
    {
      "cell_type": "code",
      "source": [
        "data = [ (\"2024-09-01\", \"AAPL\", 150),\n",
        " (\"2024-09-02\", \"AAPL\", 160),\n",
        " (\"2024-09-03\", \"AAPL\", 170),\n",
        " (\"2024-09-01\", \"GOOGL\", 1200),\n",
        " (\"2024-09-02\", \"GOOGL\", 1250),\n",
        "  (\"2024-09-03\", \"GOOGL\", 1300) ]"
      ],
      "metadata": {
        "id": "fUlsVFWbj4_p"
      },
      "execution_count": 16,
      "outputs": []
    },
    {
      "cell_type": "code",
      "source": [
        "columns = [\"Date\", \"Symbol\", \"Price\"]"
      ],
      "metadata": {
        "id": "e9wDXhA1o_Ip"
      },
      "execution_count": 17,
      "outputs": []
    },
    {
      "cell_type": "markdown",
      "source": [
        "#### **Create Dataframe**"
      ],
      "metadata": {
        "id": "2FKweRGLpLNA"
      }
    },
    {
      "cell_type": "code",
      "source": [
        "stock_df = spark.createDataFrame(data,columns)\n",
        "stock_df.show()"
      ],
      "metadata": {
        "colab": {
          "base_uri": "https://localhost:8080/"
        },
        "id": "pynRforipKPp",
        "outputId": "cbaf8dfc-5731-42da-ea51-8cb65ecb1b2d"
      },
      "execution_count": 18,
      "outputs": [
        {
          "output_type": "stream",
          "name": "stdout",
          "text": [
            "+----------+------+-----+\n",
            "|      Date|Symbol|Price|\n",
            "+----------+------+-----+\n",
            "|2024-09-01|  AAPL|  150|\n",
            "|2024-09-02|  AAPL|  160|\n",
            "|2024-09-03|  AAPL|  170|\n",
            "|2024-09-01| GOOGL| 1200|\n",
            "|2024-09-02| GOOGL| 1250|\n",
            "|2024-09-03| GOOGL| 1300|\n",
            "+----------+------+-----+\n",
            "\n"
          ]
        }
      ]
    },
    {
      "cell_type": "code",
      "source": [
        "windowSpec = Window.partitionBy(\"Symbol\").orderBy(\"Date\")"
      ],
      "metadata": {
        "id": "5MEjCydXpkst"
      },
      "execution_count": 19,
      "outputs": []
    },
    {
      "cell_type": "markdown",
      "source": [
        "## **Calculating Running total**"
      ],
      "metadata": {
        "id": "Yj1wez7Nr4Za"
      }
    },
    {
      "cell_type": "code",
      "source": [
        "stock_df.withColumn(\"running total\",sum(col(\"Price\")).over(windowSpec)).show()"
      ],
      "metadata": {
        "colab": {
          "base_uri": "https://localhost:8080/"
        },
        "id": "N2VA1UJBqJbw",
        "outputId": "5d52f0f1-13cc-4c99-d73e-819df611c69e"
      },
      "execution_count": 21,
      "outputs": [
        {
          "output_type": "stream",
          "name": "stdout",
          "text": [
            "+----------+------+-----+-------------+\n",
            "|      Date|Symbol|Price|running total|\n",
            "+----------+------+-----+-------------+\n",
            "|2024-09-01|  AAPL|  150|          150|\n",
            "|2024-09-02|  AAPL|  160|          310|\n",
            "|2024-09-03|  AAPL|  170|          480|\n",
            "|2024-09-01| GOOGL| 1200|         1200|\n",
            "|2024-09-02| GOOGL| 1250|         2450|\n",
            "|2024-09-03| GOOGL| 1300|         3750|\n",
            "+----------+------+-----+-------------+\n",
            "\n"
          ]
        }
      ]
    },
    {
      "cell_type": "code",
      "source": [
        "spark.stop()"
      ],
      "metadata": {
        "id": "mP56J5f1rFG1"
      },
      "execution_count": 13,
      "outputs": []
    }
  ]
}