{
  "nbformat": 4,
  "nbformat_minor": 0,
  "metadata": {
    "colab": {
      "provenance": [],
      "authorship_tag": "ABX9TyM1UgAgZM1/2LLdMAGh1vEd",
      "include_colab_link": true
    },
    "kernelspec": {
      "name": "python3",
      "display_name": "Python 3"
    },
    "language_info": {
      "name": "python"
    }
  },
  "cells": [
    {
      "cell_type": "markdown",
      "metadata": {
        "id": "view-in-github",
        "colab_type": "text"
      },
      "source": [
        "<a href=\"https://colab.research.google.com/github/RajaSuhashKesari/MyDataEngineeringPractices/blob/main/Pyspark%20Programs/30%20days%20challenge%20by%20Seekho%20Big%20data%20institute/top_N_words.ipynb\" target=\"_parent\"><img src=\"https://colab.research.google.com/assets/colab-badge.svg\" alt=\"Open In Colab\"/></a>"
      ]
    },
    {
      "cell_type": "code",
      "execution_count": 31,
      "metadata": {
        "id": "7YNZClYP4siY"
      },
      "outputs": [],
      "source": [
        "from pyspark.sql import SparkSession\n",
        "spark = SparkSession.builder.appName('Top N words which More Count').getOrCreate()"
      ]
    },
    {
      "cell_type": "markdown",
      "source": [
        "## Read text file"
      ],
      "metadata": {
        "id": "ciDdRGTd5zj1"
      }
    },
    {
      "cell_type": "code",
      "source": [
        "text_data = spark.read.text(\"/content/words\")"
      ],
      "metadata": {
        "id": "EUIByYe45Ep-"
      },
      "execution_count": 32,
      "outputs": []
    },
    {
      "cell_type": "code",
      "source": [
        "text_data.show()"
      ],
      "metadata": {
        "colab": {
          "base_uri": "https://localhost:8080/"
        },
        "id": "4vHwKi6R6ULY",
        "outputId": "b93eaaf9-80eb-471b-ef27-b6140eb798b4"
      },
      "execution_count": 33,
      "outputs": [
        {
          "output_type": "stream",
          "name": "stdout",
          "text": [
            "+--------------------+\n",
            "|               value|\n",
            "+--------------------+\n",
            "|         Hello world|\n",
            "|  Hello from Pyspark|\n",
            "|  PySpark is awesome|\n",
            "| Hello Pyspark world|\n",
            "|this is suhash ke...|\n",
            "|this is written b...|\n",
            "+--------------------+\n",
            "\n"
          ]
        }
      ]
    },
    {
      "cell_type": "markdown",
      "source": [
        "## convert the words into the dataframe"
      ],
      "metadata": {
        "id": "C1hXHwiV55XU"
      }
    },
    {
      "cell_type": "code",
      "source": [
        "from pyspark.sql.functions import *\n",
        "words_df = text_data.select(explode(split(col('value'),' ')).alias(\"words\"))"
      ],
      "metadata": {
        "id": "ir3EOEyi5xn4"
      },
      "execution_count": 34,
      "outputs": []
    },
    {
      "cell_type": "code",
      "source": [
        "words_df.show()"
      ],
      "metadata": {
        "colab": {
          "base_uri": "https://localhost:8080/"
        },
        "id": "5RyJeU6k7SSS",
        "outputId": "80893fce-d79b-4c63-959a-ab00d4bb50a9"
      },
      "execution_count": 35,
      "outputs": [
        {
          "output_type": "stream",
          "name": "stdout",
          "text": [
            "+-------+\n",
            "|  words|\n",
            "+-------+\n",
            "|  Hello|\n",
            "|  world|\n",
            "|  Hello|\n",
            "|   from|\n",
            "|Pyspark|\n",
            "|PySpark|\n",
            "|     is|\n",
            "|awesome|\n",
            "|  Hello|\n",
            "|Pyspark|\n",
            "|  world|\n",
            "|   this|\n",
            "|     is|\n",
            "| suhash|\n",
            "| kesari|\n",
            "|   this|\n",
            "|     is|\n",
            "|written|\n",
            "|     by|\n",
            "| suhash|\n",
            "+-------+\n",
            "only showing top 20 rows\n",
            "\n"
          ]
        }
      ]
    },
    {
      "cell_type": "markdown",
      "source": [
        "## convert all the words to lower case"
      ],
      "metadata": {
        "id": "6J53F9sf7lJz"
      }
    },
    {
      "cell_type": "code",
      "source": [
        "words_df = words_df.withColumn(\"words\",lower(col(\"words\")))"
      ],
      "metadata": {
        "id": "mw_uuXlP7jeb"
      },
      "execution_count": 36,
      "outputs": []
    },
    {
      "cell_type": "code",
      "source": [
        "words_df.show()"
      ],
      "metadata": {
        "colab": {
          "base_uri": "https://localhost:8080/"
        },
        "id": "UvdYJ7J98Flx",
        "outputId": "8778b57c-4f9d-46f2-901d-b5fbb57bba12"
      },
      "execution_count": 37,
      "outputs": [
        {
          "output_type": "stream",
          "name": "stdout",
          "text": [
            "+-------+\n",
            "|  words|\n",
            "+-------+\n",
            "|  hello|\n",
            "|  world|\n",
            "|  hello|\n",
            "|   from|\n",
            "|pyspark|\n",
            "|pyspark|\n",
            "|     is|\n",
            "|awesome|\n",
            "|  hello|\n",
            "|pyspark|\n",
            "|  world|\n",
            "|   this|\n",
            "|     is|\n",
            "| suhash|\n",
            "| kesari|\n",
            "|   this|\n",
            "|     is|\n",
            "|written|\n",
            "|     by|\n",
            "| suhash|\n",
            "+-------+\n",
            "only showing top 20 rows\n",
            "\n"
          ]
        }
      ]
    },
    {
      "cell_type": "markdown",
      "source": [
        "## count the words by using group by"
      ],
      "metadata": {
        "id": "maqOEbFy8LmW"
      }
    },
    {
      "cell_type": "code",
      "source": [
        "counts_df = words_df.groupBy(\"words\").agg(count(col('words')).alias('counts'))"
      ],
      "metadata": {
        "id": "caFQjpId8JTr"
      },
      "execution_count": 38,
      "outputs": []
    },
    {
      "cell_type": "code",
      "source": [
        "counts_df.show()"
      ],
      "metadata": {
        "colab": {
          "base_uri": "https://localhost:8080/"
        },
        "id": "2mSdJoha8o1-",
        "outputId": "56de44e0-78b6-4b57-ea3d-7137815ef6ea"
      },
      "execution_count": 39,
      "outputs": [
        {
          "output_type": "stream",
          "name": "stdout",
          "text": [
            "+-----------+------+\n",
            "|      words|counts|\n",
            "+-----------+------+\n",
            "|   graduate|     1|\n",
            "|     suhash|     2|\n",
            "|         by|     1|\n",
            "|      hello|     3|\n",
            "|         is|     3|\n",
            "|     kesari|     1|\n",
            "|    pyspark|     3|\n",
            "|       from|     1|\n",
            "|      world|     2|\n",
            "|         an|     1|\n",
            "|    awesome|     1|\n",
            "|engineering|     1|\n",
            "|       this|     2|\n",
            "|    written|     1|\n",
            "+-----------+------+\n",
            "\n"
          ]
        }
      ]
    },
    {
      "cell_type": "markdown",
      "source": [
        "## sort the counts in descending order to find top"
      ],
      "metadata": {
        "id": "cXTdyn8Z80SU"
      }
    },
    {
      "cell_type": "code",
      "source": [
        "sorted_df = counts_df.orderBy(desc('counts'))"
      ],
      "metadata": {
        "id": "HXjvRsZr8rvI"
      },
      "execution_count": 40,
      "outputs": []
    },
    {
      "cell_type": "code",
      "source": [
        "sorted_df.show()"
      ],
      "metadata": {
        "colab": {
          "base_uri": "https://localhost:8080/"
        },
        "id": "SmWLEm4O9kc5",
        "outputId": "e698753b-6e39-4409-93c3-fa5d7c54f35a"
      },
      "execution_count": 41,
      "outputs": [
        {
          "output_type": "stream",
          "name": "stdout",
          "text": [
            "+-----------+------+\n",
            "|      words|counts|\n",
            "+-----------+------+\n",
            "|      hello|     3|\n",
            "|         is|     3|\n",
            "|    pyspark|     3|\n",
            "|     suhash|     2|\n",
            "|      world|     2|\n",
            "|       this|     2|\n",
            "|   graduate|     1|\n",
            "|         by|     1|\n",
            "|     kesari|     1|\n",
            "|       from|     1|\n",
            "|         an|     1|\n",
            "|    awesome|     1|\n",
            "|engineering|     1|\n",
            "|    written|     1|\n",
            "+-----------+------+\n",
            "\n"
          ]
        }
      ]
    },
    {
      "cell_type": "code",
      "source": [
        "top_n = 9\n",
        "sorted_df.limit(top_n).show()"
      ],
      "metadata": {
        "colab": {
          "base_uri": "https://localhost:8080/"
        },
        "id": "ZrtAMCux9m4-",
        "outputId": "1a54c1aa-a6bc-4d55-c367-f9dfe178481b"
      },
      "execution_count": 42,
      "outputs": [
        {
          "output_type": "stream",
          "name": "stdout",
          "text": [
            "+--------+------+\n",
            "|   words|counts|\n",
            "+--------+------+\n",
            "|   hello|     3|\n",
            "|      is|     3|\n",
            "| pyspark|     3|\n",
            "|  suhash|     2|\n",
            "|   world|     2|\n",
            "|    this|     2|\n",
            "|graduate|     1|\n",
            "|      by|     1|\n",
            "|  kesari|     1|\n",
            "+--------+------+\n",
            "\n"
          ]
        }
      ]
    },
    {
      "cell_type": "markdown",
      "source": [
        "## Once Again Practice"
      ],
      "metadata": {
        "id": "jnTsHvLaHdzf"
      }
    },
    {
      "cell_type": "code",
      "source": [
        "text_data = spark.read.text(\"/content/words\")\n",
        "words_df = text_data.select(explode(split(col('value'),' ')).alias(\"words\"))\n",
        "words_df = words_df.withColumn(\"words\",lower(col('words')))\n",
        "counts_df = words_df.groupBy(\"words\").agg(count(col('words')).alias('counts'))\n",
        "sorted_df = counts_df.orderBy(desc(col('counts')))\n",
        "top_n = 9\n",
        "sorted_df.limit(top_n).show()"
      ],
      "metadata": {
        "colab": {
          "base_uri": "https://localhost:8080/"
        },
        "id": "cE6LcrQC_Eid",
        "outputId": "269239be-d5fe-43b2-f513-10fe29457339"
      },
      "execution_count": 43,
      "outputs": [
        {
          "output_type": "stream",
          "name": "stdout",
          "text": [
            "+--------+------+\n",
            "|   words|counts|\n",
            "+--------+------+\n",
            "|   hello|     3|\n",
            "|      is|     3|\n",
            "| pyspark|     3|\n",
            "|  suhash|     2|\n",
            "|   world|     2|\n",
            "|    this|     2|\n",
            "|graduate|     1|\n",
            "|      by|     1|\n",
            "|  kesari|     1|\n",
            "+--------+------+\n",
            "\n"
          ]
        }
      ]
    }
  ]
}
