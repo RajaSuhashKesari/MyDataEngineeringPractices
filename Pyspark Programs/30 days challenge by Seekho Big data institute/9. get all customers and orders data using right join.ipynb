{
  "nbformat": 4,
  "nbformat_minor": 0,
  "metadata": {
    "colab": {
      "provenance": [],
      "authorship_tag": "ABX9TyMdl2qDZjWAxSds/ovMG0rw",
      "include_colab_link": true
    },
    "kernelspec": {
      "name": "python3",
      "display_name": "Python 3"
    },
    "language_info": {
      "name": "python"
    }
  },
  "cells": [
    {
      "cell_type": "markdown",
      "metadata": {
        "id": "view-in-github",
        "colab_type": "text"
      },
      "source": [
        "<a href=\"https://colab.research.google.com/github/RajaSuhashKesari/MyDataEngineeringPractices/blob/main/Pyspark%20Programs/30%20days%20challenge%20by%20Seekho%20Big%20data%20institute/9.%20get%20all%20customers%20and%20orders%20data%20using%20right%20join.ipynb\" target=\"_parent\"><img src=\"https://colab.research.google.com/assets/colab-badge.svg\" alt=\"Open In Colab\"/></a>"
      ]
    },
    {
      "cell_type": "code",
      "execution_count": 3,
      "metadata": {
        "id": "ikbgB177juq_"
      },
      "outputs": [],
      "source": [
        "from pyspark.sql import SparkSession\n",
        "spark = SparkSession.builder.appName(\"JoinExample\").getOrCreate()"
      ]
    },
    {
      "cell_type": "markdown",
      "source": [
        "## Orders Dataset:\n",
        "### Contains order details such as order_id, customer_id, and order_status."
      ],
      "metadata": {
        "id": "Kfxh-QoejzEk"
      }
    },
    {
      "cell_type": "code",
      "source": [
        "orders_data = [(1, 101, \"Delivered\"),\n",
        "               (2, 102, \"Pending\"),\n",
        "               (3, 103, \"Shipped\"),\n",
        "               (4, 101, \"Cancelled\")]\n",
        "orders_df = spark.createDataFrame(orders_data, [\"order_id\", \"customer_id\", \"order_status\"])"
      ],
      "metadata": {
        "id": "pdeYaQQymAGT"
      },
      "execution_count": 4,
      "outputs": []
    },
    {
      "cell_type": "markdown",
      "source": [
        "## Customers Dataset:\n",
        "### Contains information about customers like customer_id, customer_name, and customer_city."
      ],
      "metadata": {
        "id": "xcmZPZkXlUuX"
      }
    },
    {
      "cell_type": "code",
      "source": [
        "customers_data = [(101, \"Alice\", \"New York\"),\n",
        "                  (102, \"Bob\", \"Los Angeles\"),\n",
        "                  (103, \"Charlie\", \"Chicago\"),\n",
        "                  (104, \"David\", \"Houston\")]\n",
        "customers_df = spark.createDataFrame(customers_data, [\"customer_id\", \"customer_name\", \"customer_city\"])"
      ],
      "metadata": {
        "id": "DvJ4IhHDmEo3"
      },
      "execution_count": 5,
      "outputs": []
    },
    {
      "cell_type": "markdown",
      "source": [
        "## **our task is to generate a report that contains all customer information,even if they have not placed any orders. Use a right join to solve this problem,so that we get all customers, including those without orders.**"
      ],
      "metadata": {
        "id": "j4FIppvRlpRX"
      }
    },
    {
      "cell_type": "code",
      "source": [
        "customer_orders_report = orders_df.join(customers_df, on=\"customer_id\", how=\"right\")\n",
        "customer_orders_report.show()"
      ],
      "metadata": {
        "colab": {
          "base_uri": "https://localhost:8080/"
        },
        "id": "Nyd0WpWokWB7",
        "outputId": "05c89acf-83af-4328-9cca-64002a44b188"
      },
      "execution_count": 6,
      "outputs": [
        {
          "output_type": "stream",
          "name": "stdout",
          "text": [
            "+-----------+--------+------------+-------------+-------------+\n",
            "|customer_id|order_id|order_status|customer_name|customer_city|\n",
            "+-----------+--------+------------+-------------+-------------+\n",
            "|        101|       4|   Cancelled|        Alice|     New York|\n",
            "|        101|       1|   Delivered|        Alice|     New York|\n",
            "|        102|       2|     Pending|          Bob|  Los Angeles|\n",
            "|        103|       3|     Shipped|      Charlie|      Chicago|\n",
            "|        104|    NULL|        NULL|        David|      Houston|\n",
            "+-----------+--------+------------+-------------+-------------+\n",
            "\n"
          ]
        }
      ]
    },
    {
      "cell_type": "code",
      "source": [
        "spark.stop()"
      ],
      "metadata": {
        "id": "0EzV_SlNmnrT"
      },
      "execution_count": 7,
      "outputs": []
    }
  ]
}