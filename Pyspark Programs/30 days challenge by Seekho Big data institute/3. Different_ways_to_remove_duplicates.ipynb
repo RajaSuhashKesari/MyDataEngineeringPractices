{
  "nbformat": 4,
  "nbformat_minor": 0,
  "metadata": {
    "colab": {
      "provenance": [],
      "authorship_tag": "ABX9TyP2390CKHTeNL5iZlSnuV0g",
      "include_colab_link": true
    },
    "kernelspec": {
      "name": "python3",
      "display_name": "Python 3"
    },
    "language_info": {
      "name": "python"
    }
  },
  "cells": [
    {
      "cell_type": "markdown",
      "metadata": {
        "id": "view-in-github",
        "colab_type": "text"
      },
      "source": [
        "<a href=\"https://colab.research.google.com/github/RajaSuhashKesari/MyDataEngineeringPractices/blob/main/Pyspark%20Programs/30%20days%20challenge%20by%20Seekho%20Big%20data%20institute/3.%20Different_ways_to_remove_duplicates.ipynb\" target=\"_parent\"><img src=\"https://colab.research.google.com/assets/colab-badge.svg\" alt=\"Open In Colab\"/></a>"
      ]
    },
    {
      "cell_type": "markdown",
      "source": [
        "## **importing dependencies**"
      ],
      "metadata": {
        "id": "BdhJFJEJFFrq"
      }
    },
    {
      "cell_type": "code",
      "execution_count": 12,
      "metadata": {
        "id": "FYQp5zsa9nuT"
      },
      "outputs": [],
      "source": [
        "from pyspark.sql import SparkSession\n",
        "from pyspark.sql.functions import *\n",
        "spark = SparkSession.builder.master('local[*]').appName(\"Different ways to remove duplicates\").getOrCreate()"
      ]
    },
    {
      "cell_type": "code",
      "source": [
        "data = [(1, \"Alice\", 2000),\n",
        " (2, \"Bob\", 3000),\n",
        " (3, \"Alice\", 2000),\n",
        " (4, \"David\", 4000),\n",
        " (5, \"Alice\", 5000),\n",
        " (6, \"Bob\", 3000) ]"
      ],
      "metadata": {
        "id": "VHk9kfNL-J_y"
      },
      "execution_count": 13,
      "outputs": []
    },
    {
      "cell_type": "code",
      "source": [
        "columns = [\"ID\", \"Name\", \"Salary\"]"
      ],
      "metadata": {
        "id": "-nFvfNrF-Vih"
      },
      "execution_count": 14,
      "outputs": []
    },
    {
      "cell_type": "markdown",
      "source": [
        "## **Creating DataFrame**"
      ],
      "metadata": {
        "id": "vIohG9dJFP2i"
      }
    },
    {
      "cell_type": "code",
      "source": [
        "employees_df = spark.createDataFrame(data,columns)\n",
        "employees_df.show()"
      ],
      "metadata": {
        "colab": {
          "base_uri": "https://localhost:8080/"
        },
        "id": "r_LI-9MZ_TcN",
        "outputId": "24b0e8c8-cc30-48d2-ff5a-6844a01cd43d"
      },
      "execution_count": 15,
      "outputs": [
        {
          "output_type": "stream",
          "name": "stdout",
          "text": [
            "+---+-----+------+\n",
            "| ID| Name|Salary|\n",
            "+---+-----+------+\n",
            "|  1|Alice|  2000|\n",
            "|  2|  Bob|  3000|\n",
            "|  3|Alice|  2000|\n",
            "|  4|David|  4000|\n",
            "|  5|Alice|  5000|\n",
            "|  6|  Bob|  3000|\n",
            "+---+-----+------+\n",
            "\n"
          ]
        }
      ]
    },
    {
      "cell_type": "markdown",
      "source": [
        "## **Method 1 : Using distinct()**"
      ],
      "metadata": {
        "id": "fU1QOGEd_Avo"
      }
    },
    {
      "cell_type": "code",
      "source": [
        "disinct_df = employees_df.distinct()\n",
        "disinct_df.show()"
      ],
      "metadata": {
        "colab": {
          "base_uri": "https://localhost:8080/"
        },
        "id": "-LiK8Ood-YJO",
        "outputId": "d06fa96a-b939-4f5b-8a0f-05be49638cea"
      },
      "execution_count": 16,
      "outputs": [
        {
          "output_type": "stream",
          "name": "stdout",
          "text": [
            "+---+-----+------+\n",
            "| ID| Name|Salary|\n",
            "+---+-----+------+\n",
            "|  1|Alice|  2000|\n",
            "|  2|  Bob|  3000|\n",
            "|  3|Alice|  2000|\n",
            "|  4|David|  4000|\n",
            "|  5|Alice|  5000|\n",
            "|  6|  Bob|  3000|\n",
            "+---+-----+------+\n",
            "\n"
          ]
        }
      ]
    },
    {
      "cell_type": "markdown",
      "source": [
        "## **Method 2 : Using dropDuplicates()**"
      ],
      "metadata": {
        "id": "6eBdQ-eAANCp"
      }
    },
    {
      "cell_type": "code",
      "source": [
        "dropduplicates_df = employees_df.dropDuplicates(subset = ['Name','Salary'])\n",
        "dropduplicates_df.show()"
      ],
      "metadata": {
        "colab": {
          "base_uri": "https://localhost:8080/"
        },
        "id": "gr4FJ8Qv_uNF",
        "outputId": "d941ddb3-2f02-4e15-a871-0a00ebe3bd14"
      },
      "execution_count": 17,
      "outputs": [
        {
          "output_type": "stream",
          "name": "stdout",
          "text": [
            "+---+-----+------+\n",
            "| ID| Name|Salary|\n",
            "+---+-----+------+\n",
            "|  2|  Bob|  3000|\n",
            "|  1|Alice|  2000|\n",
            "|  5|Alice|  5000|\n",
            "|  4|David|  4000|\n",
            "+---+-----+------+\n",
            "\n"
          ]
        }
      ]
    },
    {
      "cell_type": "markdown",
      "source": [
        "## **Method 3 : Using groupBy() and agg()**"
      ],
      "metadata": {
        "id": "5u4tMZyUBCmC"
      }
    },
    {
      "cell_type": "code",
      "source": [
        "groupby_df = employees_df.groupBy('Name','Salary').agg(first(col('ID')).alias(\"ID\")).select(\"ID\",'Name','Salary')\n",
        "groupby_df.show()"
      ],
      "metadata": {
        "colab": {
          "base_uri": "https://localhost:8080/"
        },
        "id": "rFcP7QLgAwfV",
        "outputId": "25c7b17c-054a-4615-ba63-69c1c25decd6"
      },
      "execution_count": 19,
      "outputs": [
        {
          "output_type": "stream",
          "name": "stdout",
          "text": [
            "+---+-----+------+\n",
            "| ID| Name|Salary|\n",
            "+---+-----+------+\n",
            "|  2|  Bob|  3000|\n",
            "|  1|Alice|  2000|\n",
            "|  5|Alice|  5000|\n",
            "|  4|David|  4000|\n",
            "+---+-----+------+\n",
            "\n"
          ]
        }
      ]
    },
    {
      "cell_type": "markdown",
      "source": [
        "## **Method 4 : Using Window Function**"
      ],
      "metadata": {
        "id": "XQ1OSjwsCFVb"
      }
    },
    {
      "cell_type": "code",
      "source": [
        "from pyspark.sql.window import Window"
      ],
      "metadata": {
        "id": "M9GAv0IaBvvr"
      },
      "execution_count": 20,
      "outputs": []
    },
    {
      "cell_type": "code",
      "source": [
        "windowSpec = Window.partitionBy('Name','Salary').orderBy('ID')"
      ],
      "metadata": {
        "id": "bCeUiZY0CT9b"
      },
      "execution_count": 21,
      "outputs": []
    },
    {
      "cell_type": "code",
      "source": [
        "df_with_row_num = employees_df.withColumn(\"Row_Number\",row_number().over(windowSpec))\n",
        "df_with_row_num.show()"
      ],
      "metadata": {
        "colab": {
          "base_uri": "https://localhost:8080/"
        },
        "id": "BHDP4unZC88a",
        "outputId": "d31b2c93-b4d7-4ee0-9899-4a550d80f71e"
      },
      "execution_count": 22,
      "outputs": [
        {
          "output_type": "stream",
          "name": "stdout",
          "text": [
            "+---+-----+------+----------+\n",
            "| ID| Name|Salary|Row_Number|\n",
            "+---+-----+------+----------+\n",
            "|  1|Alice|  2000|         1|\n",
            "|  3|Alice|  2000|         2|\n",
            "|  5|Alice|  5000|         1|\n",
            "|  2|  Bob|  3000|         1|\n",
            "|  6|  Bob|  3000|         2|\n",
            "|  4|David|  4000|         1|\n",
            "+---+-----+------+----------+\n",
            "\n"
          ]
        }
      ]
    },
    {
      "cell_type": "code",
      "source": [
        "filtered_df = df_with_row_num.filter(col('Row_Number') == 1).select(\"ID\",\"Name\",\"Salary\")\n",
        "filtered_df.show()"
      ],
      "metadata": {
        "colab": {
          "base_uri": "https://localhost:8080/"
        },
        "id": "3pH-bWz2EYO4",
        "outputId": "fd71bd4e-496a-4961-e278-7f914a20fc16"
      },
      "execution_count": 24,
      "outputs": [
        {
          "output_type": "stream",
          "name": "stdout",
          "text": [
            "+---+-----+------+\n",
            "| ID| Name|Salary|\n",
            "+---+-----+------+\n",
            "|  1|Alice|  2000|\n",
            "|  5|Alice|  5000|\n",
            "|  2|  Bob|  3000|\n",
            "|  4|David|  4000|\n",
            "+---+-----+------+\n",
            "\n"
          ]
        }
      ]
    },
    {
      "cell_type": "code",
      "source": [
        "spark.stop()"
      ],
      "metadata": {
        "id": "7NvgVPCKEulR"
      },
      "execution_count": 25,
      "outputs": []
    }
  ]
}