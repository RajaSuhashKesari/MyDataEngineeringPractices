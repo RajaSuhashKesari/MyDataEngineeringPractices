{
  "nbformat": 4,
  "nbformat_minor": 0,
  "metadata": {
    "colab": {
      "provenance": [],
      "authorship_tag": "ABX9TyPQygbwARah5+S66N2rnRTw",
      "include_colab_link": true
    },
    "kernelspec": {
      "name": "python3",
      "display_name": "Python 3"
    },
    "language_info": {
      "name": "python"
    }
  },
  "cells": [
    {
      "cell_type": "markdown",
      "metadata": {
        "id": "view-in-github",
        "colab_type": "text"
      },
      "source": [
        "<a href=\"https://colab.research.google.com/github/RajaSuhashKesari/MyDataEngineeringPractices/blob/main/Pyspark%20Programs/30%20days%20challenge%20by%20Seekho%20Big%20data%20institute/5.%20How_would_you_handle_null_values_in_a_DataFrame.ipynb\" target=\"_parent\"><img src=\"https://colab.research.google.com/assets/colab-badge.svg\" alt=\"Open In Colab\"/></a>"
      ]
    },
    {
      "cell_type": "code",
      "execution_count": 4,
      "metadata": {
        "id": "_X-ODV6eb3eT"
      },
      "outputs": [],
      "source": [
        "from pyspark.sql import SparkSession\n",
        "spark = SparkSession.builder.master(\"local[*]\").appName(\"Handling Nulls in the Pyspark\").getOrCreate()"
      ]
    },
    {
      "cell_type": "code",
      "source": [
        "employees = [\n",
        "    (1, \"Alice\", 34, \"F\", 50000.0),\n",
        "    (2, \"Bob\", None, \"M\", 45000.0),\n",
        "    (3, None, 29, \"F\", None),\n",
        "    (4, \"David\", 45, None, 60000.0),\n",
        "    (5, \"Eva\", None, \"F\", 52000.0),\n",
        "    (6, \"Frank\", 38, \"M\", None),\n",
        "    (7, None, None, None, None),\n",
        "    (8, \"Grace\", 28, \"F\", 48000.0)\n",
        "]\n",
        "\n",
        "#columns\n",
        "columns = [\"ID\",\"Name\", \"Age\",\"Gender\",\"Salary\"]"
      ],
      "metadata": {
        "id": "d8IY37CDURMZ"
      },
      "execution_count": 55,
      "outputs": []
    },
    {
      "cell_type": "markdown",
      "source": [
        "## **Create Dataframe**"
      ],
      "metadata": {
        "id": "sNEhx6-uUkgN"
      }
    },
    {
      "cell_type": "code",
      "source": [
        "employees_df = spark.createDataFrame(employees,columns)\n",
        "employees_df.show()"
      ],
      "metadata": {
        "colab": {
          "base_uri": "https://localhost:8080/"
        },
        "id": "5XkPdPc3Uomv",
        "outputId": "30de5662-c0d5-421e-c3d2-7f1080da24b5"
      },
      "execution_count": 56,
      "outputs": [
        {
          "output_type": "stream",
          "name": "stdout",
          "text": [
            "+---+-----+----+------+-------+\n",
            "| ID| Name| Age|Gender| Salary|\n",
            "+---+-----+----+------+-------+\n",
            "|  1|Alice|  34|     F|50000.0|\n",
            "|  2|  Bob|NULL|     M|45000.0|\n",
            "|  3| NULL|  29|     F|   NULL|\n",
            "|  4|David|  45|  NULL|60000.0|\n",
            "|  5|  Eva|NULL|     F|52000.0|\n",
            "|  6|Frank|  38|     M|   NULL|\n",
            "|  7| NULL|NULL|  NULL|   NULL|\n",
            "|  8|Grace|  28|     F|48000.0|\n",
            "+---+-----+----+------+-------+\n",
            "\n"
          ]
        }
      ]
    },
    {
      "cell_type": "markdown",
      "source": [
        "## **1.Droping Null rows**"
      ],
      "metadata": {
        "id": "snZYWoeOWwvt"
      }
    },
    {
      "cell_type": "markdown",
      "source": [
        "### **1.1 Dropping the row if it contains Null**"
      ],
      "metadata": {
        "id": "NXMDLQWUW6bj"
      }
    },
    {
      "cell_type": "code",
      "source": [
        "employees_df.na.drop().show()"
      ],
      "metadata": {
        "colab": {
          "base_uri": "https://localhost:8080/"
        },
        "id": "M5y7zsnBWazR",
        "outputId": "328211ec-9bd3-40dc-ffc2-7da8e50ed2e1"
      },
      "execution_count": 40,
      "outputs": [
        {
          "output_type": "stream",
          "name": "stdout",
          "text": [
            "+---+-----+---+------+-------+\n",
            "| ID| Name|Age|Gender| Salary|\n",
            "+---+-----+---+------+-------+\n",
            "|  1|Alice| 34|     F|50000.0|\n",
            "|  8|Grace| 28|     F|48000.0|\n",
            "+---+-----+---+------+-------+\n",
            "\n"
          ]
        }
      ]
    },
    {
      "cell_type": "markdown",
      "source": [
        "### **1.2 Dropping the row if specific column contain null**\n",
        "#### **Single Column**"
      ],
      "metadata": {
        "id": "SP_R3tJqXk6y"
      }
    },
    {
      "cell_type": "code",
      "source": [
        "employees_df.na.drop(subset=[\"Name\"]).show()"
      ],
      "metadata": {
        "colab": {
          "base_uri": "https://localhost:8080/"
        },
        "id": "RLRdoAelXcLZ",
        "outputId": "5fb8d6c8-4684-48c6-ae32-da64796e59ff"
      },
      "execution_count": 41,
      "outputs": [
        {
          "output_type": "stream",
          "name": "stdout",
          "text": [
            "+---+-----+----+------+-------+\n",
            "| ID| Name| Age|Gender| Salary|\n",
            "+---+-----+----+------+-------+\n",
            "|  1|Alice|  34|     F|50000.0|\n",
            "|  2|  Bob|NULL|     M|45000.0|\n",
            "|  4|David|  45|  NULL|60000.0|\n",
            "|  5|  Eva|NULL|     F|52000.0|\n",
            "|  6|Frank|  38|     M|   NULL|\n",
            "|  8|Grace|  28|     F|48000.0|\n",
            "+---+-----+----+------+-------+\n",
            "\n"
          ]
        }
      ]
    },
    {
      "cell_type": "code",
      "source": [
        "employees_df.na.drop(subset=[\"Salary\"]).show()"
      ],
      "metadata": {
        "colab": {
          "base_uri": "https://localhost:8080/"
        },
        "id": "_I6TA-l-YBtk",
        "outputId": "1c7e0b05-0b4b-47ba-f010-e81b8b4f3719"
      },
      "execution_count": 42,
      "outputs": [
        {
          "output_type": "stream",
          "name": "stdout",
          "text": [
            "+---+-----+----+------+-------+\n",
            "| ID| Name| Age|Gender| Salary|\n",
            "+---+-----+----+------+-------+\n",
            "|  1|Alice|  34|     F|50000.0|\n",
            "|  2|  Bob|NULL|     M|45000.0|\n",
            "|  4|David|  45|  NULL|60000.0|\n",
            "|  5|  Eva|NULL|     F|52000.0|\n",
            "|  8|Grace|  28|     F|48000.0|\n",
            "+---+-----+----+------+-------+\n",
            "\n"
          ]
        }
      ]
    },
    {
      "cell_type": "markdown",
      "source": [
        "#### **Multiple Columns**\n",
        "##### **Delete row if all selected colums have Nulls**"
      ],
      "metadata": {
        "id": "xfixy_kNYL0D"
      }
    },
    {
      "cell_type": "code",
      "source": [
        "employees_df.na.drop(how = 'all', subset = [\"Name\", \"Age\",\"Salary\"]).show()"
      ],
      "metadata": {
        "colab": {
          "base_uri": "https://localhost:8080/"
        },
        "id": "hE8qN697YGmq",
        "outputId": "5909fbec-44e7-496e-b9dd-cec1c0f396db"
      },
      "execution_count": 43,
      "outputs": [
        {
          "output_type": "stream",
          "name": "stdout",
          "text": [
            "+---+-----+----+------+-------+\n",
            "| ID| Name| Age|Gender| Salary|\n",
            "+---+-----+----+------+-------+\n",
            "|  1|Alice|  34|     F|50000.0|\n",
            "|  2|  Bob|NULL|     M|45000.0|\n",
            "|  3| NULL|  29|     F|   NULL|\n",
            "|  4|David|  45|  NULL|60000.0|\n",
            "|  5|  Eva|NULL|     F|52000.0|\n",
            "|  6|Frank|  38|     M|   NULL|\n",
            "|  8|Grace|  28|     F|48000.0|\n",
            "+---+-----+----+------+-------+\n",
            "\n"
          ]
        }
      ]
    },
    {
      "cell_type": "markdown",
      "source": [
        "##### **Delete row if any of selected colums have Nulls**"
      ],
      "metadata": {
        "id": "-9HWsmqUYfWo"
      }
    },
    {
      "cell_type": "code",
      "source": [
        "employees_df.na.drop(how = 'any', subset = [\"Name\", \"Age\",\"Salary\"]).show()"
      ],
      "metadata": {
        "colab": {
          "base_uri": "https://localhost:8080/"
        },
        "id": "tNjSM3-AYkU4",
        "outputId": "3d5f6a4b-879d-401d-d0ab-a9dccbb07f9f"
      },
      "execution_count": 44,
      "outputs": [
        {
          "output_type": "stream",
          "name": "stdout",
          "text": [
            "+---+-----+---+------+-------+\n",
            "| ID| Name|Age|Gender| Salary|\n",
            "+---+-----+---+------+-------+\n",
            "|  1|Alice| 34|     F|50000.0|\n",
            "|  4|David| 45|  NULL|60000.0|\n",
            "|  8|Grace| 28|     F|48000.0|\n",
            "+---+-----+---+------+-------+\n",
            "\n"
          ]
        }
      ]
    },
    {
      "cell_type": "markdown",
      "source": [
        "## **2.Fill Null values using na.fill() or fillna()**"
      ],
      "metadata": {
        "id": "xkWxVa82bbrO"
      }
    },
    {
      "cell_type": "markdown",
      "source": [
        "### **2.1 Filling nulls by specific value**"
      ],
      "metadata": {
        "id": "XKSPubPIeqwY"
      }
    },
    {
      "cell_type": "code",
      "source": [
        "employees_df.na.fill(0).show()"
      ],
      "metadata": {
        "colab": {
          "base_uri": "https://localhost:8080/"
        },
        "id": "y11jLO5Qe3VC",
        "outputId": "d84ee54f-59db-45d7-e154-612999e938dc"
      },
      "execution_count": 45,
      "outputs": [
        {
          "output_type": "stream",
          "name": "stdout",
          "text": [
            "+---+-----+---+------+-------+\n",
            "| ID| Name|Age|Gender| Salary|\n",
            "+---+-----+---+------+-------+\n",
            "|  1|Alice| 34|     F|50000.0|\n",
            "|  2|  Bob|  0|     M|45000.0|\n",
            "|  3| NULL| 29|     F|    0.0|\n",
            "|  4|David| 45|  NULL|60000.0|\n",
            "|  5|  Eva|  0|     F|52000.0|\n",
            "|  6|Frank| 38|     M|    0.0|\n",
            "|  7| NULL|  0|  NULL|    0.0|\n",
            "|  8|Grace| 28|     F|48000.0|\n",
            "+---+-----+---+------+-------+\n",
            "\n"
          ]
        }
      ]
    },
    {
      "cell_type": "code",
      "source": [
        "employees_df.na.fill('NA').show()"
      ],
      "metadata": {
        "colab": {
          "base_uri": "https://localhost:8080/"
        },
        "id": "mvzgYmBzfAvA",
        "outputId": "59b1740a-684c-4953-eb17-9980dced9379"
      },
      "execution_count": 46,
      "outputs": [
        {
          "output_type": "stream",
          "name": "stdout",
          "text": [
            "+---+-----+----+------+-------+\n",
            "| ID| Name| Age|Gender| Salary|\n",
            "+---+-----+----+------+-------+\n",
            "|  1|Alice|  34|     F|50000.0|\n",
            "|  2|  Bob|NULL|     M|45000.0|\n",
            "|  3|   NA|  29|     F|   NULL|\n",
            "|  4|David|  45|    NA|60000.0|\n",
            "|  5|  Eva|NULL|     F|52000.0|\n",
            "|  6|Frank|  38|     M|   NULL|\n",
            "|  7|   NA|NULL|    NA|   NULL|\n",
            "|  8|Grace|  28|     F|48000.0|\n",
            "+---+-----+----+------+-------+\n",
            "\n"
          ]
        }
      ]
    },
    {
      "cell_type": "markdown",
      "source": [
        "### **2.2 Filling nulls using dictionary method.**"
      ],
      "metadata": {
        "id": "InxgkcE7ea5A"
      }
    },
    {
      "cell_type": "code",
      "source": [
        "employees_df.na.fill({'Name':'Unknown','Age':0,'Gender':'NA','Salary':0}).show()"
      ],
      "metadata": {
        "colab": {
          "base_uri": "https://localhost:8080/"
        },
        "id": "IjGD98gkbDBy",
        "outputId": "ac5222ca-7257-470d-ca77-6c8d513346bd"
      },
      "execution_count": 47,
      "outputs": [
        {
          "output_type": "stream",
          "name": "stdout",
          "text": [
            "+---+-------+---+------+-------+\n",
            "| ID|   Name|Age|Gender| Salary|\n",
            "+---+-------+---+------+-------+\n",
            "|  1|  Alice| 34|     F|50000.0|\n",
            "|  2|    Bob|  0|     M|45000.0|\n",
            "|  3|Unknown| 29|     F|    0.0|\n",
            "|  4|  David| 45|    NA|60000.0|\n",
            "|  5|    Eva|  0|     F|52000.0|\n",
            "|  6|  Frank| 38|     M|    0.0|\n",
            "|  7|Unknown|  0|    NA|    0.0|\n",
            "|  8|  Grace| 28|     F|48000.0|\n",
            "+---+-------+---+------+-------+\n",
            "\n"
          ]
        }
      ]
    },
    {
      "cell_type": "code",
      "source": [
        "employees_df.fillna({'Name':'Unknown','Age':0,'Gender':'NA','Salary':0}).show()"
      ],
      "metadata": {
        "colab": {
          "base_uri": "https://localhost:8080/"
        },
        "id": "sa_WScITd7O2",
        "outputId": "98a4ab77-6cbd-4995-c4d5-e0e659ba31a9"
      },
      "execution_count": 48,
      "outputs": [
        {
          "output_type": "stream",
          "name": "stdout",
          "text": [
            "+---+-------+---+------+-------+\n",
            "| ID|   Name|Age|Gender| Salary|\n",
            "+---+-------+---+------+-------+\n",
            "|  1|  Alice| 34|     F|50000.0|\n",
            "|  2|    Bob|  0|     M|45000.0|\n",
            "|  3|Unknown| 29|     F|    0.0|\n",
            "|  4|  David| 45|    NA|60000.0|\n",
            "|  5|    Eva|  0|     F|52000.0|\n",
            "|  6|  Frank| 38|     M|    0.0|\n",
            "|  7|Unknown|  0|    NA|    0.0|\n",
            "|  8|  Grace| 28|     F|48000.0|\n",
            "+---+-------+---+------+-------+\n",
            "\n"
          ]
        }
      ]
    },
    {
      "cell_type": "markdown",
      "source": [
        "## **3.Removing Null row by filter()**"
      ],
      "metadata": {
        "id": "HOUQXra5fHTX"
      }
    },
    {
      "cell_type": "markdown",
      "source": [
        "### **3.1 getting the where the row doesn't contains nulls**"
      ],
      "metadata": {
        "id": "dRK3kmfHfgTO"
      }
    },
    {
      "cell_type": "code",
      "source": [
        "employees_df.filter(employees_df.Salary.isNotNull()).show()"
      ],
      "metadata": {
        "colab": {
          "base_uri": "https://localhost:8080/"
        },
        "id": "QXDYeHVveHSl",
        "outputId": "af5a0891-40d8-4580-c66b-80dc2c1519d8"
      },
      "execution_count": 49,
      "outputs": [
        {
          "output_type": "stream",
          "name": "stdout",
          "text": [
            "+---+-----+----+------+-------+\n",
            "| ID| Name| Age|Gender| Salary|\n",
            "+---+-----+----+------+-------+\n",
            "|  1|Alice|  34|     F|50000.0|\n",
            "|  2|  Bob|NULL|     M|45000.0|\n",
            "|  4|David|  45|  NULL|60000.0|\n",
            "|  5|  Eva|NULL|     F|52000.0|\n",
            "|  8|Grace|  28|     F|48000.0|\n",
            "+---+-----+----+------+-------+\n",
            "\n"
          ]
        }
      ]
    },
    {
      "cell_type": "code",
      "source": [
        "employees_df.filter(employees_df.Name.isNotNull() & employees_df.Salary.isNotNull()).show()"
      ],
      "metadata": {
        "colab": {
          "base_uri": "https://localhost:8080/"
        },
        "id": "zR2uf29sgsnx",
        "outputId": "2b6a2d3a-37a0-4747-d53f-4b1d1ec6c4a8"
      },
      "execution_count": 50,
      "outputs": [
        {
          "output_type": "stream",
          "name": "stdout",
          "text": [
            "+---+-----+----+------+-------+\n",
            "| ID| Name| Age|Gender| Salary|\n",
            "+---+-----+----+------+-------+\n",
            "|  1|Alice|  34|     F|50000.0|\n",
            "|  2|  Bob|NULL|     M|45000.0|\n",
            "|  4|David|  45|  NULL|60000.0|\n",
            "|  5|  Eva|NULL|     F|52000.0|\n",
            "|  8|Grace|  28|     F|48000.0|\n",
            "+---+-----+----+------+-------+\n",
            "\n"
          ]
        }
      ]
    },
    {
      "cell_type": "markdown",
      "source": [
        "### **3.2 getting the rows where the row contains nulls**"
      ],
      "metadata": {
        "id": "vJr1Ln6OfxnH"
      }
    },
    {
      "cell_type": "code",
      "source": [
        "employees_df.filter(employees_df.Name.isNull() | employees_df.Salary.isNull() | employees_df.Gender.isNull() | employees_df.Age.isNull()).show()"
      ],
      "metadata": {
        "colab": {
          "base_uri": "https://localhost:8080/"
        },
        "id": "07z8iyvlf484",
        "outputId": "dbdc5d7c-8f46-4b77-be76-7cf97a8c6b32"
      },
      "execution_count": 51,
      "outputs": [
        {
          "output_type": "stream",
          "name": "stdout",
          "text": [
            "+---+-----+----+------+-------+\n",
            "| ID| Name| Age|Gender| Salary|\n",
            "+---+-----+----+------+-------+\n",
            "|  2|  Bob|NULL|     M|45000.0|\n",
            "|  3| NULL|  29|     F|   NULL|\n",
            "|  4|David|  45|  NULL|60000.0|\n",
            "|  5|  Eva|NULL|     F|52000.0|\n",
            "|  6|Frank|  38|     M|   NULL|\n",
            "|  7| NULL|NULL|  NULL|   NULL|\n",
            "+---+-----+----+------+-------+\n",
            "\n"
          ]
        }
      ]
    },
    {
      "cell_type": "markdown",
      "source": [
        "## **4.Fill nulls using when()**"
      ],
      "metadata": {
        "id": "KKSuO5HoieHK"
      }
    },
    {
      "cell_type": "code",
      "source": [
        "from pyspark.sql.functions import when, col"
      ],
      "metadata": {
        "id": "yK0I3wKAizuS"
      },
      "execution_count": 52,
      "outputs": []
    },
    {
      "cell_type": "markdown",
      "source": [
        "#### **filling null name with Unknown**"
      ],
      "metadata": {
        "id": "_eoHAKaQkFhB"
      }
    },
    {
      "cell_type": "code",
      "source": [
        "employees_df = employees_df.withColumn(\"Name\",when(col(\"Name\").isNull(),\"Unknown\").otherwise(col(\"Name\")))\n",
        "employees_df.select(\"Name\").show()"
      ],
      "metadata": {
        "colab": {
          "base_uri": "https://localhost:8080/"
        },
        "id": "vouFcgb5hiJF",
        "outputId": "51baaf3b-4c64-4ee3-fed7-81198bad6b5c"
      },
      "execution_count": 57,
      "outputs": [
        {
          "output_type": "stream",
          "name": "stdout",
          "text": [
            "+-------+\n",
            "|   Name|\n",
            "+-------+\n",
            "|  Alice|\n",
            "|    Bob|\n",
            "|Unknown|\n",
            "|  David|\n",
            "|    Eva|\n",
            "|  Frank|\n",
            "|Unknown|\n",
            "|  Grace|\n",
            "+-------+\n",
            "\n"
          ]
        }
      ]
    },
    {
      "cell_type": "code",
      "source": [
        "employees_df = employees_df.withColumn(\"Salary\",when(col(\"Salary\").isNull(),0).otherwise(col(\"Salary\")))\n",
        "employees_df.select(\"Salary\").show()"
      ],
      "metadata": {
        "colab": {
          "base_uri": "https://localhost:8080/"
        },
        "id": "jGLGSRp9jkIT",
        "outputId": "a9e332e7-2713-4b96-b3ed-e1a7afb4d90a"
      },
      "execution_count": 58,
      "outputs": [
        {
          "output_type": "stream",
          "name": "stdout",
          "text": [
            "+-------+\n",
            "| Salary|\n",
            "+-------+\n",
            "|50000.0|\n",
            "|45000.0|\n",
            "|    0.0|\n",
            "|60000.0|\n",
            "|52000.0|\n",
            "|    0.0|\n",
            "|    0.0|\n",
            "|48000.0|\n",
            "+-------+\n",
            "\n"
          ]
        }
      ]
    }
  ]
}