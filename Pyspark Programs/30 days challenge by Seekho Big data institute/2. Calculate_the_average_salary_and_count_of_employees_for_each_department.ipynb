{
  "nbformat": 4,
  "nbformat_minor": 0,
  "metadata": {
    "colab": {
      "provenance": [],
      "authorship_tag": "ABX9TyP0qdcPdy0t1ryLVEcakRk3",
      "include_colab_link": true
    },
    "kernelspec": {
      "name": "python3",
      "display_name": "Python 3"
    },
    "language_info": {
      "name": "python"
    }
  },
  "cells": [
    {
      "cell_type": "markdown",
      "metadata": {
        "id": "view-in-github",
        "colab_type": "text"
      },
      "source": [
        "<a href=\"https://colab.research.google.com/github/RajaSuhashKesari/MyDataEngineeringPractices/blob/main/Pyspark%20Programs/30%20days%20challenge%20by%20Seekho%20Big%20data%20institute/2.%20Calculate_the_average_salary_and_count_of_employees_for_each_department.ipynb\" target=\"_parent\"><img src=\"https://colab.research.google.com/assets/colab-badge.svg\" alt=\"Open In Colab\"/></a>"
      ]
    },
    {
      "cell_type": "markdown",
      "source": [
        "## **importing dependencies**"
      ],
      "metadata": {
        "id": "s7FgGxRqyI9z"
      }
    },
    {
      "cell_type": "code",
      "execution_count": 1,
      "metadata": {
        "id": "-B1YOyxstWXf"
      },
      "outputs": [],
      "source": [
        "from pyspark.sql import SparkSession\n",
        "from pyspark.sql.functions import col,count,avg\n",
        "spark  = SparkSession.builder.master('local[*]').appName(\"Calculate the average salary and count of employees for each department\").getOrCreate()"
      ]
    },
    {
      "cell_type": "code",
      "source": [
        "data = [\n",
        " (\"Sales\", 5000, \"John\"),\n",
        " (\"Sales\", 6000, \"Doe\"),\n",
        " (\"HR\", 7000, \"Jane\"),\n",
        " (\"HR\", 8000, \"Alice\"),\n",
        " (\"IT\", 4500, \"Bob\"),\n",
        " (\"IT\", 5500, \"Charlie\"),\n",
        "]"
      ],
      "metadata": {
        "id": "HHD8dpNdvRMa"
      },
      "execution_count": 2,
      "outputs": []
    },
    {
      "cell_type": "markdown",
      "source": [
        "## **Creating Dataframe**"
      ],
      "metadata": {
        "id": "TQHT1HV6x6Uz"
      }
    },
    {
      "cell_type": "code",
      "source": [
        "employees_df = spark.createDataFrame(data, ['Departments','Salary','Name'])\n",
        "employees_df.show()"
      ],
      "metadata": {
        "colab": {
          "base_uri": "https://localhost:8080/"
        },
        "id": "d4Z57mk_vVxS",
        "outputId": "bdbec76f-8408-4d17-de7c-bfa127f59b06"
      },
      "execution_count": 6,
      "outputs": [
        {
          "output_type": "stream",
          "name": "stdout",
          "text": [
            "+-----------+------+-------+\n",
            "|Departments|Salary|   Name|\n",
            "+-----------+------+-------+\n",
            "|      Sales|  5000|   John|\n",
            "|      Sales|  6000|    Doe|\n",
            "|         HR|  7000|   Jane|\n",
            "|         HR|  8000|  Alice|\n",
            "|         IT|  4500|    Bob|\n",
            "|         IT|  5500|Charlie|\n",
            "+-----------+------+-------+\n",
            "\n"
          ]
        }
      ]
    },
    {
      "cell_type": "markdown",
      "source": [
        "## **Calculating AVG Salary and Count of Employees by Department**"
      ],
      "metadata": {
        "id": "7NqVD9M5wQVc"
      }
    },
    {
      "cell_type": "code",
      "source": [
        "avg_count_by_dept_df = employees_df.groupBy('Departments').agg(avg(col('Salary')).alias(\"Average Salary by Dept\"),count(col('Name')).alias(\"Count of Employees\"))\n",
        "avg_count_by_dept_df.show()"
      ],
      "metadata": {
        "colab": {
          "base_uri": "https://localhost:8080/"
        },
        "id": "6HNVxIyEwFT7",
        "outputId": "ef20ef96-8408-41dc-ad12-c10b35119ed9"
      },
      "execution_count": 8,
      "outputs": [
        {
          "output_type": "stream",
          "name": "stdout",
          "text": [
            "+-----------+----------------------+------------------+\n",
            "|Departments|Average Salary by Dept|Count of Employees|\n",
            "+-----------+----------------------+------------------+\n",
            "|      Sales|                5500.0|                 2|\n",
            "|         HR|                7500.0|                 2|\n",
            "|         IT|                5000.0|                 2|\n",
            "+-----------+----------------------+------------------+\n",
            "\n"
          ]
        }
      ]
    },
    {
      "cell_type": "code",
      "source": [],
      "metadata": {
        "id": "fa_qNf-QvuvB"
      },
      "execution_count": null,
      "outputs": []
    }
  ]
}