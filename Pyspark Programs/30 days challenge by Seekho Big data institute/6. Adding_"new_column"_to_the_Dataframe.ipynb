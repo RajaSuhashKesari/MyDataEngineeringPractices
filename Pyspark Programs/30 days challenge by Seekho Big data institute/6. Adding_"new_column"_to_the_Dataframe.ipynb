{
  "nbformat": 4,
  "nbformat_minor": 0,
  "metadata": {
    "colab": {
      "provenance": [],
      "authorship_tag": "ABX9TyMJNM0XyD1qNv7nF5lfytAh",
      "include_colab_link": true
    },
    "kernelspec": {
      "name": "python3",
      "display_name": "Python 3"
    },
    "language_info": {
      "name": "python"
    }
  },
  "cells": [
    {
      "cell_type": "markdown",
      "metadata": {
        "id": "view-in-github",
        "colab_type": "text"
      },
      "source": [
        "<a href=\"https://colab.research.google.com/github/RajaSuhashKesari/MyDataEngineeringPractices/blob/main/Pyspark%20Programs/30%20days%20challenge%20by%20Seekho%20Big%20data%20institute/6.%20Adding_%22new_column%22_to_the_Dataframe.ipynb\" target=\"_parent\"><img src=\"https://colab.research.google.com/assets/colab-badge.svg\" alt=\"Open In Colab\"/></a>"
      ]
    },
    {
      "cell_type": "code",
      "execution_count": 11,
      "metadata": {
        "id": "HaOKsfl5swS_"
      },
      "outputs": [],
      "source": [
        "from pyspark.sql import SparkSession\n",
        "from pyspark.sql.functions import col\n",
        "spark = SparkSession.builder.master(\"local[*]\").appName(\"Add new column to dataframe\").getOrCreate()"
      ]
    },
    {
      "cell_type": "markdown",
      "source": [
        "## **Data**"
      ],
      "metadata": {
        "id": "qAvtLz2strBJ"
      }
    },
    {
      "cell_type": "code",
      "source": [
        "data = [(\"John\", 28, \"New York\"), (\"Sarah\", 24, \"London\"), (\"Michael\", 30, \"Sydney\")]\n",
        "columns = [\"Name\", \"Age\", \"City\"]"
      ],
      "metadata": {
        "id": "ngXpBPYwtpj4"
      },
      "execution_count": 12,
      "outputs": []
    },
    {
      "cell_type": "markdown",
      "source": [
        "## **Create Dataframe**"
      ],
      "metadata": {
        "id": "76Ul7K4WtvUB"
      }
    },
    {
      "cell_type": "code",
      "source": [
        "people_df = spark.createDataFrame(data,columns)\n",
        "people_df.show()"
      ],
      "metadata": {
        "colab": {
          "base_uri": "https://localhost:8080/"
        },
        "id": "r0mMrWjCt0C1",
        "outputId": "b521fe4c-bbb8-46d0-a58a-6cb8b9943280"
      },
      "execution_count": 13,
      "outputs": [
        {
          "output_type": "stream",
          "name": "stdout",
          "text": [
            "+-------+---+--------+\n",
            "|   Name|Age|    City|\n",
            "+-------+---+--------+\n",
            "|   John| 28|New York|\n",
            "|  Sarah| 24|  London|\n",
            "|Michael| 30|  Sydney|\n",
            "+-------+---+--------+\n",
            "\n"
          ]
        }
      ]
    },
    {
      "cell_type": "markdown",
      "source": [
        "## **Mappings**"
      ],
      "metadata": {
        "id": "yX-pm6HJuaot"
      }
    },
    {
      "cell_type": "code",
      "source": [
        "mappings = ((\"New York\", \"USA\"),(\"London\", \"UK\"),(\"Sydney\", \"Australia\"))"
      ],
      "metadata": {
        "id": "kyun0EX8wj35"
      },
      "execution_count": 14,
      "outputs": []
    },
    {
      "cell_type": "code",
      "source": [
        "city_and_countries_df = spark.createDataFrame(mappings,[\"City\",\"Country\"])\n",
        "city_and_countries_df.show()"
      ],
      "metadata": {
        "colab": {
          "base_uri": "https://localhost:8080/"
        },
        "id": "UETl7m75wO1S",
        "outputId": "50d5db17-ad38-49e5-a6bf-d96ed2ecb8fb"
      },
      "execution_count": 15,
      "outputs": [
        {
          "output_type": "stream",
          "name": "stdout",
          "text": [
            "+--------+---------+\n",
            "|    City|  Country|\n",
            "+--------+---------+\n",
            "|New York|      USA|\n",
            "|  London|       UK|\n",
            "|  Sydney|Australia|\n",
            "+--------+---------+\n",
            "\n"
          ]
        }
      ]
    },
    {
      "cell_type": "markdown",
      "source": [
        "## **Adding New Column Country**"
      ],
      "metadata": {
        "id": "GohdPFt4vEMA"
      }
    },
    {
      "cell_type": "code",
      "source": [
        "people_df = people_df.join(city_and_countries_df,on = \"City\", how = \"left\").select(\"Name\",\"Age\",\"City\",\"Country\")\n",
        "people_df.show()"
      ],
      "metadata": {
        "colab": {
          "base_uri": "https://localhost:8080/"
        },
        "id": "XCIg_7oBvDPN",
        "outputId": "0e15193e-ee1c-4931-f1fa-922cdea3415c"
      },
      "execution_count": 16,
      "outputs": [
        {
          "output_type": "stream",
          "name": "stdout",
          "text": [
            "+-------+---+--------+---------+\n",
            "|   Name|Age|    City|  Country|\n",
            "+-------+---+--------+---------+\n",
            "|   John| 28|New York|      USA|\n",
            "|  Sarah| 24|  London|       UK|\n",
            "|Michael| 30|  Sydney|Australia|\n",
            "+-------+---+--------+---------+\n",
            "\n"
          ]
        }
      ]
    },
    {
      "cell_type": "code",
      "source": [
        "spark.stop()"
      ],
      "metadata": {
        "id": "n-lBrdoLtecS"
      },
      "execution_count": 17,
      "outputs": []
    }
  ]
}