{
  "nbformat": 4,
  "nbformat_minor": 0,
  "metadata": {
    "colab": {
      "provenance": [],
      "authorship_tag": "ABX9TyMqOPuiOnz/DWthCQEKTdQI",
      "include_colab_link": true
    },
    "kernelspec": {
      "name": "python3",
      "display_name": "Python 3"
    },
    "language_info": {
      "name": "python"
    }
  },
  "cells": [
    {
      "cell_type": "markdown",
      "metadata": {
        "id": "view-in-github",
        "colab_type": "text"
      },
      "source": [
        "<a href=\"https://colab.research.google.com/github/RajaSuhashKesari/MyDataEngineeringPractices/blob/main/Pyspark%20Programs/30%20days%20challenge%20by%20Seekho%20Big%20data%20institute/8.%20get_all_employee_details%2C_including_the_department_name_using_left_join.ipynb\" target=\"_parent\"><img src=\"https://colab.research.google.com/assets/colab-badge.svg\" alt=\"Open In Colab\"/></a>"
      ]
    },
    {
      "cell_type": "code",
      "execution_count": 1,
      "metadata": {
        "id": "X8x-hacabNQ5"
      },
      "outputs": [],
      "source": [
        "from pyspark.sql import SparkSession\n",
        "spark = SparkSession.builder.master(\"local[*]\").appName(\"Join the Dataframes\").getOrCreate()"
      ]
    },
    {
      "cell_type": "code",
      "source": [
        "# Employee data\n",
        "employees_data = [\n",
        "    (1, \"Alice\", 10),\n",
        "    (2, \"Bob\", 20),\n",
        "    (3, \"Charlie\", None),\n",
        "    (4, \"David\", 30),\n",
        "    (5, \"Edward\", 40)\n",
        "]\n",
        "employees_columns = [\"emp_id\", \"name\", \"dept_id\"]\n",
        "\n",
        "employees_df = spark.createDataFrame(employees_data, employees_columns)\n",
        "\n",
        "# Department data\n",
        "departments_data = [\n",
        "    (10, \"HR\"),\n",
        "    (20, \"Finance\"),\n",
        "    (30, \"Marketing\"),\n",
        "]\n",
        "departments_columns = [\"dept_id\", \"dept_name\"]"
      ],
      "metadata": {
        "id": "ipuRx33jbl91"
      },
      "execution_count": 2,
      "outputs": []
    },
    {
      "cell_type": "markdown",
      "source": [
        "## **Creating Dataframes**"
      ],
      "metadata": {
        "id": "mEt7yfVQcIfN"
      }
    },
    {
      "cell_type": "code",
      "source": [
        "employees_df = spark.createDataFrame(employees_data, employees_columns)\n",
        "employees_df.show()"
      ],
      "metadata": {
        "colab": {
          "base_uri": "https://localhost:8080/"
        },
        "id": "mhz6nKKGbtpL",
        "outputId": "af4d5c9c-25a5-4c01-c8da-34452c38b348"
      },
      "execution_count": 3,
      "outputs": [
        {
          "output_type": "stream",
          "name": "stdout",
          "text": [
            "+------+-------+-------+\n",
            "|emp_id|   name|dept_id|\n",
            "+------+-------+-------+\n",
            "|     1|  Alice|     10|\n",
            "|     2|    Bob|     20|\n",
            "|     3|Charlie|   NULL|\n",
            "|     4|  David|     30|\n",
            "|     5| Edward|     40|\n",
            "+------+-------+-------+\n",
            "\n"
          ]
        }
      ]
    },
    {
      "cell_type": "code",
      "source": [
        "departments_df = spark.createDataFrame(departments_data, departments_columns)\n",
        "departments_df.show()"
      ],
      "metadata": {
        "colab": {
          "base_uri": "https://localhost:8080/"
        },
        "id": "KFp1yU3pbwab",
        "outputId": "6d03b06a-7aaa-422e-96a1-235ef301c1f1"
      },
      "execution_count": 4,
      "outputs": [
        {
          "output_type": "stream",
          "name": "stdout",
          "text": [
            "+-------+---------+\n",
            "|dept_id|dept_name|\n",
            "+-------+---------+\n",
            "|     10|       HR|\n",
            "|     20|  Finance|\n",
            "|     30|Marketing|\n",
            "+-------+---------+\n",
            "\n"
          ]
        }
      ]
    },
    {
      "cell_type": "markdown",
      "source": [
        "## **You need to perform a left join on employees with departments to get all employee details, including the department name.If an employee doesn't have a department, their department name should be null.**"
      ],
      "metadata": {
        "id": "0hobmY3LcQVM"
      }
    },
    {
      "cell_type": "code",
      "source": [
        "final_df = employees_df.join(departments_df,on = 'dept_id', how ='left').select('emp_id','name','dept_id','dept_name')\n",
        "final_df.show()"
      ],
      "metadata": {
        "colab": {
          "base_uri": "https://localhost:8080/"
        },
        "id": "Fz7br0-NbzRK",
        "outputId": "ed289751-2d61-4fc2-e1ff-d7703e7ab937"
      },
      "execution_count": 5,
      "outputs": [
        {
          "output_type": "stream",
          "name": "stdout",
          "text": [
            "+------+-------+-------+---------+\n",
            "|emp_id|   name|dept_id|dept_name|\n",
            "+------+-------+-------+---------+\n",
            "|     1|  Alice|     10|       HR|\n",
            "|     2|    Bob|     20|  Finance|\n",
            "|     3|Charlie|   NULL|     NULL|\n",
            "|     4|  David|     30|Marketing|\n",
            "|     5| Edward|     40|     NULL|\n",
            "+------+-------+-------+---------+\n",
            "\n"
          ]
        }
      ]
    },
    {
      "cell_type": "code",
      "source": [
        "spark.stop()"
      ],
      "metadata": {
        "id": "9tzNZ1zec5Fd"
      },
      "execution_count": 6,
      "outputs": []
    }
  ]
}