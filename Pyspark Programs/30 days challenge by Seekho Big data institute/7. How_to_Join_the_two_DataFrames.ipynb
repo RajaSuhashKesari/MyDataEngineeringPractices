{
  "nbformat": 4,
  "nbformat_minor": 0,
  "metadata": {
    "colab": {
      "provenance": [],
      "authorship_tag": "ABX9TyOV+H0UlmzuFATDprHWN2rL",
      "include_colab_link": true
    },
    "kernelspec": {
      "name": "python3",
      "display_name": "Python 3"
    },
    "language_info": {
      "name": "python"
    }
  },
  "cells": [
    {
      "cell_type": "markdown",
      "metadata": {
        "id": "view-in-github",
        "colab_type": "text"
      },
      "source": [
        "<a href=\"https://colab.research.google.com/github/RajaSuhashKesari/MyDataEngineeringPractices/blob/main/Pyspark%20Programs/30%20days%20challenge%20by%20Seekho%20Big%20data%20institute/7.%20How_to_Join_the_two_DataFrames.ipynb\" target=\"_parent\"><img src=\"https://colab.research.google.com/assets/colab-badge.svg\" alt=\"Open In Colab\"/></a>"
      ]
    },
    {
      "cell_type": "code",
      "execution_count": 1,
      "metadata": {
        "id": "X8x-hacabNQ5"
      },
      "outputs": [],
      "source": [
        "from pyspark.sql import SparkSession\n",
        "spark = SparkSession.builder.master(\"local[*]\").appName(\"Join the Dataframes\").getOrCreate()"
      ]
    },
    {
      "cell_type": "code",
      "source": [
        "# Employee data\n",
        "employees_data = [\n",
        "    (1, \"Alice\", 101),\n",
        "    (2, \"Bob\", 102),\n",
        "    (3, \"Carol\", 103),\n",
        "    (4, \"Dave\", 101),\n",
        "    (5, \"Eve\", 104)\n",
        "]\n",
        "employees_columns = [\"emp_id\", \"name\", \"dept_id\"]\n",
        "\n",
        "employees_df = spark.createDataFrame(employees_data, employees_columns)\n",
        "\n",
        "# Department data\n",
        "departments_data = [\n",
        "    (101, \"HR\"),\n",
        "    (102, \"Engineering\"),\n",
        "    (103, \"Marketing\"),\n",
        "    (105, \"Sales\")\n",
        "]\n",
        "departments_columns = [\"dept_id\", \"dept_name\"]"
      ],
      "metadata": {
        "id": "ipuRx33jbl91"
      },
      "execution_count": 7,
      "outputs": []
    },
    {
      "cell_type": "markdown",
      "source": [
        "## **Creating Dataframes**"
      ],
      "metadata": {
        "id": "mEt7yfVQcIfN"
      }
    },
    {
      "cell_type": "code",
      "source": [
        "employees_df = spark.createDataFrame(employees_data, employees_columns)\n",
        "employees_df.show()"
      ],
      "metadata": {
        "colab": {
          "base_uri": "https://localhost:8080/"
        },
        "id": "mhz6nKKGbtpL",
        "outputId": "0cc7bb07-a0d5-4627-fbdf-858b66c5173d"
      },
      "execution_count": 8,
      "outputs": [
        {
          "output_type": "stream",
          "name": "stdout",
          "text": [
            "+------+-----+-------+\n",
            "|emp_id| name|dept_id|\n",
            "+------+-----+-------+\n",
            "|     1|Alice|    101|\n",
            "|     2|  Bob|    102|\n",
            "|     3|Carol|    103|\n",
            "|     4| Dave|    101|\n",
            "|     5|  Eve|    104|\n",
            "+------+-----+-------+\n",
            "\n"
          ]
        }
      ]
    },
    {
      "cell_type": "code",
      "source": [
        "departments_df = spark.createDataFrame(departments_data, departments_columns)\n",
        "departments_df.show()"
      ],
      "metadata": {
        "colab": {
          "base_uri": "https://localhost:8080/"
        },
        "id": "KFp1yU3pbwab",
        "outputId": "55c22d69-4955-4594-d3cd-9a51e1c7a176"
      },
      "execution_count": 9,
      "outputs": [
        {
          "output_type": "stream",
          "name": "stdout",
          "text": [
            "+-------+-----------+\n",
            "|dept_id|  dept_name|\n",
            "+-------+-----------+\n",
            "|    101|         HR|\n",
            "|    102|Engineering|\n",
            "|    103|  Marketing|\n",
            "|    105|      Sales|\n",
            "+-------+-----------+\n",
            "\n"
          ]
        }
      ]
    },
    {
      "cell_type": "markdown",
      "source": [
        "## **Inner join the table**"
      ],
      "metadata": {
        "id": "0hobmY3LcQVM"
      }
    },
    {
      "cell_type": "code",
      "source": [
        "final_df = employees_df.join(departments_df,on = 'dept_id', how='inner').select('emp_id','name','dept_name')\n",
        "final_df.show()"
      ],
      "metadata": {
        "colab": {
          "base_uri": "https://localhost:8080/"
        },
        "id": "Fz7br0-NbzRK",
        "outputId": "b4fbd31f-b5a7-4d1c-839e-07501564f982"
      },
      "execution_count": 10,
      "outputs": [
        {
          "output_type": "stream",
          "name": "stdout",
          "text": [
            "+------+-----+-----------+\n",
            "|emp_id| name|  dept_name|\n",
            "+------+-----+-----------+\n",
            "|     1|Alice|         HR|\n",
            "|     4| Dave|         HR|\n",
            "|     2|  Bob|Engineering|\n",
            "|     3|Carol|  Marketing|\n",
            "+------+-----+-----------+\n",
            "\n"
          ]
        }
      ]
    },
    {
      "cell_type": "code",
      "source": [
        "spark.stop()"
      ],
      "metadata": {
        "id": "9tzNZ1zec5Fd"
      },
      "execution_count": 11,
      "outputs": []
    }
  ]
}