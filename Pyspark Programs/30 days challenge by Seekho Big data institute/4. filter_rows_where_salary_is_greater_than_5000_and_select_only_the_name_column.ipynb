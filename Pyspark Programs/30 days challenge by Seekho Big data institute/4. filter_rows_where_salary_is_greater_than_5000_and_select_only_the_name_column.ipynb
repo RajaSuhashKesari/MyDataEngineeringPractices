{
  "nbformat": 4,
  "nbformat_minor": 0,
  "metadata": {
    "colab": {
      "provenance": [],
      "authorship_tag": "ABX9TyPypRbpXRTye8MEZ50AonYx",
      "include_colab_link": true
    },
    "kernelspec": {
      "name": "python3",
      "display_name": "Python 3"
    },
    "language_info": {
      "name": "python"
    }
  },
  "cells": [
    {
      "cell_type": "markdown",
      "metadata": {
        "id": "view-in-github",
        "colab_type": "text"
      },
      "source": [
        "<a href=\"https://colab.research.google.com/github/RajaSuhashKesari/MyDataEngineeringPractices/blob/main/Pyspark%20Programs/30%20days%20challenge%20by%20Seekho%20Big%20data%20institute/4.%20filter_rows_where_salary_is_greater_than_5000_and_select_only_the_name_column.ipynb\" target=\"_parent\"><img src=\"https://colab.research.google.com/assets/colab-badge.svg\" alt=\"Open In Colab\"/></a>"
      ]
    },
    {
      "cell_type": "code",
      "execution_count": 1,
      "metadata": {
        "id": "tHt2mSEBrF0_"
      },
      "outputs": [],
      "source": [
        "from pyspark.sql import SparkSession\n",
        "spark = SparkSession.builder.master(\"local[*]\").appName(\"Filtering row using condition\").getOrCreate()"
      ]
    },
    {
      "cell_type": "code",
      "source": [
        "data = [\n",
        "    (1,\"Alice\",4000),\n",
        "    (2,\"Bob\",6000),\n",
        "    (3,\"Charlie\",5500),\n",
        "    (4,\"David\",4500),\n",
        "    (5,\"Eve\",7000)\n",
        "]"
      ],
      "metadata": {
        "id": "yU-crZYDruNU"
      },
      "execution_count": 2,
      "outputs": []
    },
    {
      "cell_type": "code",
      "source": [
        "columns = [\"ID\",\"Name\",\"Salary\"]"
      ],
      "metadata": {
        "id": "IrKBnP-zskSK"
      },
      "execution_count": 3,
      "outputs": []
    },
    {
      "cell_type": "markdown",
      "source": [
        "## **Create Dataframe**"
      ],
      "metadata": {
        "id": "4Wle0qMwUvwo"
      }
    },
    {
      "cell_type": "code",
      "source": [
        "df = spark.createDataFrame(data,columns)\n",
        "df.show()"
      ],
      "metadata": {
        "colab": {
          "base_uri": "https://localhost:8080/"
        },
        "id": "HKc_ZYOBU0m6",
        "outputId": "ac4adc5a-4fa2-480d-b2cf-4488aa985858"
      },
      "execution_count": 4,
      "outputs": [
        {
          "output_type": "stream",
          "name": "stdout",
          "text": [
            "+---+-------+------+\n",
            "| ID|   Name|Salary|\n",
            "+---+-------+------+\n",
            "|  1|  Alice|  4000|\n",
            "|  2|    Bob|  6000|\n",
            "|  3|Charlie|  5500|\n",
            "|  4|  David|  4500|\n",
            "|  5|    Eve|  7000|\n",
            "+---+-------+------+\n",
            "\n"
          ]
        }
      ]
    },
    {
      "cell_type": "markdown",
      "source": [
        "# **Filter rows where salary is greater than 5000 and select only the name column**"
      ],
      "metadata": {
        "id": "uBy3FhVwVGu8"
      }
    },
    {
      "cell_type": "code",
      "source": [
        "df.filter(df.Salary>5000).select(df.Name).show()"
      ],
      "metadata": {
        "colab": {
          "base_uri": "https://localhost:8080/"
        },
        "id": "PwqXIsizVBOh",
        "outputId": "b1412e5b-f7c7-4337-8921-1b7f605c599e"
      },
      "execution_count": 5,
      "outputs": [
        {
          "output_type": "stream",
          "name": "stdout",
          "text": [
            "+-------+\n",
            "|   Name|\n",
            "+-------+\n",
            "|    Bob|\n",
            "|Charlie|\n",
            "|    Eve|\n",
            "+-------+\n",
            "\n"
          ]
        }
      ]
    },
    {
      "cell_type": "code",
      "source": [
        "spark.stop()"
      ],
      "metadata": {
        "id": "HmQBGgiTVfE6"
      },
      "execution_count": 6,
      "outputs": []
    }
  ]
}