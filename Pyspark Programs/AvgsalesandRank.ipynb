{
  "nbformat": 4,
  "nbformat_minor": 0,
  "metadata": {
    "colab": {
      "provenance": [],
      "authorship_tag": "ABX9TyN75/L2uQpbg9rWuaFAe3sJ",
      "include_colab_link": true
    },
    "kernelspec": {
      "name": "python3",
      "display_name": "Python 3"
    },
    "language_info": {
      "name": "python"
    }
  },
  "cells": [
    {
      "cell_type": "markdown",
      "metadata": {
        "id": "view-in-github",
        "colab_type": "text"
      },
      "source": [
        "<a href=\"https://colab.research.google.com/github/RajaSuhashKesari/MyDataEngineeringPractices/blob/main/AvgsalesandRank.ipynb\" target=\"_parent\"><img src=\"https://colab.research.google.com/assets/colab-badge.svg\" alt=\"Open In Colab\"/></a>"
      ]
    },
    {
      "cell_type": "code",
      "execution_count": 48,
      "metadata": {
        "id": "5dkq0jIyFTwL"
      },
      "outputs": [],
      "source": [
        "from pyspark.sql import SparkSession\n",
        "from pyspark.sql import functions as F\n",
        "from pyspark.sql.window import Window as W"
      ]
    },
    {
      "cell_type": "code",
      "source": [
        "spark = SparkSession.builder.appName('test').getOrCreate()"
      ],
      "metadata": {
        "id": "Y4kuGGOSFd6Y"
      },
      "execution_count": 49,
      "outputs": []
    },
    {
      "cell_type": "code",
      "source": [
        "data = [\n",
        "    (1, 151),\n",
        "    (1, 150),\n",
        "    (1, 50),\n",
        "    (1, 200),\n",
        "    (1, 50),  # Duplicate of 50\n",
        "    (2, 300),\n",
        "    (2, 30111),\n",
        "    (3, 150),\n",
        "    (3, 150),\n",
        "    (3, 152)\n",
        "]\n",
        "\n",
        "df = spark.createDataFrame(data, [\"id\", \"sales\"])\n",
        "df.show()"
      ],
      "metadata": {
        "colab": {
          "base_uri": "https://localhost:8080/",
          "height": 0
        },
        "id": "YF2xevvFFjIZ",
        "outputId": "c9534b21-665b-4025-b54f-f75ea6ac1c5a"
      },
      "execution_count": 50,
      "outputs": [
        {
          "output_type": "stream",
          "name": "stdout",
          "text": [
            "+---+-----+\n",
            "| id|sales|\n",
            "+---+-----+\n",
            "|  1|  151|\n",
            "|  1|  150|\n",
            "|  1|   50|\n",
            "|  1|  200|\n",
            "|  1|   50|\n",
            "|  2|  300|\n",
            "|  2|30111|\n",
            "|  3|  150|\n",
            "|  3|  150|\n",
            "|  3|  152|\n",
            "+---+-----+\n",
            "\n"
          ]
        }
      ]
    },
    {
      "cell_type": "markdown",
      "source": [
        "# Average Sales by Id"
      ],
      "metadata": {
        "id": "8uzJgF-FdMN6"
      }
    },
    {
      "cell_type": "code",
      "source": [
        "avg_sales_per_id = df.groupBy(\"id\").agg(F.avg(\"sales\")).alias(\"avg_sales_per_id\")\n",
        "avg_sales_per_id.show()"
      ],
      "metadata": {
        "colab": {
          "base_uri": "https://localhost:8080/",
          "height": 0
        },
        "id": "edk1opBqcsdo",
        "outputId": "43080d01-60dc-4c2f-8ba2-94a421dd2e16"
      },
      "execution_count": 51,
      "outputs": [
        {
          "output_type": "stream",
          "name": "stdout",
          "text": [
            "+---+------------------+\n",
            "| id|        avg(sales)|\n",
            "+---+------------------+\n",
            "|  1|             120.2|\n",
            "|  3|150.66666666666666|\n",
            "|  2|           15205.5|\n",
            "+---+------------------+\n",
            "\n"
          ]
        }
      ]
    },
    {
      "cell_type": "code",
      "source": [
        "wind_spec = W.orderBy(\"sales\")\n",
        "\n",
        "ranked_df = df.withColumn(\"Dense Rank\",F.dense_rank().over(wind_spec))\n",
        "ranked_df.show()"
      ],
      "metadata": {
        "colab": {
          "base_uri": "https://localhost:8080/",
          "height": 0
        },
        "id": "XetWOUpXdCQl",
        "outputId": "06b6fe8f-1d97-49dd-8ae6-dfaa11c613b5"
      },
      "execution_count": 59,
      "outputs": [
        {
          "output_type": "stream",
          "name": "stdout",
          "text": [
            "+---+-----+----------+\n",
            "| id|sales|Dense Rank|\n",
            "+---+-----+----------+\n",
            "|  1|   50|         1|\n",
            "|  1|   50|         1|\n",
            "|  1|  150|         2|\n",
            "|  3|  150|         2|\n",
            "|  3|  150|         2|\n",
            "|  1|  151|         3|\n",
            "|  3|  152|         4|\n",
            "|  1|  200|         5|\n",
            "|  2|  300|         6|\n",
            "|  2|30111|         7|\n",
            "+---+-----+----------+\n",
            "\n"
          ]
        }
      ]
    },
    {
      "cell_type": "markdown",
      "source": [
        "# Second Least Sales"
      ],
      "metadata": {
        "id": "4dyG4Pw1kyJs"
      }
    },
    {
      "cell_type": "code",
      "source": [
        "second_least_sales = ranked_df.filter(F.col(\"Dense Rank\") ==2)\n",
        "second_least_sales.show()"
      ],
      "metadata": {
        "colab": {
          "base_uri": "https://localhost:8080/",
          "height": 0
        },
        "id": "UAgXrzyseF6c",
        "outputId": "33ab7561-21a5-439d-9e11-7bb005877048"
      },
      "execution_count": 65,
      "outputs": [
        {
          "output_type": "stream",
          "name": "stdout",
          "text": [
            "+---+-----+----------+\n",
            "| id|sales|Dense Rank|\n",
            "+---+-----+----------+\n",
            "|  1|  150|         2|\n",
            "|  3|  150|         2|\n",
            "|  3|  150|         2|\n",
            "+---+-----+----------+\n",
            "\n"
          ]
        }
      ]
    }
  ]
}
