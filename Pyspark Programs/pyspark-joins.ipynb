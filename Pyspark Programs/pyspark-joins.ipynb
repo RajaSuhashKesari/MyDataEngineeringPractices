{
  "nbformat": 4,
  "nbformat_minor": 0,
  "metadata": {
    "colab": {
      "provenance": [],
      "authorship_tag": "ABX9TyPvATV+CepXG/2lpeydhvKS",
      "include_colab_link": true
    },
    "kernelspec": {
      "name": "python3",
      "display_name": "Python 3"
    },
    "language_info": {
      "name": "python"
    }
  },
  "cells": [
    {
      "cell_type": "markdown",
      "metadata": {
        "id": "view-in-github",
        "colab_type": "text"
      },
      "source": [
        "<a href=\"https://colab.research.google.com/github/RajaSuhashKesari/MyDataEngineeringPractices/blob/main/Pyspark%20Programs/pyspark-joins.ipynb\" target=\"_parent\"><img src=\"https://colab.research.google.com/assets/colab-badge.svg\" alt=\"Open In Colab\"/></a>"
      ]
    },
    {
      "cell_type": "code",
      "execution_count": 1,
      "metadata": {
        "id": "BRbpQeCxFckg"
      },
      "outputs": [],
      "source": [
        "from pyspark.sql import SparkSession"
      ]
    },
    {
      "cell_type": "code",
      "source": [
        "spark=SparkSession.builder.appName('Extend Column').getOrCreate()"
      ],
      "metadata": {
        "id": "nPC6GSfXFiVe"
      },
      "execution_count": 2,
      "outputs": []
    },
    {
      "cell_type": "code",
      "source": [
        "data1= [[ \"John\",28, \"New York\"],[\"Sarah\" ,24 , \"London\"],[\"Michael\", 30 , \"Sydney\"]]"
      ],
      "metadata": {
        "id": "mwD9gggMGHH9"
      },
      "execution_count": 3,
      "outputs": []
    },
    {
      "cell_type": "code",
      "source": [
        "df1 = spark.createDataFrame(data1, [\"Name\", \"Age\", \"City\"])\n",
        "df1.show()"
      ],
      "metadata": {
        "colab": {
          "base_uri": "https://localhost:8080/"
        },
        "id": "k70B44q8FvVX",
        "outputId": "44977fe6-c346-43d5-da54-321f9ebbb89c"
      },
      "execution_count": 4,
      "outputs": [
        {
          "output_type": "stream",
          "name": "stdout",
          "text": [
            "+-------+---+--------+\n",
            "|   Name|Age|    City|\n",
            "+-------+---+--------+\n",
            "|   John| 28|New York|\n",
            "|  Sarah| 24|  London|\n",
            "|Michael| 30|  Sydney|\n",
            "+-------+---+--------+\n",
            "\n"
          ]
        }
      ]
    },
    {
      "cell_type": "code",
      "source": [
        "data2 = [[\"New York\" , \"USA\"],[\"London\" , \"UK\"],[\"Sydney\" , \"Australia\"]]"
      ],
      "metadata": {
        "id": "3JFXAb8eG36M"
      },
      "execution_count": 5,
      "outputs": []
    },
    {
      "cell_type": "code",
      "source": [
        "df2 = spark.createDataFrame(data2, [\"City\", \"Country\"])\n",
        "df2.show()"
      ],
      "metadata": {
        "colab": {
          "base_uri": "https://localhost:8080/"
        },
        "id": "fkgIKaP8HM8V",
        "outputId": "fd695a55-faaf-4e14-f361-17530ae3b867"
      },
      "execution_count": 6,
      "outputs": [
        {
          "output_type": "stream",
          "name": "stdout",
          "text": [
            "+--------+---------+\n",
            "|    City|  Country|\n",
            "+--------+---------+\n",
            "|New York|      USA|\n",
            "|  London|       UK|\n",
            "|  Sydney|Australia|\n",
            "+--------+---------+\n",
            "\n"
          ]
        }
      ]
    },
    {
      "cell_type": "markdown",
      "source": [
        "# Join\n"
      ],
      "metadata": {
        "id": "ZFGlgt0WHnGM"
      }
    },
    {
      "cell_type": "code",
      "source": [
        "Expected_output = df1.join(df2, on=\"City\", how=\"left\").select(\"Name\",\"Age\",\"City\",\"Country\")\n",
        "Expected_output.show()"
      ],
      "metadata": {
        "colab": {
          "base_uri": "https://localhost:8080/"
        },
        "id": "ZcQR24SPHlT1",
        "outputId": "3b250880-a6c2-4622-9363-26f91a6ac474"
      },
      "execution_count": 7,
      "outputs": [
        {
          "output_type": "stream",
          "name": "stdout",
          "text": [
            "+-------+---+--------+---------+\n",
            "|   Name|Age|    City|  Country|\n",
            "+-------+---+--------+---------+\n",
            "|   John| 28|New York|      USA|\n",
            "|  Sarah| 24|  London|       UK|\n",
            "|Michael| 30|  Sydney|Australia|\n",
            "+-------+---+--------+---------+\n",
            "\n"
          ]
        }
      ]
    }
  ]
}